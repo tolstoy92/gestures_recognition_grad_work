{
 "cells": [
  {
   "cell_type": "code",
   "execution_count": 16,
   "metadata": {},
   "outputs": [],
   "source": [
    "import os\n",
    "import cv2\n",
    "import numpy as np\n",
    "\n",
    "from src.PoseExtractor import PoseExtractor\n",
    "from src.data_processing.pose_utils import *"
   ]
  },
  {
   "cell_type": "code",
   "execution_count": 17,
   "metadata": {},
   "outputs": [],
   "source": [
    "pose_extracotr = PoseExtractor()"
   ]
  },
  {
   "cell_type": "code",
   "execution_count": 55,
   "metadata": {},
   "outputs": [],
   "source": [
    "top_pose_points = [0, 2, 3, 4, 5, 6, 7, 8, 9, 12, 15, 16, 17, 18]\n",
    "central_point_index = 1\n",
    "\n",
    "\n",
    "def get_biggest_pose(poses):\n",
    "    max_distance = -1\n",
    "    biggest_pose = None\n",
    "    if len(poses):\n",
    "        for pose in poses:\n",
    "            pose_key_point1 = pose.points[1]\n",
    "            pose_key_point2 = pose.points[8]\n",
    "            if all(pose_key_point1.int_xy) and all(pose_key_point2.int_xy):\n",
    "                distance = get_distance_between_points(pose_key_point1, pose_key_point2)\n",
    "                if distance >= max_distance:\n",
    "                    max_distance = distance\n",
    "                    biggest_pose = pose\n",
    "        return biggest_pose\n",
    "\n",
    "    \n",
    "def extract_features(pose, central_point_idx, specific_points):\n",
    "    assert central_point_idx not in specific_points\n",
    "    \n",
    "    rescaled_pose = rescale_pose(pose)\n",
    "    central_point = rescaled_pose.points[central_point_idx]\n",
    "    \n",
    "    features = []\n",
    "    \n",
    "    for current_points_idx in specific_points:\n",
    "        current_point = rescaled_pose.points[current_points_idx]\n",
    "\n",
    "        dx = central_point.x - current_point.x\n",
    "        dy = central_point.y - current_point.y\n",
    "    \n",
    "        features.append(dx)\n",
    "        features.append(dy)\n",
    "    \n",
    "    return np.array(features)\n",
    "\n",
    "    \n",
    "def extract_features_sequence_from_video(path_to_video, counter=None):\n",
    "    cap = cv2.VideoCapture(path_to_video)\n",
    "    \n",
    "    features_sequence_original = []\n",
    "    features_sequence_flipped = []\n",
    "    while True:\n",
    "        ret, img = cap.read()\n",
    "        if not ret:\n",
    "            cap.release()\n",
    "            return np.array(features_sequence_original), np.array(features_sequence_flipped)\n",
    "        \n",
    "        poses = pose_extracotr.extract_poses_from_image(img)\n",
    "        actual_pose = get_biggest_pose(poses)\n",
    "        \n",
    "        \n",
    "        flipped_image = cv2.flip(img, 1)\n",
    "        poses_flipped = pose_extracotr.extract_poses_from_image(flipped_image)\n",
    "        actual_pose_flipped = get_biggest_pose(poses_flipped)\n",
    "\n",
    "        if actual_pose is None or actual_pose_flipped is None:\n",
    "            continue\n",
    "        \n",
    "        for p in actual_pose.points:\n",
    "            cv2.circle(img, (int(p.x), int(p.y)), 3, (255, 0, 0))\n",
    "        \n",
    "        for p in actual_pose_flipped.points:\n",
    "            cv2.circle(flipped_image, (int(p.x), int(p.y)), 3, (255, 0, 0))\n",
    "        \n",
    "        if counter is not None:\n",
    "            cv2.putText(img, str(counter), (20, 20), cv2.FONT_HERSHEY_SIMPLEX, 0.8, (0, 255, 100))\n",
    "        \n",
    "        to_show =np.hstack([img, flipped_image])\n",
    "        cv2.imshow(\"img\", to_show)\n",
    "        cv2.waitKey(1)\n",
    "        \n",
    "        features = extract_features(actual_pose, central_point_index, top_pose_points)\n",
    "        features_sequence_original.append(features)\n",
    "        \n",
    "        features_flipped = extract_features(actual_pose_flipped, central_point_index, top_pose_points)\n",
    "        features_sequence_flipped.append(features_flipped)"
   ]
  },
  {
   "cell_type": "code",
   "execution_count": 52,
   "metadata": {},
   "outputs": [],
   "source": [
    "video_dir = \"/home/user/Desktop/videos\"\n",
    "gesture_folder = \"come_on\"\n",
    "\n",
    "full_features_list_from_all_come_on = []\n",
    "full_features_list_from_all_come_on_flipped = []\n",
    "\n",
    "\n",
    "full_dir_path = os.path.join(video_dir, gesture_folder) \n",
    "\n",
    "\n",
    "video_counter = 0\n",
    "for f_name in os.listdir(full_dir_path):\n",
    "    actual_video_path = os.path.join(full_dir_path, f_name)\n",
    "    features, features_flipped = extract_features_sequence_from_video(actual_video_path, video_counter)\n",
    "    full_features_list_from_all_come_on.append(features)\n",
    "    full_features_list_from_all_come_on_flipped.append(features_flipped)\n",
    "\n",
    "    video_counter += 1\n",
    "cv2.destroyAllWindows()\n"
   ]
  },
  {
   "cell_type": "code",
   "execution_count": 69,
   "metadata": {},
   "outputs": [],
   "source": [
    "full_features_list_from_all_come_on_flipped_np = np.array(full_features_list_from_all_come_on_flipped)\n",
    "full_features_list_from_all_come_on_np = np.array(full_features_list_from_all_come_on)\n",
    "come_on = np.concatenate([full_features_list_from_all_come_on_flipped_np, full_features_list_from_all_come_on_np])\n",
    "np.save(\"come_on.npy\", come_on)"
   ]
  },
  {
   "cell_type": "code",
   "execution_count": 63,
   "metadata": {},
   "outputs": [],
   "source": [
    "video_dir = \"/home/user/Desktop/videos\"\n",
    "gesture_folder = \"stop\"\n",
    "\n",
    "full_features_list_from_all_stop = []\n",
    "full_features_list_from_all_stop_flipped = []\n",
    "\n",
    "\n",
    "full_dir_path = os.path.join(video_dir, gesture_folder) \n",
    "\n",
    "\n",
    "video_counter = 0\n",
    "for f_name in os.listdir(full_dir_path):\n",
    "    video_num = int(f_name.split(\".\")[0])  \n",
    "    actual_video_path = os.path.join(full_dir_path, f_name)\n",
    "    features, features_flipped = extract_features_sequence_from_video(actual_video_path, video_counter)\n",
    "    full_features_list_from_all_stop.append(features)\n",
    "    full_features_list_from_all_stop_flipped.append(features_flipped)\n",
    "\n",
    "    video_counter += 1\n",
    "cv2.destroyAllWindows()"
   ]
  },
  {
   "cell_type": "code",
   "execution_count": 84,
   "metadata": {},
   "outputs": [],
   "source": [
    "full_features_list_from_all_stop_np = np.array(full_features_list_from_all_stop)\n",
    "full_features_list_from_all_stop_flipped_np = np.array(full_features_list_from_all_stop_flipped)\n",
    "stop = np.concatenate([full_features_list_from_all_stop_flipped_np, full_features_list_from_all_stop_np])\n",
    "np.save(\"stop.npy\", stop)"
   ]
  },
  {
   "cell_type": "code",
   "execution_count": 87,
   "metadata": {},
   "outputs": [],
   "source": [
    "video_dir = \"/home/user/Desktop/videos\"\n",
    "gesture_folder = \"go_away\"\n",
    "\n",
    "full_features_list_from_all_go_away = []\n",
    "full_features_list_from_all_go_away_flipped = []\n",
    "\n",
    "\n",
    "full_dir_path = os.path.join(video_dir, gesture_folder) \n",
    "\n",
    "\n",
    "video_counter = 0\n",
    "for f_name in os.listdir(full_dir_path):\n",
    "    actual_video_path = os.path.join(full_dir_path, f_name)\n",
    "    features, features_flipped = extract_features_sequence_from_video(actual_video_path, video_counter)\n",
    "    full_features_list_from_all_go_away.append(features)\n",
    "    full_features_list_from_all_go_away_flipped.append(features_flipped)\n",
    "\n",
    "    video_counter += 1\n",
    "cv2.destroyAllWindows()"
   ]
  },
  {
   "cell_type": "code",
   "execution_count": 88,
   "metadata": {},
   "outputs": [],
   "source": [
    "full_features_list_from_all_go_away_np = np.array(full_features_list_from_all_go_away)\n",
    "full_features_list_from_all_go_away_flipped_np = np.array(full_features_list_from_all_go_away_flipped)\n",
    "go_away = np.concatenate([full_features_list_from_all_go_away_flipped_np, full_features_list_from_all_go_away_np])\n",
    "np.save(\"go_away.npy\", go_away)"
   ]
  },
  {
   "cell_type": "code",
   "execution_count": 90,
   "metadata": {},
   "outputs": [],
   "source": [
    "video_dir = \"/home/user/Desktop/videos\"\n",
    "gesture_folder = \"look_at_me\"\n",
    "\n",
    "full_features_list_from_all_look_at_me = []\n",
    "full_features_list_from_all_look_at_me_flipped = []\n",
    "\n",
    "\n",
    "full_dir_path = os.path.join(video_dir, gesture_folder) \n",
    "\n",
    "\n",
    "video_counter = 0\n",
    "for f_name in os.listdir(full_dir_path):\n",
    "    actual_video_path = os.path.join(full_dir_path, f_name)\n",
    "    features, features_flipped = extract_features_sequence_from_video(actual_video_path, video_counter)\n",
    "    full_features_list_from_all_look_at_me.append(features)\n",
    "    full_features_list_from_all_look_at_me_flipped.append(features_flipped)\n",
    "\n",
    "    video_counter += 1\n",
    "cv2.destroyAllWindows()"
   ]
  },
  {
   "cell_type": "code",
   "execution_count": 91,
   "metadata": {},
   "outputs": [],
   "source": [
    "full_features_list_from_all_look_at_me_np = np.array(full_features_list_from_all_look_at_me)\n",
    "full_features_list_from_all_look_at_me_flipped_np = np.array(full_features_list_from_all_look_at_me_flipped)\n",
    "look_at_me = np.concatenate([full_features_list_from_all_look_at_me_np, full_features_list_from_all_look_at_me_flipped_np])\n",
    "np.save(\"look_at_me.npy\", look_at_me)"
   ]
  },
  {
   "cell_type": "code",
   "execution_count": 92,
   "metadata": {},
   "outputs": [],
   "source": [
    "video_dir = \"/home/user/Desktop/videos\"\n",
    "gesture_folder = \"other\"\n",
    "\n",
    "full_features_list_from_all_other = []\n",
    "full_features_list_from_all_other_flipped = []\n",
    "\n",
    "\n",
    "full_dir_path = os.path.join(video_dir, gesture_folder) \n",
    "\n",
    "\n",
    "video_counter = 0\n",
    "for f_name in os.listdir(full_dir_path):\n",
    "    actual_video_path = os.path.join(full_dir_path, f_name)\n",
    "    features, features_flipped = extract_features_sequence_from_video(actual_video_path, video_counter)\n",
    "    full_features_list_from_all_other.append(features)\n",
    "    full_features_list_from_all_other_flipped.append(features_flipped)\n",
    "\n",
    "    video_counter += 1\n",
    "cv2.destroyAllWindows()"
   ]
  },
  {
   "cell_type": "code",
   "execution_count": 93,
   "metadata": {},
   "outputs": [],
   "source": [
    "full_features_list_from_all_other_np = np.array(full_features_list_from_all_other)\n",
    "full_features_list_from_all_other_flipped_np = np.array(full_features_list_from_all_other_flipped)\n",
    "other = np.concatenate([full_features_list_from_all_other_np, full_features_list_from_all_other_flipped_np])\n",
    "np.save(\"other.npy\", other)"
   ]
  },
  {
   "cell_type": "code",
   "execution_count": 48,
   "metadata": {},
   "outputs": [],
   "source": [
    "cv2.destroyAllWindows()\n"
   ]
  },
  {
   "cell_type": "code",
   "execution_count": 51,
   "metadata": {},
   "outputs": [],
   "source": [
    "img = np.zeros((100, 100, 3), dtype=np.uint8)\n",
    "\n",
    "img[20:25, 20:25] = (255, 0, 0)\n",
    "\n",
    "flipped = np.flip(img, 1)\n",
    "\n",
    "cv2.imshow(\"i\", flipped)\n",
    "cv2.waitKey()\n",
    "cv2.destroyAllWindows()"
   ]
  }
 ],
 "metadata": {
  "kernelspec": {
   "display_name": "Python 3",
   "language": "python",
   "name": "python3"
  },
  "language_info": {
   "codemirror_mode": {
    "name": "ipython",
    "version": 3
   },
   "file_extension": ".py",
   "mimetype": "text/x-python",
   "name": "python",
   "nbconvert_exporter": "python",
   "pygments_lexer": "ipython3",
   "version": "3.6.9"
  }
 },
 "nbformat": 4,
 "nbformat_minor": 4
}
