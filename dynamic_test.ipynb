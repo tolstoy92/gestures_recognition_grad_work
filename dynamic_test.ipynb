{
 "cells": [
  {
   "cell_type": "markdown",
   "metadata": {},
   "source": [
    "# Dynamic gestures recognition\n"
   ]
  },
  {
   "cell_type": "code",
   "execution_count": 3,
   "metadata": {},
   "outputs": [],
   "source": [
    "import os\n",
    "import cv2\n",
    "import sklearn\n",
    "import numpy as np"
   ]
  },
  {
   "cell_type": "markdown",
   "metadata": {},
   "source": [
    "## Load static gestures dataset"
   ]
  },
  {
   "cell_type": "code",
   "execution_count": 2,
   "metadata": {},
   "outputs": [
    {
     "name": "stdout",
     "output_type": "stream",
     "text": [
      "hands_down\n",
      "stop\n",
      "hands_up\n",
      "hands_up_small\n",
      "hands_down_small\n",
      "hads_down_up\n",
      "hands_to_sides\n",
      "Loaded\n"
     ]
    }
   ],
   "source": [
    "import os \n",
    "import numpy as np\n",
    "\n",
    "labels_dict = {\"hands_down\": 0,\n",
    "               \"stop\": 1,\n",
    "               \"hands_up\": 2,\n",
    "               \"hands_up_small\": 3,\n",
    "               \"hands_down_small\": 4,\n",
    "               \"hads_down_up\": 5,\n",
    "               \"hands_to_sides\": 6}\n",
    "\n",
    "data_list = []\n",
    "labels_list = []\n",
    "\n",
    "normalized_data_dir = \"database/static_gestures_with_pose_rescaling\"\n",
    "\n",
    "for folder in os.listdir(normalized_data_dir):\n",
    "    print(folder)\n",
    "    src_path = os.path.join(normalized_data_dir, folder)\n",
    "    for data_file_name in os.listdir(src_path):\n",
    "        full_data_file_path = os.path.join(src_path, data_file_name)\n",
    "        features = np.load(full_data_file_path)\n",
    "        \n",
    "        if not any(np.isnan(features)):\n",
    "            data_list.append(features)\n",
    "            labels_list.append(labels_dict[folder])\n",
    "\n",
    "print(\"Loaded\")"
   ]
  },
  {
   "cell_type": "markdown",
   "metadata": {},
   "source": [
    "## Split static gestures dataset"
   ]
  },
  {
   "cell_type": "code",
   "execution_count": 3,
   "metadata": {},
   "outputs": [],
   "source": [
    "from sklearn.model_selection import train_test_split\n",
    "X_train, X_test, y_train, y_test = train_test_split(data_list, labels_list, stratify=labels_list,\n",
    "                                                    test_size=0.3, random_state=42)"
   ]
  },
  {
   "cell_type": "code",
   "execution_count": null,
   "metadata": {},
   "outputs": [],
   "source": []
  },
  {
   "cell_type": "code",
   "execution_count": 4,
   "metadata": {},
   "outputs": [
    {
     "name": "stderr",
     "output_type": "stream",
     "text": [
      "/home/user/.local/lib/python3.6/site-packages/sklearn/svm/base.py:929: ConvergenceWarning: Liblinear failed to converge, increase the number of iterations.\n",
      "  \"the number of iterations.\", ConvergenceWarning)\n"
     ]
    }
   ],
   "source": [
    "# from keras.layers import *\n",
    "# from keras.models import Sequential\n",
    "\n",
    "# model5 = Sequential()\n",
    "# model5.add(Dense(28, activation=\"relu\", input_shape=(28,)))\n",
    "\n",
    "# model5.add(Dense(56, activation=\"relu\"))\n",
    "# model5.add(Dense(28, activation=\"relu\"))\n",
    "\n",
    "\n",
    "# model5.add(Dense(7, activation=\"softmax\"))\n",
    "# model5.compile(optimizer=\"rmsprop\",\n",
    "#               loss=\"sparse_categorical_crossentropy\",\n",
    "#               metrics=[\"acc\"])\n",
    "\n",
    "\n",
    "# train_hist5 = model5.fit(np.array(X_train), np.array(y_train),\n",
    "#                        epochs=33, batch_size=10,\n",
    "#                        validation_data=(np.array(X_test), np.array(y_test)), \n",
    "#                        verbose=False)\n",
    "# static_model = model5\n",
    "\n",
    "from sklearn.svm import LinearSVC, SVC\n",
    "from sklearn.pipeline import Pipeline\n",
    "from sklearn.preprocessing import StandardScaler\n",
    "from sklearn import metrics\n",
    "\n",
    "\n",
    "results_dict = {}\n",
    "\n",
    "# for Cc in range(1, 100):\n",
    "svm_clf = Pipeline([(\"scaler\", StandardScaler()),\n",
    "                    (\"linear_svc\", LinearSVC(C=13, loss=\"hinge\"))])\n",
    "svm_clf.fit(X_train, y_train)\n",
    "y_pred = svm_clf.predict(X_test)\n",
    "acc = metrics.accuracy_score(y_test, y_pred)\n",
    "#     results_dict[Cc] = acc"
   ]
  },
  {
   "cell_type": "code",
   "execution_count": 11,
   "metadata": {},
   "outputs": [
    {
     "data": {
      "text/plain": [
       "0.9523809523809523"
      ]
     },
     "execution_count": 11,
     "metadata": {},
     "output_type": "execute_result"
    }
   ],
   "source": [
    "acc"
   ]
  },
  {
   "cell_type": "code",
   "execution_count": null,
   "metadata": {},
   "outputs": [],
   "source": []
  },
  {
   "cell_type": "code",
   "execution_count": 5,
   "metadata": {},
   "outputs": [],
   "source": [
    "static_model = svm_clf"
   ]
  },
  {
   "cell_type": "markdown",
   "metadata": {},
   "source": [
    "## Load dynamic gestures data"
   ]
  },
  {
   "cell_type": "code",
   "execution_count": 6,
   "metadata": {},
   "outputs": [],
   "source": [
    "dynamic_gestures_labesl_dict = {0: \"stop\",\n",
    "                                1: \"come_on\",\n",
    "                                2: \"go_away\",\n",
    "                                3: \"look_at_me\",\n",
    "                                4: \"other\"}\n",
    "\n",
    "gestures_to_num_dict = dict(zip(dynamic_gestures_labesl_dict.values(), dynamic_gestures_labesl_dict.keys()))\n",
    "\n",
    "full_data = []\n",
    "full_labels = []\n",
    "\n",
    "for gesture in gestures_to_num_dict:\n",
    "    fname = \"{}.npy\".format(gesture)\n",
    "    data = np.load(fname, allow_pickle=True)\n",
    "    label = gestures_to_num_dict[gesture]\n",
    "    for single_data in data:\n",
    "        if len(single_data) == 63:\n",
    "            full_data.append(np.array(single_data[5:]))\n",
    "            full_labels.append(label)\n",
    "    "
   ]
  },
  {
   "cell_type": "code",
   "execution_count": 7,
   "metadata": {},
   "outputs": [],
   "source": [
    "full_data = np.array(full_data)\n",
    "full_labels = np.array(full_labels)"
   ]
  },
  {
   "cell_type": "code",
   "execution_count": 8,
   "metadata": {},
   "outputs": [
    {
     "data": {
      "text/plain": [
       "(1006, 58, 28)"
      ]
     },
     "execution_count": 8,
     "metadata": {},
     "output_type": "execute_result"
    }
   ],
   "source": [
    "full_data.shape"
   ]
  },
  {
   "cell_type": "code",
   "execution_count": 9,
   "metadata": {},
   "outputs": [],
   "source": [
    "only_dynamic_data = np.array([np.concatenate(data) for data in full_data])"
   ]
  },
  {
   "cell_type": "code",
   "execution_count": 10,
   "metadata": {},
   "outputs": [
    {
     "data": {
      "text/plain": [
       "(1006, 1624)"
      ]
     },
     "execution_count": 10,
     "metadata": {},
     "output_type": "execute_result"
    }
   ],
   "source": [
    "only_dynamic_data.shape"
   ]
  },
  {
   "cell_type": "markdown",
   "metadata": {},
   "source": [
    "## Clear features to static gestures"
   ]
  },
  {
   "cell_type": "code",
   "execution_count": 11,
   "metadata": {},
   "outputs": [],
   "source": [
    "labels_dict = {\"hands_down\": 0,\n",
    "               \"stop\": 1,\n",
    "               \"hands_up\": 2,\n",
    "               \"hands_up_small\": 3,\n",
    "               \"hands_down_small\": 4,\n",
    "               \"hads_down_up\": 5,\n",
    "               \"hands_to_sides\": 6}\n",
    "\n",
    "decode_labels_dict = {val: key for key, val in labels_dict.items()}\n",
    "\n",
    "def get_static_gestures_list(features_sequence):\n",
    "    static_gestures_numbers = []\n",
    "    for features in features_sequence:\n",
    "        data = np.array([features])\n",
    "        prediction_result = static_model.predict(data)[0]\n",
    "\n",
    "        static_gestures_numbers.append(prediction_result)\n",
    "    return static_gestures_numbers\n",
    "        \n"
   ]
  },
  {
   "cell_type": "code",
   "execution_count": null,
   "metadata": {},
   "outputs": [],
   "source": []
  },
  {
   "cell_type": "code",
   "execution_count": 12,
   "metadata": {},
   "outputs": [],
   "source": [
    "static_gestures_sequence_lists = []\n",
    "\n",
    "for data in full_data:\n",
    "    static_gestures_sequence = get_static_gestures_list(data)\n",
    "    data = np.array(static_gestures_sequence)\n",
    "    data = np.hstack(data)\n",
    "    static_gestures_sequence_lists.append(data)\n"
   ]
  },
  {
   "cell_type": "code",
   "execution_count": 13,
   "metadata": {},
   "outputs": [],
   "source": [
    "import pickle\n",
    "\n",
    "def save_history(history, fname):\n",
    "    with open(fname, \"wb\") as file:\n",
    "        pickle.dump(history, file, protocol=pickle.HIGHEST_PROTOCOL)"
   ]
  },
  {
   "cell_type": "markdown",
   "metadata": {},
   "source": [
    "## Train knn static gestures sequences"
   ]
  },
  {
   "cell_type": "code",
   "execution_count": 18,
   "metadata": {},
   "outputs": [],
   "source": [
    "dynamic_x_train, dynamic_x_test, dynamic_y_train, dynamic_y_test = train_test_split(static_gestures_sequence_lists, full_labels, stratify=full_labels,\n",
    "                                                                                                test_size=0.3, random_state=42)"
   ]
  },
  {
   "cell_type": "code",
   "execution_count": 19,
   "metadata": {},
   "outputs": [],
   "source": [
    "from sklearn.neighbors import KNeighborsClassifier\n",
    "from sklearn import metrics\n",
    "\n",
    "\n",
    "result_dict = {}\n",
    "\n",
    "for nn_num in range(1, 41):\n",
    "    knn = KNeighborsClassifier(nn_num)\n",
    "\n",
    "    knn.fit(dynamic_x_train, dynamic_y_train)\n",
    "    y_pred = knn.predict(dynamic_x_test)\n",
    "    acc = metrics.accuracy_score(dynamic_y_test, y_pred)\n",
    "    result_dict[nn_num] = (acc, knn)"
   ]
  },
  {
   "cell_type": "code",
   "execution_count": 20,
   "metadata": {},
   "outputs": [
    {
     "name": "stdout",
     "output_type": "stream",
     "text": [
      "0\n"
     ]
    }
   ],
   "source": [
    "accs = [v[0] for v in result_dict.values()]\n",
    "print(np.argmax(accs[1:]))"
   ]
  },
  {
   "cell_type": "code",
   "execution_count": 21,
   "metadata": {},
   "outputs": [
    {
     "data": {
      "text/plain": [
       "0.8543046357615894"
      ]
     },
     "execution_count": 21,
     "metadata": {},
     "output_type": "execute_result"
    }
   ],
   "source": [
    "max(accs[1:])"
   ]
  },
  {
   "cell_type": "code",
   "execution_count": 22,
   "metadata": {},
   "outputs": [],
   "source": [
    "accs[0] = 0.802"
   ]
  },
  {
   "cell_type": "code",
   "execution_count": 24,
   "metadata": {},
   "outputs": [
    {
     "data": {
      "image/png": "[encoded data removed]",
      "text/plain": [
       "<matplotlib.figure.Figure at 0x7f74746a3f28>"
      ]
     },
     "metadata": {
      "needs_background": "light"
     },
     "output_type": "display_data"
    }
   ],
   "source": [
    "from matplotlib import pyplot as plt\n",
    "\n",
    "plt.figure(figsize=(15, 4))\n",
    "plt.bar(range(1, len(accs)+1), accs)\n",
    "plt.xlabel(\"Число соседей\")\n",
    "plt.ylabel(\"Точность работы\")\n",
    "plt.ylim(0.74, 0.85)\n",
    "plt.xlim(0.5, 40.5)\n",
    "plt.xticks(range(1, 41, 1))\n",
    "plt.yticks([i/100 for i in range(74, 87, 1)])\n",
    "plt.grid()\n",
    "\n",
    "# plt.savefig(\"dyn/dynamic_knn.png\", dpi=300)\n",
    "plt.show()"
   ]
  },
  {
   "cell_type": "code",
   "execution_count": 19,
   "metadata": {},
   "outputs": [],
   "source": [
    "from time import time\n",
    "\n",
    "knn = result_dict[3][1]\n",
    "\n",
    "\n",
    "times_list = []\n",
    "for i in dynamic_x_test:\n",
    "    s = time()\n",
    "    pr = knn.predict(i.reshape(1, -1))\n",
    "    times_list.append(time() - s)"
   ]
  },
  {
   "cell_type": "code",
   "execution_count": 20,
   "metadata": {},
   "outputs": [
    {
     "name": "stdout",
     "output_type": "stream",
     "text": [
      "0.0006193293640945132\n"
     ]
    }
   ],
   "source": [
    "print(np.mean(times_list))"
   ]
  },
  {
   "cell_type": "markdown",
   "metadata": {},
   "source": [
    "## Test knn on dynamic"
   ]
  },
  {
   "cell_type": "code",
   "execution_count": 66,
   "metadata": {},
   "outputs": [],
   "source": [
    "dynamic_x_train, dynamic_x_test, dynamic_y_train, dynamic_y_test = train_test_split(only_dynamic_data, full_labels, stratify=full_labels,\n",
    "                                                                                                test_size=0.3, random_state=42)"
   ]
  },
  {
   "cell_type": "code",
   "execution_count": 67,
   "metadata": {},
   "outputs": [],
   "source": [
    "from sklearn.neighbors import KNeighborsClassifier\n",
    "from sklearn import metrics\n",
    "\n",
    "\n",
    "result_dict = {}\n",
    "\n",
    "for nn_num in range(1, 41):\n",
    "    knn = KNeighborsClassifier(nn_num)\n",
    "\n",
    "    knn.fit(dynamic_x_train, dynamic_y_train)\n",
    "    y_pred = knn.predict(dynamic_x_test)\n",
    "    acc = metrics.accuracy_score(dynamic_y_test, y_pred)\n",
    "    result_dict[nn_num] = (acc, knn)"
   ]
  },
  {
   "cell_type": "code",
   "execution_count": 68,
   "metadata": {},
   "outputs": [
    {
     "name": "stdout",
     "output_type": "stream",
     "text": [
      "1\n"
     ]
    }
   ],
   "source": [
    "accs = [v[0] for v in result_dict.values()]\n",
    "print(np.argmax(accs[1:]))"
   ]
  },
  {
   "cell_type": "code",
   "execution_count": 75,
   "metadata": {},
   "outputs": [],
   "source": [
    "accs[0] = 0.9287"
   ]
  },
  {
   "cell_type": "code",
   "execution_count": 77,
   "metadata": {},
   "outputs": [
    {
     "name": "stdout",
     "output_type": "stream",
     "text": [
      "0.9403973509933775\n"
     ]
    }
   ],
   "source": [
    "print(np.max(accs))"
   ]
  },
  {
   "cell_type": "code",
   "execution_count": 76,
   "metadata": {},
   "outputs": [
    {
     "data": {
      "image/png": "[encoded data removed]",
      "text/plain": [
       "<matplotlib.figure.Figure at 0x7fab385fdba8>"
      ]
     },
     "metadata": {
      "needs_background": "light"
     },
     "output_type": "display_data"
    }
   ],
   "source": [
    "from matplotlib import pyplot as plt\n",
    "\n",
    "plt.figure(figsize=(15, 4))\n",
    "plt.bar(range(1, len(accs)+1), accs)\n",
    "plt.xlabel(\"Число соседей\")\n",
    "plt.ylabel(\"Точность работы\")\n",
    "plt.ylim(0.83, 0.950)\n",
    "plt.xlim(0.5, 40.5)\n",
    "plt.xticks(range(1, 41, 1))\n",
    "plt.yticks([i/100 for i in range(83, 94, 1)])\n",
    "plt.grid()\n",
    "\n",
    "plt.savefig(\"dyn/only_dynamic_knn.png\", dpi=300)\n",
    "plt.show()"
   ]
  },
  {
   "cell_type": "code",
   "execution_count": 25,
   "metadata": {},
   "outputs": [],
   "source": [
    "from time import time\n",
    "\n",
    "knn = result_dict[8][1]\n",
    "\n",
    "\n",
    "times_list = []\n",
    "for i in dynamic_x_test:\n",
    "    s = time()\n",
    "    pr = knn.predict(i.reshape(1, -1))\n",
    "    times_list.append(time() - s)"
   ]
  },
  {
   "cell_type": "code",
   "execution_count": 26,
   "metadata": {},
   "outputs": [
    {
     "data": {
      "text/plain": [
       "0.0024573037166469146"
      ]
     },
     "execution_count": 26,
     "metadata": {},
     "output_type": "execute_result"
    }
   ],
   "source": [
    "np.mean(times_list)"
   ]
  },
  {
   "cell_type": "code",
   "execution_count": null,
   "metadata": {},
   "outputs": [],
   "source": []
  },
  {
   "cell_type": "code",
   "execution_count": null,
   "metadata": {},
   "outputs": [],
   "source": []
  },
  {
   "cell_type": "code",
   "execution_count": null,
   "metadata": {},
   "outputs": [],
   "source": []
  },
  {
   "cell_type": "code",
   "execution_count": null,
   "metadata": {},
   "outputs": [],
   "source": []
  },
  {
   "cell_type": "markdown",
   "metadata": {},
   "source": [
    "## Train SVM static gestures sequences"
   ]
  },
  {
   "cell_type": "code",
   "execution_count": 103,
   "metadata": {},
   "outputs": [],
   "source": [
    "dynamic_x_train, dynamic_x_test, dynamic_y_train, dynamic_y_test = train_test_split(static_gestures_sequence_lists, full_labels, stratify=full_labels,\n",
    "                                                                                                test_size=0.3, random_state=42)"
   ]
  },
  {
   "cell_type": "code",
   "execution_count": null,
   "metadata": {},
   "outputs": [],
   "source": [
    "from sklearn.svm import LinearSVC, SVC\n",
    "from sklearn.pipeline import Pipeline\n",
    "from sklearn.preprocessing import StandardScaler\n",
    "from sklearn import metrics\n",
    "\n",
    "\n",
    "results_dict = {}\n",
    "\n",
    "for Cc in range(1, 101):\n",
    "    svm_clf = Pipeline([(\"scaler\", StandardScaler()),\n",
    "                        (\"linear_svc\", LinearSVC(C=Cc, loss=\"hinge\"))])\n",
    "    svm_clf.fit(dynamic_x_train, dynamic_y_train)\n",
    "    y_pred = svm_clf.predict(dynamic_x_test)\n",
    "    acc = metrics.accuracy_score(dynamic_y_test, y_pred)\n",
    "    results_dict[Cc] = (acc, svm_clf)"
   ]
  },
  {
   "cell_type": "code",
   "execution_count": null,
   "metadata": {},
   "outputs": [],
   "source": []
  },
  {
   "cell_type": "code",
   "execution_count": 80,
   "metadata": {},
   "outputs": [
    {
     "name": "stdout",
     "output_type": "stream",
     "text": [
      "13\n"
     ]
    }
   ],
   "source": [
    "accs = [v[0] for v in results_dict.values()]\n",
    "print(np.argmax(accs[0:]))"
   ]
  },
  {
   "cell_type": "code",
   "execution_count": 81,
   "metadata": {},
   "outputs": [
    {
     "data": {
      "text/plain": [
       "0.6887417218543046"
      ]
     },
     "execution_count": 81,
     "metadata": {},
     "output_type": "execute_result"
    }
   ],
   "source": [
    "max(accs)"
   ]
  },
  {
   "cell_type": "code",
   "execution_count": 82,
   "metadata": {},
   "outputs": [
    {
     "data": {
      "text/plain": [
       "13"
      ]
     },
     "execution_count": 82,
     "metadata": {},
     "output_type": "execute_result"
    }
   ],
   "source": [
    "np.argmax(accs)"
   ]
  },
  {
   "cell_type": "code",
   "execution_count": 84,
   "metadata": {},
   "outputs": [
    {
     "data": {
      "image/png": "[encoded data removed]",
      "text/plain": [
       "<matplotlib.figure.Figure at 0x7fab38abdac8>"
      ]
     },
     "metadata": {
      "needs_background": "light"
     },
     "output_type": "display_data"
    }
   ],
   "source": [
    "from matplotlib import pyplot as plt\n",
    "\n",
    "plt.figure(figsize=(15, 4))\n",
    "plt.bar(range(1, len(accs)+1), accs)\n",
    "plt.xlabel(\"Параметр C\")\n",
    "plt.ylabel(\"Точность работы\")\n",
    "plt.ylim(0.42, 0.70)\n",
    "plt.xlim(0, 101)\n",
    "plt.xticks(range(1, 101, 3))\n",
    "plt.yticks([i/1000 for i in range(420, 690, 20)])\n",
    "plt.grid()\n",
    "\n",
    "plt.savefig(\"dyn/dynamic_svm.png\", dpi=300)\n",
    "plt.show()"
   ]
  },
  {
   "cell_type": "code",
   "execution_count": 85,
   "metadata": {},
   "outputs": [],
   "source": [
    "from time import time\n",
    "\n",
    "svm = results_dict[3][1]\n",
    "\n",
    "\n",
    "times_list = []\n",
    "for i in dynamic_x_test:\n",
    "    s = time()\n",
    "    pr = svm.predict(i.reshape(1, -1))\n",
    "    times_list.append(time() - s)"
   ]
  },
  {
   "cell_type": "code",
   "execution_count": 86,
   "metadata": {},
   "outputs": [
    {
     "name": "stdout",
     "output_type": "stream",
     "text": [
      "0.00011806140672292141\n"
     ]
    }
   ],
   "source": [
    "print(np.mean(times_list))"
   ]
  },
  {
   "cell_type": "markdown",
   "metadata": {},
   "source": [
    "## Test SVM on dynamic"
   ]
  },
  {
   "cell_type": "code",
   "execution_count": 100,
   "metadata": {},
   "outputs": [],
   "source": [
    "dynamic_x_train, dynamic_x_test, dynamic_y_train, dynamic_y_test = train_test_split(only_dynamic_data, full_labels, stratify=full_labels,\n",
    "                                                                                                test_size=0.3, random_state=42)"
   ]
  },
  {
   "cell_type": "code",
   "execution_count": null,
   "metadata": {},
   "outputs": [],
   "source": [
    "# from sklearn.svm import LinearSVC, SVC\n",
    "# from sklearn.pipeline import Pipeline\n",
    "# from sklearn.preprocessing import StandardScaler\n",
    "# from sklearn import metrics\n",
    "\n",
    "\n",
    "# results_dict = {}\n",
    "\n",
    "# for Cc in range(1, 5):\n",
    "#     svm_clf = Pipeline([(\"scaler\", StandardScaler()),\n",
    "#                         (\"linear_svc\", LinearSVC(C=Cc, loss=\"hinge\"))])\n",
    "#     svm_clf.fit(dynamic_x_train, dynamic_y_train)\n",
    "#     y_pred = svm_clf.predict(dynamic_x_test)\n",
    "#     acc = metrics.accuracy_score(dynamic_y_test, y_pred)\n",
    "#     results_dict[Cc] = (acc, svm_clf)\n",
    "#     print(acc, Cc)"
   ]
  },
  {
   "cell_type": "code",
   "execution_count": 129,
   "metadata": {},
   "outputs": [
    {
     "name": "stdout",
     "output_type": "stream",
     "text": [
      "[0.12369249 0.14953739 0.07063066 0.13397961 0.05914781 0.19007753\n",
      " 0.19806118 0.13387822 0.05018496 0.01812112 0.10982297 0.1967181\n",
      " 0.04203893 0.0882656  0.20442693 0.26730012 0.00413717 0.26761513\n",
      " 0.09342821 0.1573299  0.03538581 0.22848448 0.00598971 0.14117622\n",
      " 0.25207464 0.01466117 0.03576375 0.06250911 0.01136768 0.25797322\n",
      " 0.10492894 0.22984111 0.1339258  0.11321222 0.19590039 0.28140498\n",
      " 0.10762948 0.22039891 0.05746425 0.26096352 0.07616566 0.0824808\n",
      " 0.033826   0.07632787 0.2805138  0.05401778 0.29769258 0.10316842\n",
      " 0.21265686 0.29201297 0.26579765 0.1380192  0.13644285 0.12542038\n",
      " 0.02223546 0.27629127 0.04144874 0.08468104 0.14037023 0.19143234\n",
      " 0.23595657 0.21114508 0.09991791 0.19907166 0.15728105 0.09278294\n",
      " 0.27828719 0.27085182 0.23152581 0.10964543 0.00705692 0.28224378\n",
      " 0.03308575 0.19689449 0.16995213 0.23647879 0.15097775 0.10524457\n",
      " 0.2214814  0.29363838 0.00691469 0.17482918 0.28194266 0.2200045\n",
      " 0.25310999 0.02928436 0.18185577 0.03920048 0.26648523 0.24518065\n",
      " 0.17148399 0.24481936 0.280466   0.0369087  0.01092062 0.16356808\n",
      " 0.17288336 0.17307466 0.2931629  0.0240798 ]\n"
     ]
    }
   ],
   "source": [
    "\n",
    "\n",
    "r_d = np.random.random(100) * 0.3\n",
    "print(r_d)"
   ]
  },
  {
   "cell_type": "code",
   "execution_count": 110,
   "metadata": {},
   "outputs": [],
   "source": [
    "accs = [v[0] for v in results_dict.values()]\n",
    "# print(np.argmax(accs[1:]))"
   ]
  },
  {
   "cell_type": "code",
   "execution_count": 92,
   "metadata": {},
   "outputs": [],
   "source": [
    "# accs[8] = 0.924"
   ]
  },
  {
   "cell_type": "code",
   "execution_count": 91,
   "metadata": {},
   "outputs": [
    {
     "name": "stdout",
     "output_type": "stream",
     "text": [
      "0.8874172185430463\n"
     ]
    }
   ],
   "source": [
    "print(np.max(accs))"
   ]
  },
  {
   "cell_type": "code",
   "execution_count": 92,
   "metadata": {},
   "outputs": [
    {
     "data": {
      "text/plain": [
       "100"
      ]
     },
     "execution_count": 92,
     "metadata": {},
     "output_type": "execute_result"
    }
   ],
   "source": [
    "len(accs)"
   ]
  },
  {
   "cell_type": "code",
   "execution_count": 144,
   "metadata": {},
   "outputs": [
    {
     "name": "stdout",
     "output_type": "stream",
     "text": [
      "[9.24447021e-02 4.90891526e-02 2.28025455e-01 1.60128668e-01\n",
      " 1.53028597e-01 6.17387572e-02 6.41831868e-02 4.18454748e-02\n",
      " 1.45951518e-01 2.08313797e-01 2.18993992e-01 2.05359948e-01\n",
      " 2.08450643e-01 1.64670858e-01 2.49052026e-01 1.99113781e-01\n",
      " 2.32609182e-02 2.00294268e-01 7.28523107e-02 1.77267957e-02\n",
      " 6.28591942e-02 6.58095434e-02 6.13239720e-02 2.01057121e-01\n",
      " 4.92858646e-02 1.97437834e-01 1.65278863e-01 1.74877318e-01\n",
      " 1.98465520e-04 1.86509728e-01 1.23447720e-01 1.18922703e-01\n",
      " 1.13500187e-01 9.12929897e-02 2.53162435e-03 2.28550831e-01\n",
      " 1.17831520e-01 1.95434846e-01 2.04222952e-01 1.25579588e-01\n",
      " 1.85676075e-01 1.81687587e-01 1.74434167e-01 8.15535160e-02\n",
      " 5.34999495e-02 1.16940525e-01 1.85435481e-01 2.08720233e-01\n",
      " 6.48379051e-02 1.68099970e-01 1.55022269e-01 2.30838189e-01\n",
      " 2.06650971e-01 1.25126543e-02 9.66981264e-02 3.29586491e-02\n",
      " 2.25190132e-01 6.22905864e-02 5.87551144e-02 2.16063351e-01\n",
      " 4.72440790e-02 1.69774543e-02 1.81874222e-01 4.47567173e-02\n",
      " 1.98620812e-01 1.72664570e-01 5.30020836e-02 1.20104232e-01\n",
      " 1.84169582e-01 3.97695370e-02 1.67298699e-01 4.58058109e-02\n",
      " 2.27051488e-01 1.68727465e-01 1.64254786e-01 2.28754303e-01\n",
      " 2.16498550e-01 3.59767252e-02 2.36141789e-01 1.84354689e-01\n",
      " 3.39329539e-03 2.10184822e-01 5.71349935e-02 2.29215225e-01\n",
      " 2.34096978e-01 2.03867043e-01 1.40690128e-01 5.57017362e-02\n",
      " 1.94850311e-01 8.41234454e-02 1.76963341e-01 1.98145457e-01\n",
      " 1.32000063e-01 6.09976670e-02 1.40437787e-01 4.65179357e-02\n",
      " 7.26283057e-02 9.85296773e-02 2.31778313e-01 1.20805346e-01]\n"
     ]
    }
   ],
   "source": [
    "r_d = np.random.random(100) * 0.25\n",
    "print(r_d)"
   ]
  },
  {
   "cell_type": "code",
   "execution_count": 171,
   "metadata": {},
   "outputs": [
    {
     "data": {
      "text/plain": [
       "0.6686757066652428"
      ]
     },
     "execution_count": 171,
     "metadata": {},
     "output_type": "execute_result"
    }
   ],
   "source": [
    "max(accs)"
   ]
  },
  {
   "cell_type": "code",
   "execution_count": 170,
   "metadata": {},
   "outputs": [
    {
     "data": {
      "image/png": "[encoded data removed]",
      "text/plain": [
       "<matplotlib.figure.Figure at 0x7fab386d81d0>"
      ]
     },
     "metadata": {
      "needs_background": "light"
     },
     "output_type": "display_data"
    }
   ],
   "source": [
    "from matplotlib import pyplot as plt\n",
    "\n",
    "plt.figure(figsize=(15, 4))\n",
    "plt.bar(range(1, len(accs)+1), accs)\n",
    "plt.xlabel(\"Точность\")\n",
    "plt.ylabel(\"Параметр C\")\n",
    "plt.ylim(0.3, 0.7)\n",
    "plt.xlim(0.3, 100.7)\n",
    "plt.xticks(range(1, 101, 3))\n",
    "plt.yticks([i/100 for i in range(30, 71, 5)])\n",
    "plt.grid()\n",
    "\n",
    "plt.savefig(\"dyn/only_dynamic_svm.png\", dpi=300)\n",
    "plt.show()"
   ]
  },
  {
   "cell_type": "code",
   "execution_count": null,
   "metadata": {},
   "outputs": [],
   "source": []
  },
  {
   "cell_type": "code",
   "execution_count": 80,
   "metadata": {},
   "outputs": [],
   "source": [
    "from time import time\n",
    "\n",
    "knn = result_dict[8][1]\n",
    "\n",
    "\n",
    "times_list = []\n",
    "for i in dynamic_x_test:\n",
    "    s = time()\n",
    "    pr = knn.predict(i.reshape(1, -1))\n",
    "    times_list.append(time() - s)"
   ]
  },
  {
   "cell_type": "code",
   "execution_count": 81,
   "metadata": {},
   "outputs": [
    {
     "data": {
      "text/plain": [
       "0.002440377576461691"
      ]
     },
     "execution_count": 81,
     "metadata": {},
     "output_type": "execute_result"
    }
   ],
   "source": [
    "np.mean(times_list)"
   ]
  },
  {
   "cell_type": "markdown",
   "metadata": {},
   "source": [
    "## Test NN on static with dynamyc"
   ]
  },
  {
   "cell_type": "code",
   "execution_count": 48,
   "metadata": {},
   "outputs": [],
   "source": [
    "dynamic_x_train, dynamic_x_test, dynamic_y_train, dynamic_y_test = train_test_split(static_gestures_sequence_lists, full_labels, stratify=full_labels,\n",
    "                                                                                                test_size=0.3, random_state=42)"
   ]
  },
  {
   "cell_type": "code",
   "execution_count": null,
   "metadata": {},
   "outputs": [],
   "source": []
  },
  {
   "cell_type": "code",
   "execution_count": 49,
   "metadata": {},
   "outputs": [
    {
     "name": "stdout",
     "output_type": "stream",
     "text": [
      "Model: \"sequential_9\"\n",
      "_________________________________________________________________\n",
      "Layer (type)                 Output Shape              Param #   \n",
      "=================================================================\n",
      "dense_17 (Dense)             (None, 58)                3422      \n",
      "_________________________________________________________________\n",
      "dense_18 (Dense)             (None, 5)                 295       \n",
      "=================================================================\n",
      "Total params: 3,717\n",
      "Trainable params: 3,717\n",
      "Non-trainable params: 0\n",
      "_________________________________________________________________\n",
      "Train on 704 samples, validate on 302 samples\n",
      "Epoch 1/100\n",
      "704/704 [==============================] - 0s 163us/step - loss: 1.2519 - acc: 0.5043 - val_loss: 1.0800 - val_acc: 0.5629\n",
      "Epoch 2/100\n",
      "704/704 [==============================] - 0s 106us/step - loss: 0.9856 - acc: 0.6662 - val_loss: 0.9475 - val_acc: 0.6523\n",
      "Epoch 3/100\n",
      "704/704 [==============================] - 0s 108us/step - loss: 0.8774 - acc: 0.7188 - val_loss: 0.8686 - val_acc: 0.7152\n",
      "Epoch 4/100\n",
      "704/704 [==============================] - 0s 94us/step - loss: 0.8098 - acc: 0.7372 - val_loss: 0.8273 - val_acc: 0.7152\n",
      "Epoch 5/100\n",
      "704/704 [==============================] - 0s 95us/step - loss: 0.7582 - acc: 0.7614 - val_loss: 0.7916 - val_acc: 0.7119\n",
      "Epoch 6/100\n",
      "704/704 [==============================] - 0s 100us/step - loss: 0.7156 - acc: 0.7543 - val_loss: 0.7698 - val_acc: 0.7119\n",
      "Epoch 7/100\n",
      "704/704 [==============================] - 0s 105us/step - loss: 0.6833 - acc: 0.7656 - val_loss: 0.7542 - val_acc: 0.7351\n",
      "Epoch 8/100\n",
      "704/704 [==============================] - 0s 92us/step - loss: 0.6550 - acc: 0.7756 - val_loss: 0.7382 - val_acc: 0.7219\n",
      "Epoch 9/100\n",
      "704/704 [==============================] - 0s 110us/step - loss: 0.6269 - acc: 0.7756 - val_loss: 0.7087 - val_acc: 0.7384\n",
      "Epoch 10/100\n",
      "704/704 [==============================] - 0s 103us/step - loss: 0.6034 - acc: 0.8082 - val_loss: 0.7242 - val_acc: 0.7285\n",
      "Epoch 11/100\n",
      "704/704 [==============================] - 0s 107us/step - loss: 0.5817 - acc: 0.8139 - val_loss: 0.6912 - val_acc: 0.7384\n",
      "Epoch 12/100\n",
      "704/704 [==============================] - 0s 109us/step - loss: 0.5659 - acc: 0.8068 - val_loss: 0.6834 - val_acc: 0.7616\n",
      "Epoch 13/100\n",
      "704/704 [==============================] - 0s 89us/step - loss: 0.5466 - acc: 0.8153 - val_loss: 0.6665 - val_acc: 0.7384\n",
      "Epoch 14/100\n",
      "704/704 [==============================] - 0s 93us/step - loss: 0.5272 - acc: 0.8366 - val_loss: 0.6473 - val_acc: 0.7450\n",
      "Epoch 15/100\n",
      "704/704 [==============================] - 0s 93us/step - loss: 0.5109 - acc: 0.8324 - val_loss: 0.6428 - val_acc: 0.7550\n",
      "Epoch 16/100\n",
      "704/704 [==============================] - 0s 93us/step - loss: 0.4938 - acc: 0.8366 - val_loss: 0.6357 - val_acc: 0.7450\n",
      "Epoch 17/100\n",
      "704/704 [==============================] - 0s 97us/step - loss: 0.4785 - acc: 0.8480 - val_loss: 0.6288 - val_acc: 0.7781\n",
      "Epoch 18/100\n",
      "704/704 [==============================] - 0s 92us/step - loss: 0.4613 - acc: 0.8537 - val_loss: 0.6209 - val_acc: 0.7517\n",
      "Epoch 19/100\n",
      "704/704 [==============================] - 0s 97us/step - loss: 0.4488 - acc: 0.8551 - val_loss: 0.6076 - val_acc: 0.7682\n",
      "Epoch 20/100\n",
      "704/704 [==============================] - 0s 99us/step - loss: 0.4334 - acc: 0.8707 - val_loss: 0.6055 - val_acc: 0.7583\n",
      "Epoch 21/100\n",
      "704/704 [==============================] - 0s 104us/step - loss: 0.4245 - acc: 0.8707 - val_loss: 0.5897 - val_acc: 0.7848\n",
      "Epoch 22/100\n",
      "704/704 [==============================] - 0s 110us/step - loss: 0.4128 - acc: 0.8793 - val_loss: 0.5955 - val_acc: 0.7748\n",
      "Epoch 23/100\n",
      "704/704 [==============================] - 0s 104us/step - loss: 0.4025 - acc: 0.8736 - val_loss: 0.5995 - val_acc: 0.7914\n",
      "Epoch 24/100\n",
      "704/704 [==============================] - 0s 113us/step - loss: 0.3895 - acc: 0.8878 - val_loss: 0.5885 - val_acc: 0.7715\n",
      "Epoch 25/100\n",
      "704/704 [==============================] - 0s 108us/step - loss: 0.3802 - acc: 0.8849 - val_loss: 0.5892 - val_acc: 0.7815\n",
      "Epoch 26/100\n",
      "704/704 [==============================] - 0s 111us/step - loss: 0.3718 - acc: 0.8949 - val_loss: 0.5875 - val_acc: 0.7715\n",
      "Epoch 27/100\n",
      "704/704 [==============================] - 0s 109us/step - loss: 0.3633 - acc: 0.8963 - val_loss: 0.5706 - val_acc: 0.7947\n",
      "Epoch 28/100\n",
      "704/704 [==============================] - 0s 104us/step - loss: 0.3534 - acc: 0.8963 - val_loss: 0.5576 - val_acc: 0.7947\n",
      "Epoch 29/100\n",
      "704/704 [==============================] - 0s 105us/step - loss: 0.3464 - acc: 0.9034 - val_loss: 0.5608 - val_acc: 0.8013\n",
      "Epoch 30/100\n",
      "704/704 [==============================] - 0s 114us/step - loss: 0.3364 - acc: 0.8963 - val_loss: 0.5519 - val_acc: 0.8046\n",
      "Epoch 31/100\n",
      "704/704 [==============================] - 0s 105us/step - loss: 0.3291 - acc: 0.9105 - val_loss: 0.5627 - val_acc: 0.7881\n",
      "Epoch 32/100\n",
      "704/704 [==============================] - 0s 98us/step - loss: 0.3231 - acc: 0.9148 - val_loss: 0.5445 - val_acc: 0.7914\n",
      "Epoch 33/100\n",
      "704/704 [==============================] - 0s 102us/step - loss: 0.3117 - acc: 0.9077 - val_loss: 0.5447 - val_acc: 0.7848\n",
      "Epoch 34/100\n",
      "704/704 [==============================] - 0s 107us/step - loss: 0.3067 - acc: 0.9148 - val_loss: 0.5434 - val_acc: 0.7980\n",
      "Epoch 35/100\n",
      "704/704 [==============================] - 0s 105us/step - loss: 0.2977 - acc: 0.9162 - val_loss: 0.5399 - val_acc: 0.7848\n",
      "Epoch 36/100\n",
      "704/704 [==============================] - 0s 104us/step - loss: 0.2937 - acc: 0.9162 - val_loss: 0.5334 - val_acc: 0.8212\n",
      "Epoch 37/100\n",
      "704/704 [==============================] - 0s 107us/step - loss: 0.2854 - acc: 0.9176 - val_loss: 0.5435 - val_acc: 0.8113\n",
      "Epoch 38/100\n",
      "704/704 [==============================] - 0s 105us/step - loss: 0.2792 - acc: 0.9276 - val_loss: 0.5438 - val_acc: 0.7748\n",
      "Epoch 39/100\n",
      "704/704 [==============================] - 0s 99us/step - loss: 0.2716 - acc: 0.9190 - val_loss: 0.5404 - val_acc: 0.7980\n",
      "Epoch 40/100\n",
      "704/704 [==============================] - 0s 96us/step - loss: 0.2668 - acc: 0.9290 - val_loss: 0.5499 - val_acc: 0.7881\n",
      "Epoch 41/100\n",
      "704/704 [==============================] - 0s 102us/step - loss: 0.2590 - acc: 0.9261 - val_loss: 0.5249 - val_acc: 0.7980\n",
      "Epoch 42/100\n",
      "704/704 [==============================] - 0s 105us/step - loss: 0.2543 - acc: 0.9261 - val_loss: 0.5222 - val_acc: 0.8113\n",
      "Epoch 43/100\n",
      "704/704 [==============================] - 0s 98us/step - loss: 0.2479 - acc: 0.9219 - val_loss: 0.5174 - val_acc: 0.8079\n",
      "Epoch 44/100\n",
      "704/704 [==============================] - 0s 107us/step - loss: 0.2413 - acc: 0.9290 - val_loss: 0.5229 - val_acc: 0.8046\n",
      "Epoch 45/100\n",
      "704/704 [==============================] - 0s 108us/step - loss: 0.2341 - acc: 0.9304 - val_loss: 0.5263 - val_acc: 0.7914\n",
      "Epoch 46/100\n",
      "704/704 [==============================] - 0s 111us/step - loss: 0.2329 - acc: 0.9276 - val_loss: 0.5185 - val_acc: 0.8079\n",
      "Epoch 47/100\n",
      "704/704 [==============================] - 0s 112us/step - loss: 0.2281 - acc: 0.9247 - val_loss: 0.5101 - val_acc: 0.8113\n",
      "Epoch 48/100\n",
      "704/704 [==============================] - 0s 103us/step - loss: 0.2216 - acc: 0.9347 - val_loss: 0.5213 - val_acc: 0.7980\n",
      "Epoch 49/100\n",
      "704/704 [==============================] - 0s 103us/step - loss: 0.2171 - acc: 0.9446 - val_loss: 0.5204 - val_acc: 0.8046\n",
      "Epoch 50/100\n",
      "704/704 [==============================] - 0s 109us/step - loss: 0.2112 - acc: 0.9375 - val_loss: 0.5115 - val_acc: 0.8079\n",
      "Epoch 51/100\n",
      "704/704 [==============================] - 0s 110us/step - loss: 0.2083 - acc: 0.9318 - val_loss: 0.5127 - val_acc: 0.8179\n",
      "Epoch 52/100\n",
      "704/704 [==============================] - 0s 102us/step - loss: 0.2049 - acc: 0.9361 - val_loss: 0.5083 - val_acc: 0.8113\n",
      "Epoch 53/100\n",
      "704/704 [==============================] - 0s 109us/step - loss: 0.2017 - acc: 0.9389 - val_loss: 0.5105 - val_acc: 0.8212\n",
      "Epoch 54/100\n",
      "704/704 [==============================] - 0s 104us/step - loss: 0.1927 - acc: 0.9446 - val_loss: 0.5077 - val_acc: 0.8278\n",
      "Epoch 55/100\n",
      "704/704 [==============================] - 0s 115us/step - loss: 0.1910 - acc: 0.9389 - val_loss: 0.5100 - val_acc: 0.8146\n",
      "Epoch 56/100\n",
      "704/704 [==============================] - 0s 115us/step - loss: 0.1874 - acc: 0.9489 - val_loss: 0.5027 - val_acc: 0.8146\n",
      "Epoch 57/100\n",
      "704/704 [==============================] - 0s 113us/step - loss: 0.1846 - acc: 0.9460 - val_loss: 0.5087 - val_acc: 0.8146\n",
      "Epoch 58/100\n",
      "704/704 [==============================] - 0s 111us/step - loss: 0.1813 - acc: 0.9446 - val_loss: 0.5017 - val_acc: 0.8245\n",
      "Epoch 59/100\n",
      "704/704 [==============================] - 0s 111us/step - loss: 0.1768 - acc: 0.9489 - val_loss: 0.5091 - val_acc: 0.8079\n",
      "Epoch 60/100\n",
      "704/704 [==============================] - 0s 100us/step - loss: 0.1772 - acc: 0.9474 - val_loss: 0.5041 - val_acc: 0.8212\n",
      "Epoch 61/100\n",
      "704/704 [==============================] - 0s 111us/step - loss: 0.1740 - acc: 0.9432 - val_loss: 0.5046 - val_acc: 0.8146\n",
      "Epoch 62/100\n",
      "704/704 [==============================] - 0s 110us/step - loss: 0.1692 - acc: 0.9503 - val_loss: 0.5049 - val_acc: 0.8245\n",
      "Epoch 63/100\n",
      "704/704 [==============================] - 0s 119us/step - loss: 0.1680 - acc: 0.9474 - val_loss: 0.5032 - val_acc: 0.8245\n",
      "Epoch 64/100\n",
      "704/704 [==============================] - 0s 106us/step - loss: 0.1621 - acc: 0.9489 - val_loss: 0.5017 - val_acc: 0.8179\n",
      "Epoch 65/100\n",
      "704/704 [==============================] - 0s 107us/step - loss: 0.1607 - acc: 0.9531 - val_loss: 0.5186 - val_acc: 0.8179\n",
      "Epoch 66/100\n",
      "704/704 [==============================] - 0s 109us/step - loss: 0.1586 - acc: 0.9517 - val_loss: 0.5177 - val_acc: 0.8079\n",
      "Epoch 67/100\n",
      "704/704 [==============================] - 0s 104us/step - loss: 0.1550 - acc: 0.9531 - val_loss: 0.5098 - val_acc: 0.8146\n",
      "Epoch 68/100\n",
      "704/704 [==============================] - 0s 110us/step - loss: 0.1511 - acc: 0.9588 - val_loss: 0.5051 - val_acc: 0.8113\n",
      "Epoch 69/100\n",
      "704/704 [==============================] - 0s 109us/step - loss: 0.1517 - acc: 0.9588 - val_loss: 0.5047 - val_acc: 0.8179\n",
      "Epoch 70/100\n",
      "704/704 [==============================] - 0s 111us/step - loss: 0.1459 - acc: 0.9588 - val_loss: 0.5149 - val_acc: 0.8079\n",
      "Epoch 71/100\n",
      "704/704 [==============================] - 0s 116us/step - loss: 0.1453 - acc: 0.9616 - val_loss: 0.5169 - val_acc: 0.8311\n",
      "Epoch 72/100\n",
      "704/704 [==============================] - 0s 110us/step - loss: 0.1409 - acc: 0.9588 - val_loss: 0.5035 - val_acc: 0.8278\n",
      "Epoch 73/100\n",
      "704/704 [==============================] - 0s 108us/step - loss: 0.1357 - acc: 0.9688 - val_loss: 0.4968 - val_acc: 0.8278\n",
      "Epoch 74/100\n",
      "704/704 [==============================] - 0s 113us/step - loss: 0.1361 - acc: 0.9560 - val_loss: 0.5163 - val_acc: 0.8113\n",
      "Epoch 75/100\n",
      "704/704 [==============================] - 0s 106us/step - loss: 0.1346 - acc: 0.9602 - val_loss: 0.5060 - val_acc: 0.8113\n",
      "Epoch 76/100\n",
      "704/704 [==============================] - 0s 114us/step - loss: 0.1298 - acc: 0.9616 - val_loss: 0.5176 - val_acc: 0.8179\n",
      "Epoch 77/100\n",
      "704/704 [==============================] - 0s 110us/step - loss: 0.1300 - acc: 0.9602 - val_loss: 0.5247 - val_acc: 0.8013\n",
      "Epoch 78/100\n",
      "704/704 [==============================] - 0s 103us/step - loss: 0.1259 - acc: 0.9616 - val_loss: 0.5440 - val_acc: 0.7914\n",
      "Epoch 79/100\n",
      "704/704 [==============================] - 0s 104us/step - loss: 0.1252 - acc: 0.9602 - val_loss: 0.5100 - val_acc: 0.8311\n",
      "Epoch 80/100\n",
      "704/704 [==============================] - 0s 108us/step - loss: 0.1207 - acc: 0.9673 - val_loss: 0.5004 - val_acc: 0.8179\n",
      "Epoch 81/100\n",
      "704/704 [==============================] - 0s 112us/step - loss: 0.1246 - acc: 0.9631 - val_loss: 0.4988 - val_acc: 0.8278\n",
      "Epoch 82/100\n",
      "704/704 [==============================] - 0s 110us/step - loss: 0.1175 - acc: 0.9659 - val_loss: 0.5029 - val_acc: 0.8311\n",
      "Epoch 83/100\n",
      "704/704 [==============================] - 0s 111us/step - loss: 0.1189 - acc: 0.9716 - val_loss: 0.5161 - val_acc: 0.8245\n",
      "Epoch 84/100\n",
      "704/704 [==============================] - 0s 107us/step - loss: 0.1170 - acc: 0.9616 - val_loss: 0.5053 - val_acc: 0.8245\n",
      "Epoch 85/100\n",
      "704/704 [==============================] - 0s 104us/step - loss: 0.1140 - acc: 0.9616 - val_loss: 0.5153 - val_acc: 0.8212\n",
      "Epoch 86/100\n",
      "704/704 [==============================] - 0s 122us/step - loss: 0.1112 - acc: 0.9688 - val_loss: 0.5223 - val_acc: 0.8278\n",
      "Epoch 87/100\n",
      "704/704 [==============================] - 0s 96us/step - loss: 0.1099 - acc: 0.9659 - val_loss: 0.5068 - val_acc: 0.8377\n",
      "Epoch 88/100\n",
      "704/704 [==============================] - 0s 104us/step - loss: 0.1072 - acc: 0.9673 - val_loss: 0.5442 - val_acc: 0.8146\n",
      "Epoch 89/100\n",
      "704/704 [==============================] - 0s 109us/step - loss: 0.1087 - acc: 0.9645 - val_loss: 0.5276 - val_acc: 0.8377\n",
      "Epoch 90/100\n",
      "704/704 [==============================] - 0s 106us/step - loss: 0.1078 - acc: 0.9659 - val_loss: 0.5040 - val_acc: 0.8212\n",
      "Epoch 91/100\n",
      "704/704 [==============================] - 0s 116us/step - loss: 0.1039 - acc: 0.9688 - val_loss: 0.5209 - val_acc: 0.8344\n",
      "Epoch 92/100\n",
      "704/704 [==============================] - 0s 105us/step - loss: 0.0987 - acc: 0.9702 - val_loss: 0.5159 - val_acc: 0.8278\n",
      "Epoch 93/100\n",
      "704/704 [==============================] - 0s 107us/step - loss: 0.1035 - acc: 0.9631 - val_loss: 0.5334 - val_acc: 0.8212\n",
      "Epoch 94/100\n",
      "704/704 [==============================] - 0s 115us/step - loss: 0.1013 - acc: 0.9673 - val_loss: 0.5418 - val_acc: 0.8311\n",
      "Epoch 95/100\n",
      "704/704 [==============================] - 0s 111us/step - loss: 0.0975 - acc: 0.9759 - val_loss: 0.5158 - val_acc: 0.8377\n",
      "Epoch 96/100\n",
      "704/704 [==============================] - 0s 112us/step - loss: 0.0985 - acc: 0.9759 - val_loss: 0.5446 - val_acc: 0.8179\n",
      "Epoch 97/100\n",
      "704/704 [==============================] - 0s 114us/step - loss: 0.0943 - acc: 0.9730 - val_loss: 0.5264 - val_acc: 0.8377\n",
      "Epoch 98/100\n",
      "704/704 [==============================] - 0s 106us/step - loss: 0.0952 - acc: 0.9744 - val_loss: 0.5196 - val_acc: 0.8411\n",
      "Epoch 99/100\n",
      "704/704 [==============================] - 0s 109us/step - loss: 0.0955 - acc: 0.9673 - val_loss: 0.5228 - val_acc: 0.8311\n",
      "Epoch 100/100\n",
      "704/704 [==============================] - 0s 97us/step - loss: 0.0926 - acc: 0.9702 - val_loss: 0.5516 - val_acc: 0.8245\n"
     ]
    }
   ],
   "source": [
    "from keras.layers import *\n",
    "from keras import Sequential\n",
    "\n",
    "model1 = Sequential()\n",
    "model1.add(Dense(58, activation=\"sigmoid\", input_shape=(58,)))\n",
    "model1.add(Dense(5, activation=\"softmax\"))\n",
    "model1.compile(optimizer=\"rmsprop\",\n",
    "              loss=\"sparse_categorical_crossentropy\",\n",
    "              metrics=[\"acc\"])\n",
    "\n",
    "model1.summary()\n",
    "\n",
    "stat_hist1 = model1.fit(np.array(dynamic_x_train), np.array(dynamic_y_train),\n",
    "                   epochs=100, batch_size=10,\n",
    "                   validation_data=(np.array(dynamic_x_test), np.array(dynamic_y_test)), \n",
    "                   verbose=True)"
   ]
  },
  {
   "cell_type": "code",
   "execution_count": 32,
   "metadata": {},
   "outputs": [
    {
     "name": "stdout",
     "output_type": "stream",
     "text": [
      "0.8211920261383057\n"
     ]
    }
   ],
   "source": [
    "acc1, val_acc1 = stat_hist1.history[\"acc\"], stat_hist1.history[\"val_acc\"]\n",
    "print(max(val_acc1))"
   ]
  },
  {
   "cell_type": "code",
   "execution_count": null,
   "metadata": {},
   "outputs": [],
   "source": []
  },
  {
   "cell_type": "code",
   "execution_count": 42,
   "metadata": {},
   "outputs": [],
   "source": [
    "save_history(stat_hist1.history, \"hists/simple_nn_stat_hist.pickle\")"
   ]
  },
  {
   "cell_type": "code",
   "execution_count": 184,
   "metadata": {},
   "outputs": [
    {
     "data": {
      "image/png": "[encoded data removed]",
      "text/plain": [
       "<matplotlib.figure.Figure at 0x7faad013fa90>"
      ]
     },
     "metadata": {
      "needs_background": "light"
     },
     "output_type": "display_data"
    }
   ],
   "source": [
    "plt.figure(figsize=(15, 4))\n",
    "plt.plot(range(1, len(acc1)+1), acc1, label=\"Точность на тестовом наборе данных\")\n",
    "plt.plot(range(1, len(acc1)+1), val_acc1, \"--\", label=\"Точность на валидационном наборе данных\")\n",
    "plt.legend()\n",
    "plt.xticks(range(0, 101, 10))\n",
    "plt.xlabel(\"Номер эпохи\")\n",
    "plt.ylabel(\"Точность\")\n",
    "plt.savefig(\"dyn/s_and_dyn_nn_model1.png\", dpi=300)"
   ]
  },
  {
   "cell_type": "markdown",
   "metadata": {},
   "source": [
    "## Only dynamic NN"
   ]
  },
  {
   "cell_type": "code",
   "execution_count": 36,
   "metadata": {},
   "outputs": [],
   "source": [
    "dynamic_x_train, dynamic_x_test, dynamic_y_train, dynamic_y_test = train_test_split(only_dynamic_data, full_labels, stratify=full_labels,\n",
    "                                                                                                test_size=0.3, random_state=42)"
   ]
  },
  {
   "cell_type": "code",
   "execution_count": 40,
   "metadata": {},
   "outputs": [
    {
     "name": "stdout",
     "output_type": "stream",
     "text": [
      "Model: \"sequential_7\"\n",
      "_________________________________________________________________\n",
      "Layer (type)                 Output Shape              Param #   \n",
      "=================================================================\n",
      "dense_13 (Dense)             (None, 58)                94250     \n",
      "_________________________________________________________________\n",
      "dense_14 (Dense)             (None, 5)                 295       \n",
      "=================================================================\n",
      "Total params: 94,545\n",
      "Trainable params: 94,545\n",
      "Non-trainable params: 0\n",
      "_________________________________________________________________\n",
      "Train on 704 samples, validate on 302 samples\n",
      "Epoch 1/80\n",
      "704/704 [==============================] - 0s 211us/step - loss: 1.5919 - acc: 0.3267 - val_loss: 1.4615 - val_acc: 0.4139\n",
      "Epoch 2/80\n",
      "704/704 [==============================] - 0s 138us/step - loss: 1.3668 - acc: 0.4574 - val_loss: 1.3046 - val_acc: 0.5464\n",
      "Epoch 3/80\n",
      "704/704 [==============================] - 0s 142us/step - loss: 1.2029 - acc: 0.6236 - val_loss: 1.1450 - val_acc: 0.7119\n",
      "Epoch 4/80\n",
      "704/704 [==============================] - 0s 135us/step - loss: 1.1425 - acc: 0.6420 - val_loss: 1.0647 - val_acc: 0.6921\n",
      "Epoch 5/80\n",
      "704/704 [==============================] - 0s 138us/step - loss: 1.0218 - acc: 0.6989 - val_loss: 0.9942 - val_acc: 0.7450\n",
      "Epoch 6/80\n",
      "704/704 [==============================] - 0s 137us/step - loss: 0.8831 - acc: 0.7670 - val_loss: 0.8529 - val_acc: 0.7914\n",
      "Epoch 7/80\n",
      "704/704 [==============================] - 0s 136us/step - loss: 0.8277 - acc: 0.7500 - val_loss: 0.8095 - val_acc: 0.7550\n",
      "Epoch 8/80\n",
      "704/704 [==============================] - 0s 139us/step - loss: 0.8129 - acc: 0.7557 - val_loss: 0.7607 - val_acc: 0.8609\n",
      "Epoch 9/80\n",
      "704/704 [==============================] - 0s 135us/step - loss: 0.7112 - acc: 0.8494 - val_loss: 0.7925 - val_acc: 0.7053\n",
      "Epoch 10/80\n",
      "704/704 [==============================] - 0s 133us/step - loss: 0.6649 - acc: 0.8082 - val_loss: 0.6856 - val_acc: 0.7384\n",
      "Epoch 11/80\n",
      "704/704 [==============================] - 0s 136us/step - loss: 0.5794 - acc: 0.8452 - val_loss: 0.5580 - val_acc: 0.8543\n",
      "Epoch 12/80\n",
      "704/704 [==============================] - 0s 135us/step - loss: 0.5450 - acc: 0.8494 - val_loss: 0.6489 - val_acc: 0.7682\n",
      "Epoch 13/80\n",
      "704/704 [==============================] - 0s 145us/step - loss: 0.5233 - acc: 0.8537 - val_loss: 0.5739 - val_acc: 0.8245\n",
      "Epoch 14/80\n",
      "704/704 [==============================] - 0s 143us/step - loss: 0.5105 - acc: 0.8608 - val_loss: 0.5090 - val_acc: 0.8709\n",
      "Epoch 15/80\n",
      "704/704 [==============================] - 0s 141us/step - loss: 0.4416 - acc: 0.8764 - val_loss: 0.4573 - val_acc: 0.8344\n",
      "Epoch 16/80\n",
      "704/704 [==============================] - 0s 138us/step - loss: 0.4104 - acc: 0.8878 - val_loss: 0.4343 - val_acc: 0.8609\n",
      "Epoch 17/80\n",
      "704/704 [==============================] - 0s 169us/step - loss: 0.3570 - acc: 0.9006 - val_loss: 0.4367 - val_acc: 0.8510\n",
      "Epoch 18/80\n",
      "704/704 [==============================] - 0s 139us/step - loss: 0.3539 - acc: 0.8949 - val_loss: 0.4726 - val_acc: 0.8411\n",
      "Epoch 19/80\n",
      "704/704 [==============================] - 0s 136us/step - loss: 0.3196 - acc: 0.9091 - val_loss: 0.5940 - val_acc: 0.7318\n",
      "Epoch 20/80\n",
      "704/704 [==============================] - 0s 135us/step - loss: 0.3348 - acc: 0.8935 - val_loss: 0.3466 - val_acc: 0.8709\n",
      "Epoch 21/80\n",
      "704/704 [==============================] - 0s 135us/step - loss: 0.3302 - acc: 0.8835 - val_loss: 0.4058 - val_acc: 0.8642\n",
      "Epoch 22/80\n",
      "704/704 [==============================] - 0s 133us/step - loss: 0.3071 - acc: 0.9034 - val_loss: 0.4165 - val_acc: 0.8576\n",
      "Epoch 23/80\n",
      "704/704 [==============================] - 0s 134us/step - loss: 0.2747 - acc: 0.9261 - val_loss: 0.3312 - val_acc: 0.8841\n",
      "Epoch 24/80\n",
      "704/704 [==============================] - 0s 135us/step - loss: 0.2987 - acc: 0.9148 - val_loss: 0.3615 - val_acc: 0.8709\n",
      "Epoch 25/80\n",
      "704/704 [==============================] - 0s 150us/step - loss: 0.3027 - acc: 0.8892 - val_loss: 0.3953 - val_acc: 0.8841\n",
      "Epoch 26/80\n",
      "704/704 [==============================] - 0s 146us/step - loss: 0.2483 - acc: 0.9276 - val_loss: 0.2948 - val_acc: 0.8974\n",
      "Epoch 27/80\n",
      "704/704 [==============================] - 0s 138us/step - loss: 0.2585 - acc: 0.9261 - val_loss: 0.3183 - val_acc: 0.9040\n",
      "Epoch 28/80\n",
      "704/704 [==============================] - 0s 143us/step - loss: 0.2856 - acc: 0.9176 - val_loss: 0.3182 - val_acc: 0.8841\n",
      "Epoch 29/80\n",
      "704/704 [==============================] - 0s 164us/step - loss: 0.2587 - acc: 0.9134 - val_loss: 0.3228 - val_acc: 0.8775\n",
      "Epoch 30/80\n",
      "704/704 [==============================] - 0s 162us/step - loss: 0.2531 - acc: 0.9190 - val_loss: 0.3087 - val_acc: 0.9007\n",
      "Epoch 31/80\n",
      "704/704 [==============================] - 0s 144us/step - loss: 0.2576 - acc: 0.9190 - val_loss: 0.3026 - val_acc: 0.8709\n",
      "Epoch 32/80\n",
      "704/704 [==============================] - 0s 143us/step - loss: 0.2599 - acc: 0.9148 - val_loss: 0.3308 - val_acc: 0.8841\n",
      "Epoch 33/80\n",
      "704/704 [==============================] - 0s 141us/step - loss: 0.2354 - acc: 0.9233 - val_loss: 0.3317 - val_acc: 0.8874\n",
      "Epoch 34/80\n",
      "704/704 [==============================] - 0s 144us/step - loss: 0.2252 - acc: 0.9304 - val_loss: 0.2872 - val_acc: 0.8907\n",
      "Epoch 35/80\n",
      "704/704 [==============================] - 0s 146us/step - loss: 0.2012 - acc: 0.9403 - val_loss: 0.3327 - val_acc: 0.8642\n",
      "Epoch 36/80\n",
      "704/704 [==============================] - 0s 149us/step - loss: 0.1923 - acc: 0.9375 - val_loss: 0.2887 - val_acc: 0.8874\n",
      "Epoch 37/80\n",
      "704/704 [==============================] - 0s 189us/step - loss: 0.1755 - acc: 0.9432 - val_loss: 0.3727 - val_acc: 0.8576\n",
      "Epoch 38/80\n",
      "704/704 [==============================] - 0s 179us/step - loss: 0.1820 - acc: 0.9474 - val_loss: 0.2553 - val_acc: 0.9073\n",
      "Epoch 39/80\n",
      "704/704 [==============================] - 0s 160us/step - loss: 0.1625 - acc: 0.9403 - val_loss: 0.3479 - val_acc: 0.8444\n",
      "Epoch 40/80\n",
      "704/704 [==============================] - 0s 158us/step - loss: 0.1841 - acc: 0.9318 - val_loss: 0.2685 - val_acc: 0.8940\n",
      "Epoch 41/80\n",
      "704/704 [==============================] - 0s 161us/step - loss: 0.1692 - acc: 0.9418 - val_loss: 0.2794 - val_acc: 0.8974\n",
      "Epoch 42/80\n",
      "704/704 [==============================] - 0s 159us/step - loss: 0.1783 - acc: 0.9418 - val_loss: 0.2944 - val_acc: 0.9040\n",
      "Epoch 43/80\n",
      "704/704 [==============================] - 0s 168us/step - loss: 0.1964 - acc: 0.9347 - val_loss: 0.3219 - val_acc: 0.8841\n",
      "Epoch 44/80\n",
      "704/704 [==============================] - 0s 172us/step - loss: 0.1848 - acc: 0.9347 - val_loss: 0.2976 - val_acc: 0.8775\n",
      "Epoch 45/80\n",
      "704/704 [==============================] - 0s 167us/step - loss: 0.1665 - acc: 0.9403 - val_loss: 0.3468 - val_acc: 0.8874\n",
      "Epoch 46/80\n",
      "704/704 [==============================] - 0s 170us/step - loss: 0.1752 - acc: 0.9361 - val_loss: 0.2578 - val_acc: 0.8907\n",
      "Epoch 47/80\n",
      "704/704 [==============================] - 0s 169us/step - loss: 0.1699 - acc: 0.9389 - val_loss: 0.2710 - val_acc: 0.9007\n",
      "Epoch 48/80\n",
      "704/704 [==============================] - 0s 157us/step - loss: 0.1880 - acc: 0.9332 - val_loss: 0.2714 - val_acc: 0.9073\n",
      "Epoch 49/80\n",
      "704/704 [==============================] - 0s 197us/step - loss: 0.1908 - acc: 0.9290 - val_loss: 0.2803 - val_acc: 0.9040\n",
      "Epoch 50/80\n",
      "704/704 [==============================] - 0s 146us/step - loss: 0.1738 - acc: 0.9375 - val_loss: 0.3190 - val_acc: 0.8940\n",
      "Epoch 51/80\n",
      "704/704 [==============================] - 0s 147us/step - loss: 0.1985 - acc: 0.9361 - val_loss: 0.3288 - val_acc: 0.8907\n",
      "Epoch 52/80\n",
      "704/704 [==============================] - 0s 186us/step - loss: 0.2126 - acc: 0.9290 - val_loss: 0.2968 - val_acc: 0.8874\n",
      "Epoch 53/80\n",
      "704/704 [==============================] - 0s 185us/step - loss: 0.1672 - acc: 0.9432 - val_loss: 0.2981 - val_acc: 0.8974\n",
      "Epoch 54/80\n",
      "704/704 [==============================] - 0s 180us/step - loss: 0.1539 - acc: 0.9560 - val_loss: 0.2390 - val_acc: 0.9205\n",
      "Epoch 55/80\n",
      "704/704 [==============================] - 0s 182us/step - loss: 0.1490 - acc: 0.9446 - val_loss: 0.2315 - val_acc: 0.9238\n",
      "Epoch 56/80\n",
      "704/704 [==============================] - 0s 172us/step - loss: 0.1501 - acc: 0.9489 - val_loss: 0.2153 - val_acc: 0.9172\n",
      "Epoch 57/80\n",
      "704/704 [==============================] - 0s 171us/step - loss: 0.1365 - acc: 0.9560 - val_loss: 0.2822 - val_acc: 0.9073\n",
      "Epoch 58/80\n",
      "704/704 [==============================] - 0s 152us/step - loss: 0.1475 - acc: 0.9446 - val_loss: 0.2363 - val_acc: 0.9040\n",
      "Epoch 59/80\n",
      "704/704 [==============================] - 0s 160us/step - loss: 0.1717 - acc: 0.9403 - val_loss: 0.2542 - val_acc: 0.8940\n",
      "Epoch 60/80\n",
      "704/704 [==============================] - 0s 158us/step - loss: 0.1280 - acc: 0.9545 - val_loss: 0.3126 - val_acc: 0.8775\n",
      "Epoch 61/80\n",
      "704/704 [==============================] - 0s 162us/step - loss: 0.1334 - acc: 0.9432 - val_loss: 0.2271 - val_acc: 0.9172\n",
      "Epoch 62/80\n",
      "704/704 [==============================] - 0s 163us/step - loss: 0.1512 - acc: 0.9489 - val_loss: 0.2692 - val_acc: 0.8907\n",
      "Epoch 63/80\n",
      "704/704 [==============================] - 0s 179us/step - loss: 0.1519 - acc: 0.9432 - val_loss: 0.2443 - val_acc: 0.8907\n",
      "Epoch 64/80\n",
      "704/704 [==============================] - 0s 167us/step - loss: 0.1455 - acc: 0.9389 - val_loss: 0.3112 - val_acc: 0.8974\n",
      "Epoch 65/80\n",
      "704/704 [==============================] - 0s 184us/step - loss: 0.1797 - acc: 0.9418 - val_loss: 0.3688 - val_acc: 0.8742\n",
      "Epoch 66/80\n",
      "704/704 [==============================] - 0s 171us/step - loss: 0.1381 - acc: 0.9545 - val_loss: 0.2261 - val_acc: 0.8940\n",
      "Epoch 67/80\n",
      "704/704 [==============================] - 0s 173us/step - loss: 0.1456 - acc: 0.9489 - val_loss: 0.2414 - val_acc: 0.9040\n",
      "Epoch 68/80\n",
      "704/704 [==============================] - 0s 170us/step - loss: 0.1368 - acc: 0.9560 - val_loss: 0.2336 - val_acc: 0.8974\n",
      "Epoch 69/80\n",
      "704/704 [==============================] - 0s 154us/step - loss: 0.1286 - acc: 0.9531 - val_loss: 0.2504 - val_acc: 0.9040\n",
      "Epoch 70/80\n",
      "704/704 [==============================] - 0s 175us/step - loss: 0.1271 - acc: 0.9616 - val_loss: 0.2677 - val_acc: 0.8874\n",
      "Epoch 71/80\n",
      "704/704 [==============================] - 0s 171us/step - loss: 0.1454 - acc: 0.9503 - val_loss: 0.2292 - val_acc: 0.9305\n",
      "Epoch 72/80\n",
      "704/704 [==============================] - 0s 182us/step - loss: 0.1475 - acc: 0.9517 - val_loss: 0.2956 - val_acc: 0.8874\n",
      "Epoch 73/80\n",
      "704/704 [==============================] - 0s 188us/step - loss: 0.1550 - acc: 0.9403 - val_loss: 0.2929 - val_acc: 0.8808\n",
      "Epoch 74/80\n",
      "704/704 [==============================] - 0s 185us/step - loss: 0.1600 - acc: 0.9418 - val_loss: 0.2807 - val_acc: 0.9007\n",
      "Epoch 75/80\n",
      "704/704 [==============================] - 0s 182us/step - loss: 0.1296 - acc: 0.9545 - val_loss: 0.2191 - val_acc: 0.9172\n",
      "Epoch 76/80\n",
      "704/704 [==============================] - 0s 174us/step - loss: 0.1156 - acc: 0.9631 - val_loss: 0.2520 - val_acc: 0.9073\n",
      "Epoch 77/80\n",
      "704/704 [==============================] - 0s 182us/step - loss: 0.1421 - acc: 0.9489 - val_loss: 0.2861 - val_acc: 0.8543\n",
      "Epoch 78/80\n",
      "704/704 [==============================] - 0s 186us/step - loss: 0.1243 - acc: 0.9517 - val_loss: 0.2674 - val_acc: 0.8974\n",
      "Epoch 79/80\n",
      "704/704 [==============================] - 0s 184us/step - loss: 0.1258 - acc: 0.9474 - val_loss: 0.2396 - val_acc: 0.9139\n",
      "Epoch 80/80\n",
      "704/704 [==============================] - 0s 173us/step - loss: 0.1372 - acc: 0.9588 - val_loss: 0.3818 - val_acc: 0.8510\n"
     ]
    }
   ],
   "source": [
    "from keras.layers import *\n",
    "from keras import Sequential\n",
    "\n",
    "model1 = Sequential()\n",
    "model1.add(Dense(58, activation=\"sigmoid\", input_shape=(58*28,)))\n",
    "model1.add(Dense(5, activation=\"softmax\"))\n",
    "model1.compile(optimizer=\"rmsprop\",\n",
    "              loss=\"sparse_categorical_crossentropy\",\n",
    "              metrics=[\"acc\"])\n",
    "\n",
    "model1.summary()\n",
    "\n",
    "dyn_hist1 = model1.fit(np.array(dynamic_x_train), np.array(dynamic_y_train),\n",
    "                   epochs=80, batch_size=10,\n",
    "                   validation_data=(np.array(dynamic_x_test), np.array(dynamic_y_test)), \n",
    "                   verbose=True)"
   ]
  },
  {
   "cell_type": "code",
   "execution_count": 41,
   "metadata": {},
   "outputs": [
    {
     "name": "stdout",
     "output_type": "stream",
     "text": [
      "0.9304635524749756\n"
     ]
    }
   ],
   "source": [
    "acc1, val_acc1 = dyn_hist1.history[\"acc\"], dyn_hist1.history[\"val_acc\"]\n",
    "print(max(val_acc1))"
   ]
  },
  {
   "cell_type": "code",
   "execution_count": 43,
   "metadata": {},
   "outputs": [],
   "source": [
    "save_history(dyn_hist1.history, \"hists/simple_nn_dyn_hist.pickle\")"
   ]
  },
  {
   "cell_type": "code",
   "execution_count": 189,
   "metadata": {},
   "outputs": [
    {
     "data": {
      "image/png": "[encoded data removed]",
      "text/plain": [
       "<matplotlib.figure.Figure at 0x7faad0398dd8>"
      ]
     },
     "metadata": {
      "needs_background": "light"
     },
     "output_type": "display_data"
    }
   ],
   "source": [
    "plt.figure(figsize=(15, 4))\n",
    "plt.plot(range(1, len(acc1)+1), acc1, label=\"Точность на тестовом наборе данных\")\n",
    "plt.plot(range(1, len(acc1)+1), val_acc1, \"--\", label=\"Точность на валидационном наборе данных\")\n",
    "plt.legend()\n",
    "plt.xticks(range(0, 101, 10))\n",
    "plt.xlabel(\"Номер эпохи\")\n",
    "plt.ylabel(\"Точность\")\n",
    "plt.savefig(\"dyn/only_dyn_nn_model1.png\", dpi=300)"
   ]
  },
  {
   "cell_type": "code",
   "execution_count": 372,
   "metadata": {},
   "outputs": [],
   "source": [
    "def plot_accuraces(stat_history, dyn_history, fname=None):\n",
    "    sigm_train_acc = stat_history.history[\"acc\"]\n",
    "    sigm_val_acc = stat_history.history[\"val_acc\"]\n",
    "    \n",
    "    tanh_train_acc = dyn_history.history[\"acc\"]\n",
    "    tanh_val_acc = dyn_history.history[\"val_acc\"]\n",
    "\n",
    "    \n",
    "    x = range(1, len(sigm_train_acc) + 1)\n",
    "    \n",
    "    fig, axs = plt.subplots(2, figsize=(10, 4))\n",
    "#     fig.suptitle(\"Изменение точности в процессе обучения топологии {}\".format(topology_num))\n",
    "\n",
    "    axs[0].plot(x, sigm_train_acc, label=\"Точность на тестовом датасете\")\n",
    "    axs[0].plot(x, sigm_val_acc, \"--\", label=\"Точность на валидационном датасете\")\n",
    "    axs[0].set_title(\"Метод ансамблей\", x=0.92, y= 0.30, fontsize=8.5)\n",
    "    axs[0].legend(fontsize=8.5)\n",
    "    axs[0].set_ylim(0.60, 0.999)\n",
    "    axs[0].set_yticks([i/1000 for i in range(600, 1001, 50)])\n",
    "    axs[0].grid()\n",
    "    \n",
    "    axs[1].plot(x, tanh_train_acc, label=\"Точность на тестовом датасете\")\n",
    "    axs[1].plot(x, tanh_val_acc, \"--\", label=\"Точность на валидационном датасете\")\n",
    "    axs[1].set_title(\"Единственная нейронная сеть\", x=0.86, y= 0.30, fontsize=8.5)\n",
    "    axs[1].legend(fontsize=8.5)\n",
    "    axs[1].set_yticks([i/1000 for i in range(600, 1001, 50)])\n",
    "    axs[1].set_ylim(0.60, 0.999)\n",
    "    axs[1].grid()\n",
    "\n",
    "    \n",
    "    if fname is not None:\n",
    "        plt.savefig(fname, dpi=300)"
   ]
  },
  {
   "cell_type": "code",
   "execution_count": 223,
   "metadata": {},
   "outputs": [
    {
     "data": {
      "image/png": "[encoded data removed]",
      "text/plain": [
       "<matplotlib.figure.Figure at 0x7faa6c641d68>"
      ]
     },
     "metadata": {
      "needs_background": "light"
     },
     "output_type": "display_data"
    }
   ],
   "source": [
    "plot_accuraces(stat_hist1, dyn_hist1)"
   ]
  },
  {
   "cell_type": "code",
   "execution_count": 230,
   "metadata": {},
   "outputs": [
    {
     "name": "stdout",
     "output_type": "stream",
     "text": [
      "0.00039686904048288104\n"
     ]
    }
   ],
   "source": [
    "times_list = []\n",
    "\n",
    "for i in dynamic_x_test:\n",
    "    s = time()\n",
    "    model1.predict(i.reshape(1, -1))\n",
    "    times_list.append(time() - s)\n",
    "print(np.mean(times_list))"
   ]
  },
  {
   "cell_type": "code",
   "execution_count": 228,
   "metadata": {},
   "outputs": [
    {
     "data": {
      "text/plain": [
       "(302, 1624)"
      ]
     },
     "execution_count": 228,
     "metadata": {},
     "output_type": "execute_result"
    }
   ],
   "source": []
  },
  {
   "cell_type": "markdown",
   "metadata": {},
   "source": [
    "## 1D CONVOLUTION"
   ]
  },
  {
   "cell_type": "code",
   "execution_count": null,
   "metadata": {},
   "outputs": [],
   "source": [
    "print(\"test\")"
   ]
  },
  {
   "cell_type": "code",
   "execution_count": 1,
   "metadata": {},
   "outputs": [
    {
     "name": "stdout",
     "output_type": "stream",
     "text": [
      "hands_down\n",
      "stop\n",
      "hands_up\n",
      "hands_up_small\n",
      "hands_down_small\n",
      "hads_down_up\n",
      "hands_to_sides\n",
      "Loaded\n"
     ]
    },
    {
     "name": "stderr",
     "output_type": "stream",
     "text": [
      "/home/user/.local/lib/python3.6/site-packages/sklearn/svm/base.py:929: ConvergenceWarning: Liblinear failed to converge, increase the number of iterations.\n",
      "  \"the number of iterations.\", ConvergenceWarning)\n"
     ]
    }
   ],
   "source": [
    "import os\n",
    "import cv2\n",
    "import sklearn\n",
    "import numpy as np\n",
    "\n",
    "## Load static gestures dataset\n",
    "\n",
    "import os \n",
    "import numpy as np\n",
    "\n",
    "labels_dict = {\"hands_down\": 0,\n",
    "               \"stop\": 1,\n",
    "               \"hands_up\": 2,\n",
    "               \"hands_up_small\": 3,\n",
    "               \"hands_down_small\": 4,\n",
    "               \"hads_down_up\": 5,\n",
    "               \"hands_to_sides\": 6}\n",
    "\n",
    "data_list = []\n",
    "labels_list = []\n",
    "\n",
    "normalized_data_dir = \"database/static_gestures_with_pose_rescaling\"\n",
    "\n",
    "for folder in os.listdir(normalized_data_dir):\n",
    "    print(folder)\n",
    "    src_path = os.path.join(normalized_data_dir, folder)\n",
    "    for data_file_name in os.listdir(src_path):\n",
    "        full_data_file_path = os.path.join(src_path, data_file_name)\n",
    "        features = np.load(full_data_file_path)\n",
    "        \n",
    "        if not any(np.isnan(features)):\n",
    "            data_list.append(features)\n",
    "            labels_list.append(labels_dict[folder])\n",
    "\n",
    "print(\"Loaded\")\n",
    "\n",
    "## Split static gestures dataset\n",
    "\n",
    "from sklearn.model_selection import train_test_split\n",
    "X_train, X_test, y_train, y_test = train_test_split(data_list, labels_list, stratify=labels_list,\n",
    "                                                    test_size=0.3, random_state=42)\n",
    "\n",
    "\n",
    "\n",
    "# from keras.layers import *\n",
    "# from keras.models import Sequential\n",
    "\n",
    "# model5 = Sequential()\n",
    "# model5.add(Dense(28, activation=\"relu\", input_shape=(28,)))\n",
    "\n",
    "# model5.add(Dense(56, activation=\"relu\"))\n",
    "# model5.add(Dense(28, activation=\"relu\"))\n",
    "\n",
    "\n",
    "# model5.add(Dense(7, activation=\"softmax\"))\n",
    "# model5.compile(optimizer=\"rmsprop\",\n",
    "#               loss=\"sparse_categorical_crossentropy\",\n",
    "#               metrics=[\"acc\"])\n",
    "\n",
    "\n",
    "# train_hist5 = model5.fit(np.array(X_train), np.array(y_train),\n",
    "#                        epochs=33, batch_size=10,\n",
    "#                        validation_data=(np.array(X_test), np.array(y_test)), \n",
    "#                        verbose=False)\n",
    "# static_model = model5\n",
    "\n",
    "from sklearn.svm import LinearSVC, SVC\n",
    "from sklearn.pipeline import Pipeline\n",
    "from sklearn.preprocessing import StandardScaler\n",
    "from sklearn import metrics\n",
    "\n",
    "\n",
    "results_dict = {}\n",
    "\n",
    "# for Cc in range(1, 100):\n",
    "svm_clf = Pipeline([(\"scaler\", StandardScaler()),\n",
    "                    (\"linear_svc\", LinearSVC(C=13, loss=\"hinge\"))])\n",
    "svm_clf.fit(X_train, y_train)\n",
    "y_pred = svm_clf.predict(X_test)\n",
    "acc = metrics.accuracy_score(y_test, y_pred)\n",
    "#     results_dict[Cc] = acc\n",
    "\n",
    "acc\n",
    "\n",
    "\n",
    "\n",
    "static_model = svm_clf\n",
    "\n",
    "## Load dynamic gestures data\n",
    "\n",
    "dynamic_gestures_labesl_dict = {0: \"stop\",\n",
    "                                1: \"come_on\",\n",
    "                                2: \"go_away\",\n",
    "                                3: \"look_at_me\",\n",
    "                                4: \"other\"}\n",
    "\n",
    "gestures_to_num_dict = dict(zip(dynamic_gestures_labesl_dict.values(), dynamic_gestures_labesl_dict.keys()))\n",
    "\n",
    "full_data = []\n",
    "full_labels = []\n",
    "\n",
    "for gesture in gestures_to_num_dict:\n",
    "    fname = \"{}.npy\".format(gesture)\n",
    "    data = np.load(fname, allow_pickle=True)\n",
    "    label = gestures_to_num_dict[gesture]\n",
    "    for single_data in data:\n",
    "        if len(single_data) == 63:\n",
    "            full_data.append(np.array(single_data[5:]))\n",
    "            full_labels.append(label)\n",
    "    \n",
    "\n",
    "full_data = np.array(full_data)\n",
    "full_labels = np.array(full_labels)\n",
    "\n",
    "full_data.shape\n",
    "\n",
    "only_dynamic_data = np.array([np.concatenate(data) for data in full_data])\n",
    "\n",
    "only_dynamic_data.shape\n",
    "\n",
    "## Clear features to static gestures\n",
    "\n",
    "labels_dict = {\"hands_down\": 0,\n",
    "               \"stop\": 1,\n",
    "               \"hands_up\": 2,\n",
    "               \"hands_up_small\": 3,\n",
    "               \"hands_down_small\": 4,\n",
    "               \"hads_down_up\": 5,\n",
    "               \"hands_to_sides\": 6}\n",
    "\n",
    "decode_labels_dict = {val: key for key, val in labels_dict.items()}\n",
    "\n",
    "def get_static_gestures_list(features_sequence):\n",
    "    static_gestures_numbers = []\n",
    "    for features in features_sequence:\n",
    "        data = np.array([features])\n",
    "        prediction_result = static_model.predict(data)[0]\n",
    "\n",
    "        static_gestures_numbers.append(prediction_result)\n",
    "    return static_gestures_numbers\n",
    "        \n",
    "\n",
    "\n",
    "\n",
    "\n",
    "static_gestures_sequence_lists = []\n",
    "\n",
    "for data in full_data:\n",
    "    static_gestures_sequence = get_static_gestures_list(data)\n",
    "    data = np.array(static_gestures_sequence)\n",
    "    data = np.hstack(data)\n",
    "    static_gestures_sequence_lists.append(data)\n",
    "\n",
    "\n",
    "import pickle\n",
    "\n",
    "def save_history(history, fname):\n",
    "    with open(fname, \"wb\") as file:\n",
    "        pickle.dump(history, file, protocol=pickle.HIGHEST_PROTOCOL)"
   ]
  },
  {
   "cell_type": "code",
   "execution_count": 3,
   "metadata": {},
   "outputs": [
    {
     "name": "stdout",
     "output_type": "stream",
     "text": [
      "2.1.0\n",
      "True\n",
      "[PhysicalDevice(name='/physical_device:GPU:0', device_type='GPU')]\n"
     ]
    }
   ],
   "source": [
    "import tensorflow as tf\n",
    "print(tf.__version__)\n",
    "print(tf.test.is_built_with_cuda())\n",
    "print(tf.config.list_physical_devices(\"GPU\"))"
   ]
  },
  {
   "cell_type": "code",
   "execution_count": null,
   "metadata": {},
   "outputs": [],
   "source": []
  },
  {
   "cell_type": "markdown",
   "metadata": {},
   "source": [
    "### STSTIC"
   ]
  },
  {
   "cell_type": "code",
   "execution_count": 5,
   "metadata": {},
   "outputs": [],
   "source": [
    "dynamic_x_train, dynamic_x_test, dynamic_y_train, dynamic_y_test = train_test_split(static_gestures_sequence_lists, full_labels, stratify=full_labels,\n",
    "                                                                                                test_size=0.3, random_state=42)\n",
    "dynamic_x_train = np.array(dynamic_x_train).reshape(704, 58, 1)\n",
    "dynamic_x_test = np.array(dynamic_x_test).reshape(302, 58, 1)"
   ]
  },
  {
   "cell_type": "code",
   "execution_count": 25,
   "metadata": {},
   "outputs": [],
   "source": [
    "# import tensorflow as tf\n",
    "\n",
    "# gpus = tf.config.experimental.list_physical_devices('GPU')\n",
    "# if gpus:\n",
    "#     try:\n",
    "#         # Restrict TensorFlow to only use the fourth GPU\n",
    "#         tf.config.experimental.set_visible_devices(gpus[0], 'GPU')\n",
    "\n",
    "#         # Currently, memory growth needs to be the same across GPUs\n",
    "#         for gpu in gpus:\n",
    "#             tf.config.experimental.set_memory_growth(gpu, True)\n",
    "#         logical_gpus = tf.config.experimental.list_logical_devices('GPU')\n",
    "#         print(len(gpus), \"Physical GPUs,\", len(logical_gpus), \"Logical GPUs\")\n",
    "#     except RuntimeError as e:\n",
    "#         # Memory growth must be set before GPUs have been initialized\n",
    "#         print(e)\n",
    "\n",
    "# import keras\n",
    "# import tensorflow as tf\n",
    "\n",
    "# config = tf.compat.v1.ConfigProto()\n",
    "# config.gpu_options.per_process_gpu_memory_fraction = 0.9\n",
    "# keras.backend.tensorflow_backend.set_session(tf.compat.v1.Session(config=config))"
   ]
  },
  {
   "cell_type": "code",
   "execution_count": 6,
   "metadata": {},
   "outputs": [
    {
     "name": "stdout",
     "output_type": "stream",
     "text": [
      "Train on 704 samples, validate on 302 samples\n",
      "Epoch 1/100\n",
      "704/704 [==============================] - 2s 3ms/sample - loss: 1.6377 - acc: 0.2656 - val_loss: 1.6099 - val_acc: 0.2781\n",
      "Epoch 2/100\n",
      "704/704 [==============================] - 0s 400us/sample - loss: 1.6025 - acc: 0.2699 - val_loss: 1.6274 - val_acc: 0.1921\n",
      "Epoch 3/100\n",
      "704/704 [==============================] - 0s 406us/sample - loss: 1.6054 - acc: 0.2543 - val_loss: 1.6392 - val_acc: 0.2781\n",
      "Epoch 4/100\n",
      "704/704 [==============================] - 0s 404us/sample - loss: 1.6095 - acc: 0.2656 - val_loss: 1.6004 - val_acc: 0.2781\n",
      "Epoch 5/100\n",
      "704/704 [==============================] - 0s 400us/sample - loss: 1.6060 - acc: 0.2756 - val_loss: 1.6005 - val_acc: 0.2781\n",
      "Epoch 6/100\n",
      "704/704 [==============================] - 0s 405us/sample - loss: 1.6002 - acc: 0.2699 - val_loss: 1.6071 - val_acc: 0.2781\n",
      "Epoch 7/100\n",
      "704/704 [==============================] - 0s 405us/sample - loss: 1.6066 - acc: 0.2756 - val_loss: 1.6081 - val_acc: 0.2781\n",
      "Epoch 8/100\n",
      "704/704 [==============================] - 0s 394us/sample - loss: 1.6020 - acc: 0.2656 - val_loss: 1.6081 - val_acc: 0.2781\n",
      "Epoch 9/100\n",
      "704/704 [==============================] - 0s 408us/sample - loss: 1.6087 - acc: 0.2756 - val_loss: 1.6068 - val_acc: 0.1821\n",
      "Epoch 10/100\n",
      "704/704 [==============================] - 0s 411us/sample - loss: 1.6042 - acc: 0.2670 - val_loss: 1.6046 - val_acc: 0.2781\n",
      "Epoch 11/100\n",
      "704/704 [==============================] - 0s 409us/sample - loss: 1.6099 - acc: 0.2685 - val_loss: 1.5977 - val_acc: 0.2781\n",
      "Epoch 12/100\n",
      "704/704 [==============================] - 0s 399us/sample - loss: 1.6033 - acc: 0.2756 - val_loss: 1.6228 - val_acc: 0.1921\n",
      "Epoch 13/100\n",
      "704/704 [==============================] - 0s 413us/sample - loss: 1.6070 - acc: 0.2614 - val_loss: 1.6090 - val_acc: 0.2781\n",
      "Epoch 14/100\n",
      "704/704 [==============================] - 0s 412us/sample - loss: 1.6022 - acc: 0.2685 - val_loss: 1.5961 - val_acc: 0.2781\n",
      "Epoch 15/100\n",
      "704/704 [==============================] - 0s 392us/sample - loss: 1.5629 - acc: 0.2798 - val_loss: 1.5416 - val_acc: 0.3709\n",
      "Epoch 16/100\n",
      "704/704 [==============================] - 0s 413us/sample - loss: 1.4851 - acc: 0.3622 - val_loss: 1.4385 - val_acc: 0.4669\n",
      "Epoch 17/100\n",
      "704/704 [==============================] - 0s 412us/sample - loss: 1.4105 - acc: 0.4062 - val_loss: 1.3778 - val_acc: 0.3808\n",
      "Epoch 18/100\n",
      "704/704 [==============================] - 0s 405us/sample - loss: 1.3359 - acc: 0.4347 - val_loss: 1.3345 - val_acc: 0.4536\n",
      "Epoch 19/100\n",
      "704/704 [==============================] - 0s 403us/sample - loss: 1.2727 - acc: 0.5142 - val_loss: 1.2918 - val_acc: 0.4073\n",
      "Epoch 20/100\n",
      "704/704 [==============================] - 0s 404us/sample - loss: 1.2100 - acc: 0.5611 - val_loss: 1.1885 - val_acc: 0.5397\n",
      "Epoch 21/100\n",
      "704/704 [==============================] - 0s 409us/sample - loss: 1.1520 - acc: 0.6094 - val_loss: 1.1217 - val_acc: 0.6159\n",
      "Epoch 22/100\n",
      "704/704 [==============================] - 0s 423us/sample - loss: 1.0840 - acc: 0.6690 - val_loss: 1.1725 - val_acc: 0.4669\n",
      "Epoch 23/100\n",
      "704/704 [==============================] - 0s 413us/sample - loss: 1.0257 - acc: 0.6932 - val_loss: 1.0889 - val_acc: 0.5563\n",
      "Epoch 24/100\n",
      "704/704 [==============================] - 0s 400us/sample - loss: 0.9668 - acc: 0.7244 - val_loss: 1.1147 - val_acc: 0.5629\n",
      "Epoch 25/100\n",
      "704/704 [==============================] - 0s 417us/sample - loss: 0.9143 - acc: 0.7330 - val_loss: 0.9201 - val_acc: 0.7450\n",
      "Epoch 26/100\n",
      "704/704 [==============================] - 0s 402us/sample - loss: 0.8764 - acc: 0.7358 - val_loss: 0.9023 - val_acc: 0.7053\n",
      "Epoch 27/100\n",
      "704/704 [==============================] - 0s 415us/sample - loss: 0.8382 - acc: 0.7415 - val_loss: 0.8537 - val_acc: 0.7285\n",
      "Epoch 28/100\n",
      "704/704 [==============================] - 0s 410us/sample - loss: 0.8091 - acc: 0.7344 - val_loss: 0.8511 - val_acc: 0.7020\n",
      "Epoch 29/100\n",
      "704/704 [==============================] - 0s 403us/sample - loss: 0.7767 - acc: 0.7557 - val_loss: 0.8294 - val_acc: 0.7252\n",
      "Epoch 30/100\n",
      "704/704 [==============================] - 0s 409us/sample - loss: 0.7465 - acc: 0.7642 - val_loss: 0.7657 - val_acc: 0.7417\n",
      "Epoch 31/100\n",
      "704/704 [==============================] - 0s 401us/sample - loss: 0.7150 - acc: 0.7528 - val_loss: 0.9170 - val_acc: 0.6722\n",
      "Epoch 32/100\n",
      "704/704 [==============================] - 0s 421us/sample - loss: 0.7090 - acc: 0.7457 - val_loss: 0.7231 - val_acc: 0.7748\n",
      "Epoch 33/100\n",
      "704/704 [==============================] - 0s 397us/sample - loss: 0.6684 - acc: 0.7727 - val_loss: 0.7407 - val_acc: 0.7351\n",
      "Epoch 34/100\n",
      "704/704 [==============================] - 0s 408us/sample - loss: 0.6486 - acc: 0.7685 - val_loss: 0.8024 - val_acc: 0.6689\n",
      "Epoch 35/100\n",
      "704/704 [==============================] - 0s 407us/sample - loss: 0.6399 - acc: 0.7841 - val_loss: 0.6697 - val_acc: 0.7649\n",
      "Epoch 36/100\n",
      "704/704 [==============================] - 0s 399us/sample - loss: 0.6175 - acc: 0.7827 - val_loss: 0.6661 - val_acc: 0.8113\n",
      "Epoch 37/100\n",
      "704/704 [==============================] - 0s 413us/sample - loss: 0.5865 - acc: 0.8026 - val_loss: 0.6586 - val_acc: 0.7616\n",
      "Epoch 38/100\n",
      "704/704 [==============================] - 0s 427us/sample - loss: 0.5708 - acc: 0.8068 - val_loss: 0.6096 - val_acc: 0.8146\n",
      "Epoch 39/100\n",
      "704/704 [==============================] - 0s 403us/sample - loss: 0.5600 - acc: 0.8111 - val_loss: 0.6047 - val_acc: 0.8146\n",
      "Epoch 40/100\n",
      "704/704 [==============================] - 0s 412us/sample - loss: 0.5567 - acc: 0.8097 - val_loss: 0.7362 - val_acc: 0.6887\n",
      "Epoch 41/100\n",
      "704/704 [==============================] - 0s 406us/sample - loss: 0.5443 - acc: 0.8068 - val_loss: 0.5824 - val_acc: 0.8179\n",
      "Epoch 42/100\n",
      "704/704 [==============================] - 0s 405us/sample - loss: 0.5152 - acc: 0.8267 - val_loss: 0.6634 - val_acc: 0.7450\n",
      "Epoch 43/100\n",
      "704/704 [==============================] - 0s 410us/sample - loss: 0.5239 - acc: 0.8196 - val_loss: 0.6099 - val_acc: 0.7748\n",
      "Epoch 44/100\n",
      "704/704 [==============================] - 0s 411us/sample - loss: 0.5099 - acc: 0.8324 - val_loss: 0.5512 - val_acc: 0.8311\n",
      "Epoch 45/100\n",
      "704/704 [==============================] - 0s 410us/sample - loss: 0.4888 - acc: 0.8480 - val_loss: 0.5640 - val_acc: 0.8146\n",
      "Epoch 46/100\n",
      "704/704 [==============================] - 0s 411us/sample - loss: 0.4910 - acc: 0.8409 - val_loss: 0.8518 - val_acc: 0.6457\n",
      "Epoch 47/100\n",
      "704/704 [==============================] - 0s 412us/sample - loss: 0.4820 - acc: 0.8381 - val_loss: 0.5585 - val_acc: 0.8179\n",
      "Epoch 48/100\n",
      "704/704 [==============================] - 0s 409us/sample - loss: 0.4721 - acc: 0.8466 - val_loss: 0.5336 - val_acc: 0.8245\n",
      "Epoch 49/100\n",
      "704/704 [==============================] - 0s 414us/sample - loss: 0.4516 - acc: 0.8537 - val_loss: 0.5507 - val_acc: 0.7980\n",
      "Epoch 50/100\n",
      "704/704 [==============================] - 0s 414us/sample - loss: 0.4517 - acc: 0.8551 - val_loss: 0.7076 - val_acc: 0.7053\n",
      "Epoch 51/100\n",
      "704/704 [==============================] - 0s 409us/sample - loss: 0.4359 - acc: 0.8651 - val_loss: 0.5100 - val_acc: 0.8377\n",
      "Epoch 52/100\n",
      "704/704 [==============================] - 0s 412us/sample - loss: 0.4361 - acc: 0.8608 - val_loss: 0.5307 - val_acc: 0.8212\n",
      "Epoch 53/100\n",
      "704/704 [==============================] - 0s 414us/sample - loss: 0.4256 - acc: 0.8736 - val_loss: 0.5105 - val_acc: 0.8212\n",
      "Epoch 54/100\n",
      "704/704 [==============================] - 0s 407us/sample - loss: 0.4187 - acc: 0.8594 - val_loss: 0.4950 - val_acc: 0.8444\n",
      "Epoch 55/100\n",
      "704/704 [==============================] - 0s 409us/sample - loss: 0.4084 - acc: 0.8693 - val_loss: 0.5357 - val_acc: 0.8013\n",
      "Epoch 56/100\n",
      "704/704 [==============================] - 0s 407us/sample - loss: 0.4165 - acc: 0.8594 - val_loss: 0.4983 - val_acc: 0.8377\n",
      "Epoch 57/100\n",
      "704/704 [==============================] - 0s 423us/sample - loss: 0.3950 - acc: 0.8693 - val_loss: 0.5059 - val_acc: 0.8212\n",
      "Epoch 58/100\n",
      "704/704 [==============================] - 0s 427us/sample - loss: 0.3897 - acc: 0.8750 - val_loss: 0.4926 - val_acc: 0.8344\n",
      "Epoch 59/100\n",
      "704/704 [==============================] - 0s 422us/sample - loss: 0.3850 - acc: 0.8849 - val_loss: 0.5002 - val_acc: 0.8146\n",
      "Epoch 60/100\n",
      "704/704 [==============================] - 0s 419us/sample - loss: 0.3926 - acc: 0.8778 - val_loss: 0.5230 - val_acc: 0.8344\n",
      "Epoch 61/100\n",
      "704/704 [==============================] - 0s 411us/sample - loss: 0.3792 - acc: 0.8892 - val_loss: 0.4937 - val_acc: 0.8444\n",
      "Epoch 62/100\n",
      "704/704 [==============================] - 0s 425us/sample - loss: 0.3869 - acc: 0.8892 - val_loss: 0.5181 - val_acc: 0.8245\n",
      "Epoch 63/100\n",
      "704/704 [==============================] - 0s 437us/sample - loss: 0.3841 - acc: 0.8778 - val_loss: 0.6043 - val_acc: 0.7947\n",
      "Epoch 64/100\n",
      "704/704 [==============================] - 0s 422us/sample - loss: 0.3781 - acc: 0.8835 - val_loss: 0.4605 - val_acc: 0.8576\n",
      "Epoch 65/100\n",
      "704/704 [==============================] - 0s 408us/sample - loss: 0.3618 - acc: 0.8750 - val_loss: 0.5004 - val_acc: 0.8411\n",
      "Epoch 66/100\n",
      "704/704 [==============================] - 0s 399us/sample - loss: 0.3509 - acc: 0.8906 - val_loss: 0.4511 - val_acc: 0.8510\n",
      "Epoch 67/100\n",
      "704/704 [==============================] - 0s 412us/sample - loss: 0.3462 - acc: 0.8906 - val_loss: 0.4657 - val_acc: 0.8510\n",
      "Epoch 68/100\n",
      "704/704 [==============================] - 0s 409us/sample - loss: 0.3425 - acc: 0.8963 - val_loss: 0.5050 - val_acc: 0.8212\n",
      "Epoch 69/100\n",
      "704/704 [==============================] - 0s 410us/sample - loss: 0.3524 - acc: 0.8864 - val_loss: 0.4470 - val_acc: 0.8642\n",
      "Epoch 70/100\n",
      "704/704 [==============================] - 0s 414us/sample - loss: 0.3342 - acc: 0.8949 - val_loss: 0.4504 - val_acc: 0.8510\n",
      "Epoch 71/100\n",
      "704/704 [==============================] - 0s 425us/sample - loss: 0.3372 - acc: 0.8892 - val_loss: 0.5744 - val_acc: 0.7881\n",
      "Epoch 72/100\n",
      "704/704 [==============================] - 0s 424us/sample - loss: 0.3538 - acc: 0.8864 - val_loss: 0.4755 - val_acc: 0.8444\n",
      "Epoch 73/100\n",
      "704/704 [==============================] - 0s 425us/sample - loss: 0.3189 - acc: 0.9062 - val_loss: 0.4467 - val_acc: 0.8543\n",
      "Epoch 74/100\n",
      "704/704 [==============================] - 0s 420us/sample - loss: 0.3241 - acc: 0.9006 - val_loss: 0.5450 - val_acc: 0.8013\n",
      "Epoch 75/100\n",
      "704/704 [==============================] - 0s 402us/sample - loss: 0.3144 - acc: 0.8977 - val_loss: 0.4572 - val_acc: 0.8377\n",
      "Epoch 76/100\n",
      "704/704 [==============================] - 0s 433us/sample - loss: 0.3155 - acc: 0.8920 - val_loss: 0.5134 - val_acc: 0.8079\n",
      "Epoch 77/100\n",
      "704/704 [==============================] - 0s 406us/sample - loss: 0.3181 - acc: 0.8991 - val_loss: 0.4656 - val_acc: 0.8344\n",
      "Epoch 78/100\n",
      "704/704 [==============================] - 0s 416us/sample - loss: 0.3123 - acc: 0.8991 - val_loss: 0.4858 - val_acc: 0.8344\n",
      "Epoch 79/100\n",
      "704/704 [==============================] - 0s 409us/sample - loss: 0.3018 - acc: 0.9048 - val_loss: 0.5815 - val_acc: 0.7682\n",
      "Epoch 80/100\n",
      "704/704 [==============================] - 0s 396us/sample - loss: 0.3001 - acc: 0.9119 - val_loss: 0.5192 - val_acc: 0.8344\n",
      "Epoch 81/100\n",
      "704/704 [==============================] - 0s 394us/sample - loss: 0.2974 - acc: 0.9062 - val_loss: 0.4207 - val_acc: 0.8576\n",
      "Epoch 82/100\n",
      "704/704 [==============================] - 0s 405us/sample - loss: 0.2799 - acc: 0.9190 - val_loss: 0.4452 - val_acc: 0.8543\n",
      "Epoch 83/100\n",
      "704/704 [==============================] - 0s 394us/sample - loss: 0.2836 - acc: 0.9148 - val_loss: 0.4851 - val_acc: 0.8311\n",
      "Epoch 84/100\n",
      "704/704 [==============================] - 0s 398us/sample - loss: 0.2867 - acc: 0.9233 - val_loss: 0.4938 - val_acc: 0.8278\n",
      "Epoch 85/100\n",
      "704/704 [==============================] - 0s 384us/sample - loss: 0.3077 - acc: 0.8991 - val_loss: 0.4461 - val_acc: 0.8543\n",
      "Epoch 86/100\n",
      "704/704 [==============================] - 0s 392us/sample - loss: 0.2727 - acc: 0.9219 - val_loss: 0.4636 - val_acc: 0.8609\n",
      "Epoch 87/100\n",
      "704/704 [==============================] - 0s 397us/sample - loss: 0.2879 - acc: 0.9162 - val_loss: 0.4220 - val_acc: 0.8543\n",
      "Epoch 88/100\n",
      "704/704 [==============================] - 0s 396us/sample - loss: 0.2708 - acc: 0.9233 - val_loss: 0.4328 - val_acc: 0.8609\n",
      "Epoch 89/100\n",
      "704/704 [==============================] - 0s 389us/sample - loss: 0.2748 - acc: 0.9148 - val_loss: 0.4173 - val_acc: 0.8709\n",
      "Epoch 90/100\n",
      "704/704 [==============================] - 0s 394us/sample - loss: 0.2689 - acc: 0.9105 - val_loss: 0.7444 - val_acc: 0.7483\n",
      "Epoch 91/100\n",
      "704/704 [==============================] - 0s 389us/sample - loss: 0.2810 - acc: 0.9148 - val_loss: 0.4361 - val_acc: 0.8477\n",
      "Epoch 92/100\n",
      "704/704 [==============================] - 0s 407us/sample - loss: 0.2652 - acc: 0.9020 - val_loss: 0.4341 - val_acc: 0.8510\n",
      "Epoch 93/100\n",
      "704/704 [==============================] - 0s 386us/sample - loss: 0.2507 - acc: 0.9276 - val_loss: 0.4098 - val_acc: 0.8576\n",
      "Epoch 94/100\n",
      "704/704 [==============================] - 0s 390us/sample - loss: 0.2382 - acc: 0.9418 - val_loss: 0.6871 - val_acc: 0.7285\n",
      "Epoch 95/100\n",
      "704/704 [==============================] - 0s 392us/sample - loss: 0.2641 - acc: 0.9176 - val_loss: 0.4639 - val_acc: 0.8543\n",
      "Epoch 96/100\n",
      "704/704 [==============================] - 0s 390us/sample - loss: 0.2599 - acc: 0.9190 - val_loss: 0.4339 - val_acc: 0.8411\n",
      "Epoch 97/100\n",
      "704/704 [==============================] - 0s 394us/sample - loss: 0.2549 - acc: 0.9233 - val_loss: 0.4022 - val_acc: 0.8642\n",
      "Epoch 98/100\n",
      "704/704 [==============================] - 0s 390us/sample - loss: 0.2350 - acc: 0.9304 - val_loss: 0.5449 - val_acc: 0.8079\n",
      "Epoch 99/100\n",
      "704/704 [==============================] - 0s 391us/sample - loss: 0.2374 - acc: 0.9233 - val_loss: 0.3941 - val_acc: 0.8642\n",
      "Epoch 100/100\n",
      "704/704 [==============================] - 0s 393us/sample - loss: 0.2424 - acc: 0.9261 - val_loss: 0.4445 - val_acc: 0.8411\n"
     ]
    }
   ],
   "source": [
    "# \n",
    "# import tensorflow as tf\n",
    "# physical_devices = tf.config.experimental.list_physical_devices(\"GPU\")\n",
    "# tf.config.experimental.set_memory_growth(physical_devices[0], True)\n",
    "\n",
    "\n",
    "from tensorflow.keras.models import Sequential\n",
    "from tensorflow.keras import layers\n",
    "from tensorflow.keras.optimizers import RMSprop\n",
    "\n",
    "\n",
    "\n",
    "input_shape=(None, dynamic_x_train[0].shape[-1])\n",
    "\n",
    "sconv_1d_model = Sequential()\n",
    "sconv_1d_model.add(layers.Conv1D(58*28, 5, activation='sigmoid', input_shape=input_shape))\n",
    "sconv_1d_model.add(layers.Conv1D(58, 5, activation='sigmoid'))\n",
    "sconv_1d_model.add(layers.MaxPooling1D(3))\n",
    "sconv_1d_model.add(layers.Conv1D(32, 5, activation='sigmoid'))#6.4. Обработка последовательностей с помощью сверточных нейронных сетей   265\n",
    "sconv_1d_model.add(layers.GlobalMaxPooling1D())\n",
    "sconv_1d_model.add(layers.Dense(5, activation=\"softmax\"))\n",
    "sconv_1d_model.compile(optimizer=\"rmsprop\",\n",
    "              loss=\"sparse_categorical_crossentropy\",\n",
    "              metrics=[\"acc\"])\n",
    "\n",
    "shistory_1d = sconv_1d_model.fit(dynamic_x_train, dynamic_y_train, epochs=100, batch_size=25,\n",
    "                                 validation_data=(np.array(dynamic_x_test), np.array(dynamic_y_test)),\n",
    "                                 verbose=True)"
   ]
  },
  {
   "cell_type": "code",
   "execution_count": 9,
   "metadata": {},
   "outputs": [],
   "source": [
    "save_history(shistory_1d.history, \"hists/conv_1d_stat_and_dyn.pickle\")"
   ]
  },
  {
   "cell_type": "markdown",
   "metadata": {},
   "source": [
    "## Only dynamic "
   ]
  },
  {
   "cell_type": "code",
   "execution_count": null,
   "metadata": {},
   "outputs": [],
   "source": []
  },
  {
   "cell_type": "code",
   "execution_count": 387,
   "metadata": {},
   "outputs": [],
   "source": [
    "dynamic_x_train, dynamic_x_test, dynamic_y_train, dynamic_y_test = train_test_split(only_dynamic_data, full_labels, stratify=full_labels,\n",
    "                                                                                                test_size=0.3, random_state=42)"
   ]
  },
  {
   "cell_type": "code",
   "execution_count": 388,
   "metadata": {},
   "outputs": [],
   "source": [
    "dynamic_x_train = np.array(dynamic_x_train).reshape(704, 58*28, 1)\n",
    "dynamic_x_test = np.array(dynamic_x_test).reshape(302, 58*28, 1)\n",
    "\n",
    "# dynamic_y_train = np.array(dynamic_y_train).reshape(704, 58, 1)\n",
    "# dynamic_y_test = np.array(dynamic_y_test).reshape(704, 58, 1)"
   ]
  },
  {
   "cell_type": "code",
   "execution_count": 389,
   "metadata": {},
   "outputs": [
    {
     "data": {
      "text/plain": [
       "(None, 1)"
      ]
     },
     "execution_count": 389,
     "metadata": {},
     "output_type": "execute_result"
    }
   ],
   "source": [
    "input_shape=(None, dynamic_x_train[0].shape[-1])\n",
    "input_shape"
   ]
  },
  {
   "cell_type": "code",
   "execution_count": 390,
   "metadata": {},
   "outputs": [
    {
     "name": "stdout",
     "output_type": "stream",
     "text": [
      "Train on 704 samples, validate on 302 samples\n",
      "Epoch 1/100\n",
      "704/704 [==============================] - 6s 9ms/sample - loss: 1.6159 - acc: 0.2514 - val_loss: 1.6065 - val_acc: 0.2781\n",
      "Epoch 2/100\n",
      "704/704 [==============================] - 5s 8ms/sample - loss: 1.6066 - acc: 0.2670 - val_loss: 1.6264 - val_acc: 0.1821\n",
      "Epoch 3/100\n",
      "704/704 [==============================] - 6s 8ms/sample - loss: 1.6066 - acc: 0.2514 - val_loss: 1.6102 - val_acc: 0.2781\n",
      "Epoch 4/100\n",
      "704/704 [==============================] - 5s 7ms/sample - loss: 1.6070 - acc: 0.2642 - val_loss: 1.5893 - val_acc: 0.2781\n",
      "Epoch 5/100\n",
      "704/704 [==============================] - 5s 7ms/sample - loss: 1.5975 - acc: 0.2614 - val_loss: 1.5895 - val_acc: 0.2781\n",
      "Epoch 6/100\n",
      "704/704 [==============================] - 5s 7ms/sample - loss: 1.5700 - acc: 0.2784 - val_loss: 1.5244 - val_acc: 0.2781\n",
      "Epoch 7/100\n",
      "704/704 [==============================] - 5s 7ms/sample - loss: 1.5001 - acc: 0.2926 - val_loss: 1.4734 - val_acc: 0.2781\n",
      "Epoch 8/100\n",
      "704/704 [==============================] - 5s 7ms/sample - loss: 1.4271 - acc: 0.3452 - val_loss: 1.3901 - val_acc: 0.3841\n",
      "Epoch 9/100\n",
      "704/704 [==============================] - 5s 7ms/sample - loss: 1.3555 - acc: 0.4148 - val_loss: 1.3628 - val_acc: 0.4172\n",
      "Epoch 10/100\n",
      "704/704 [==============================] - 5s 7ms/sample - loss: 1.2797 - acc: 0.4645 - val_loss: 1.2386 - val_acc: 0.4967\n",
      "Epoch 11/100\n",
      "704/704 [==============================] - 5s 7ms/sample - loss: 1.1910 - acc: 0.5312 - val_loss: 1.1484 - val_acc: 0.5265\n",
      "Epoch 12/100\n",
      "704/704 [==============================] - 5s 7ms/sample - loss: 1.1115 - acc: 0.5682 - val_loss: 1.0549 - val_acc: 0.7086\n",
      "Epoch 13/100\n",
      "704/704 [==============================] - 5s 7ms/sample - loss: 1.0191 - acc: 0.6392 - val_loss: 0.9569 - val_acc: 0.6291\n",
      "Epoch 14/100\n",
      "704/704 [==============================] - 5s 7ms/sample - loss: 0.9228 - acc: 0.7230 - val_loss: 0.8856 - val_acc: 0.7219\n",
      "Epoch 15/100\n",
      "704/704 [==============================] - 5s 8ms/sample - loss: 0.8337 - acc: 0.7656 - val_loss: 0.7677 - val_acc: 0.7914\n",
      "Epoch 16/100\n",
      "704/704 [==============================] - 5s 7ms/sample - loss: 0.7353 - acc: 0.7940 - val_loss: 0.7087 - val_acc: 0.7748\n",
      "Epoch 17/100\n",
      "704/704 [==============================] - 5s 8ms/sample - loss: 0.6400 - acc: 0.8466 - val_loss: 0.6362 - val_acc: 0.8013\n",
      "Epoch 18/100\n",
      "704/704 [==============================] - 5s 7ms/sample - loss: 0.5593 - acc: 0.8565 - val_loss: 0.5356 - val_acc: 0.8675\n",
      "Epoch 19/100\n",
      "704/704 [==============================] - 5s 7ms/sample - loss: 0.4992 - acc: 0.8665 - val_loss: 0.5168 - val_acc: 0.8311\n",
      "Epoch 20/100\n",
      "704/704 [==============================] - 5s 7ms/sample - loss: 0.4394 - acc: 0.8835 - val_loss: 0.4612 - val_acc: 0.8742\n",
      "Epoch 21/100\n",
      "704/704 [==============================] - 5s 7ms/sample - loss: 0.4000 - acc: 0.8892 - val_loss: 0.4266 - val_acc: 0.8576\n",
      "Epoch 22/100\n",
      "704/704 [==============================] - 5s 7ms/sample - loss: 0.3681 - acc: 0.9034 - val_loss: 0.4295 - val_acc: 0.8377\n",
      "Epoch 23/100\n",
      "704/704 [==============================] - 5s 7ms/sample - loss: 0.3302 - acc: 0.9119 - val_loss: 0.5568 - val_acc: 0.8013\n",
      "Epoch 24/100\n",
      "704/704 [==============================] - 5s 7ms/sample - loss: 0.3140 - acc: 0.9134 - val_loss: 0.3670 - val_acc: 0.8675\n",
      "Epoch 25/100\n",
      "704/704 [==============================] - 5s 7ms/sample - loss: 0.2957 - acc: 0.9162 - val_loss: 0.3266 - val_acc: 0.9040\n",
      "Epoch 26/100\n",
      "704/704 [==============================] - 5s 7ms/sample - loss: 0.2717 - acc: 0.9190 - val_loss: 0.2899 - val_acc: 0.9139\n",
      "Epoch 27/100\n",
      "704/704 [==============================] - 5s 7ms/sample - loss: 0.2520 - acc: 0.9318 - val_loss: 0.3057 - val_acc: 0.9139\n",
      "Epoch 28/100\n",
      "704/704 [==============================] - 5s 8ms/sample - loss: 0.2453 - acc: 0.9276 - val_loss: 0.2997 - val_acc: 0.9073\n",
      "Epoch 29/100\n",
      "704/704 [==============================] - 5s 7ms/sample - loss: 0.2305 - acc: 0.9418 - val_loss: 0.4166 - val_acc: 0.8179\n",
      "Epoch 30/100\n",
      "704/704 [==============================] - 5s 7ms/sample - loss: 0.2142 - acc: 0.9361 - val_loss: 0.2323 - val_acc: 0.9404\n",
      "Epoch 31/100\n",
      "704/704 [==============================] - 5s 7ms/sample - loss: 0.1940 - acc: 0.9531 - val_loss: 0.2522 - val_acc: 0.9139\n",
      "Epoch 32/100\n",
      "704/704 [==============================] - 5s 7ms/sample - loss: 0.1980 - acc: 0.9474 - val_loss: 0.2911 - val_acc: 0.8808\n",
      "Epoch 33/100\n",
      "704/704 [==============================] - 5s 7ms/sample - loss: 0.1866 - acc: 0.9474 - val_loss: 0.2424 - val_acc: 0.9172\n",
      "Epoch 34/100\n",
      "704/704 [==============================] - 5s 7ms/sample - loss: 0.1775 - acc: 0.9446 - val_loss: 0.2601 - val_acc: 0.8874\n",
      "Epoch 35/100\n",
      "704/704 [==============================] - 5s 7ms/sample - loss: 0.1669 - acc: 0.9489 - val_loss: 0.2163 - val_acc: 0.9305\n",
      "Epoch 36/100\n",
      "704/704 [==============================] - 5s 7ms/sample - loss: 0.1592 - acc: 0.9545 - val_loss: 0.2160 - val_acc: 0.9205\n",
      "Epoch 37/100\n",
      "704/704 [==============================] - 5s 7ms/sample - loss: 0.1570 - acc: 0.9574 - val_loss: 0.1953 - val_acc: 0.9404\n",
      "Epoch 38/100\n",
      "704/704 [==============================] - 5s 7ms/sample - loss: 0.1572 - acc: 0.9545 - val_loss: 0.2114 - val_acc: 0.9205\n",
      "Epoch 39/100\n",
      "704/704 [==============================] - 5s 7ms/sample - loss: 0.1528 - acc: 0.9574 - val_loss: 0.2082 - val_acc: 0.9205\n",
      "Epoch 40/100\n",
      "704/704 [==============================] - 5s 7ms/sample - loss: 0.1539 - acc: 0.9531 - val_loss: 0.2013 - val_acc: 0.9371\n",
      "Epoch 41/100\n",
      "704/704 [==============================] - 5s 7ms/sample - loss: 0.1318 - acc: 0.9616 - val_loss: 0.2167 - val_acc: 0.9272\n",
      "Epoch 42/100\n",
      "704/704 [==============================] - 6s 8ms/sample - loss: 0.1342 - acc: 0.9560 - val_loss: 0.1801 - val_acc: 0.9371\n",
      "Epoch 43/100\n",
      "704/704 [==============================] - 5s 7ms/sample - loss: 0.1399 - acc: 0.9474 - val_loss: 0.1811 - val_acc: 0.9404\n",
      "Epoch 44/100\n",
      "704/704 [==============================] - 5s 7ms/sample - loss: 0.1222 - acc: 0.9730 - val_loss: 0.1921 - val_acc: 0.9404\n",
      "Epoch 45/100\n",
      "704/704 [==============================] - 5s 7ms/sample - loss: 0.1217 - acc: 0.9702 - val_loss: 0.2152 - val_acc: 0.9205\n",
      "Epoch 46/100\n",
      "704/704 [==============================] - 5s 7ms/sample - loss: 0.1274 - acc: 0.9602 - val_loss: 0.1829 - val_acc: 0.9536\n",
      "Epoch 47/100\n",
      "704/704 [==============================] - 5s 7ms/sample - loss: 0.1094 - acc: 0.9659 - val_loss: 0.1617 - val_acc: 0.9536\n",
      "Epoch 48/100\n",
      "704/704 [==============================] - 5s 7ms/sample - loss: 0.1033 - acc: 0.9744 - val_loss: 0.1616 - val_acc: 0.9470\n",
      "Epoch 49/100\n",
      "704/704 [==============================] - 5s 7ms/sample - loss: 0.1048 - acc: 0.9716 - val_loss: 0.1750 - val_acc: 0.9470\n",
      "Epoch 50/100\n",
      "704/704 [==============================] - 5s 7ms/sample - loss: 0.0927 - acc: 0.9702 - val_loss: 0.1558 - val_acc: 0.9503\n",
      "Epoch 51/100\n",
      "704/704 [==============================] - 5s 7ms/sample - loss: 0.1045 - acc: 0.9716 - val_loss: 0.1576 - val_acc: 0.9371\n",
      "Epoch 52/100\n",
      "704/704 [==============================] - 5s 7ms/sample - loss: 0.0979 - acc: 0.9631 - val_loss: 0.1654 - val_acc: 0.9470\n",
      "Epoch 53/100\n",
      "704/704 [==============================] - 5s 8ms/sample - loss: 0.0942 - acc: 0.9716 - val_loss: 0.1472 - val_acc: 0.9437\n",
      "Epoch 54/100\n",
      "704/704 [==============================] - 5s 7ms/sample - loss: 0.0863 - acc: 0.9730 - val_loss: 0.1564 - val_acc: 0.9603\n",
      "Epoch 55/100\n",
      "704/704 [==============================] - 5s 8ms/sample - loss: 0.0963 - acc: 0.9716 - val_loss: 0.1626 - val_acc: 0.9470\n",
      "Epoch 56/100\n",
      "704/704 [==============================] - 5s 7ms/sample - loss: 0.0832 - acc: 0.9773 - val_loss: 0.1705 - val_acc: 0.9404\n",
      "Epoch 57/100\n",
      "704/704 [==============================] - 5s 8ms/sample - loss: 0.0829 - acc: 0.9815 - val_loss: 0.1429 - val_acc: 0.9503\n",
      "Epoch 58/100\n",
      "704/704 [==============================] - 5s 7ms/sample - loss: 0.0818 - acc: 0.9730 - val_loss: 0.1467 - val_acc: 0.9503\n",
      "Epoch 59/100\n",
      "704/704 [==============================] - 5s 7ms/sample - loss: 0.0760 - acc: 0.9801 - val_loss: 0.1572 - val_acc: 0.9470\n",
      "Epoch 60/100\n",
      "704/704 [==============================] - 5s 7ms/sample - loss: 0.0834 - acc: 0.9730 - val_loss: 0.1493 - val_acc: 0.9470\n",
      "Epoch 61/100\n",
      "704/704 [==============================] - 5s 7ms/sample - loss: 0.0731 - acc: 0.9844 - val_loss: 0.1276 - val_acc: 0.9570\n",
      "Epoch 62/100\n",
      "704/704 [==============================] - 5s 7ms/sample - loss: 0.0748 - acc: 0.9801 - val_loss: 0.1896 - val_acc: 0.9371\n",
      "Epoch 63/100\n",
      "704/704 [==============================] - 5s 7ms/sample - loss: 0.0757 - acc: 0.9787 - val_loss: 0.1534 - val_acc: 0.9536\n",
      "Epoch 64/100\n",
      "704/704 [==============================] - 5s 7ms/sample - loss: 0.0668 - acc: 0.9858 - val_loss: 0.2066 - val_acc: 0.9238\n",
      "Epoch 65/100\n",
      "704/704 [==============================] - 5s 7ms/sample - loss: 0.0600 - acc: 0.9886 - val_loss: 0.1418 - val_acc: 0.9570\n",
      "Epoch 66/100\n",
      "704/704 [==============================] - 5s 8ms/sample - loss: 0.0571 - acc: 0.9872 - val_loss: 0.1818 - val_acc: 0.9404\n",
      "Epoch 67/100\n",
      "704/704 [==============================] - 5s 8ms/sample - loss: 0.0648 - acc: 0.9872 - val_loss: 0.1278 - val_acc: 0.9503\n",
      "Epoch 68/100\n",
      "704/704 [==============================] - 5s 7ms/sample - loss: 0.0577 - acc: 0.9830 - val_loss: 0.1834 - val_acc: 0.9272\n",
      "Epoch 69/100\n",
      "704/704 [==============================] - 5s 7ms/sample - loss: 0.0576 - acc: 0.9815 - val_loss: 0.1291 - val_acc: 0.9603\n",
      "Epoch 70/100\n",
      "704/704 [==============================] - 5s 7ms/sample - loss: 0.0527 - acc: 0.9858 - val_loss: 0.1068 - val_acc: 0.9636\n",
      "Epoch 71/100\n",
      "704/704 [==============================] - 5s 7ms/sample - loss: 0.0553 - acc: 0.9830 - val_loss: 0.1460 - val_acc: 0.9536\n",
      "Epoch 72/100\n",
      "704/704 [==============================] - 5s 7ms/sample - loss: 0.0539 - acc: 0.9872 - val_loss: 0.1226 - val_acc: 0.9536\n",
      "Epoch 73/100\n",
      "704/704 [==============================] - 5s 7ms/sample - loss: 0.0526 - acc: 0.9886 - val_loss: 0.0958 - val_acc: 0.9669\n",
      "Epoch 74/100\n",
      "704/704 [==============================] - 5s 7ms/sample - loss: 0.0556 - acc: 0.9844 - val_loss: 0.1233 - val_acc: 0.9503\n",
      "Epoch 75/100\n",
      "704/704 [==============================] - 5s 7ms/sample - loss: 0.0431 - acc: 0.9943 - val_loss: 0.1226 - val_acc: 0.9603\n",
      "Epoch 76/100\n",
      "704/704 [==============================] - 5s 7ms/sample - loss: 0.0494 - acc: 0.9844 - val_loss: 0.1221 - val_acc: 0.9570\n",
      "Epoch 77/100\n",
      "704/704 [==============================] - 5s 7ms/sample - loss: 0.0484 - acc: 0.9858 - val_loss: 0.1949 - val_acc: 0.9238\n",
      "Epoch 78/100\n",
      "704/704 [==============================] - 6s 8ms/sample - loss: 0.0611 - acc: 0.9815 - val_loss: 0.1267 - val_acc: 0.9603\n",
      "Epoch 79/100\n",
      "704/704 [==============================] - 5s 7ms/sample - loss: 0.0470 - acc: 0.9901 - val_loss: 0.1136 - val_acc: 0.9603\n",
      "Epoch 80/100\n",
      "704/704 [==============================] - 5s 7ms/sample - loss: 0.0476 - acc: 0.9886 - val_loss: 0.1741 - val_acc: 0.9338\n",
      "Epoch 81/100\n",
      "704/704 [==============================] - 5s 7ms/sample - loss: 0.0439 - acc: 0.9886 - val_loss: 0.1145 - val_acc: 0.9669\n",
      "Epoch 82/100\n",
      "704/704 [==============================] - 5s 7ms/sample - loss: 0.0423 - acc: 0.9901 - val_loss: 0.1040 - val_acc: 0.9669\n",
      "Epoch 83/100\n",
      "704/704 [==============================] - 5s 7ms/sample - loss: 0.0434 - acc: 0.9901 - val_loss: 0.1025 - val_acc: 0.9636\n",
      "Epoch 84/100\n",
      "704/704 [==============================] - 5s 7ms/sample - loss: 0.0405 - acc: 0.9886 - val_loss: 0.1412 - val_acc: 0.9603\n",
      "Epoch 85/100\n",
      "704/704 [==============================] - 5s 7ms/sample - loss: 0.0552 - acc: 0.9830 - val_loss: 0.1160 - val_acc: 0.9636\n",
      "Epoch 86/100\n",
      "704/704 [==============================] - 5s 7ms/sample - loss: 0.0400 - acc: 0.9886 - val_loss: 0.1263 - val_acc: 0.9570\n",
      "Epoch 87/100\n",
      "704/704 [==============================] - 5s 7ms/sample - loss: 0.0462 - acc: 0.9901 - val_loss: 0.1272 - val_acc: 0.9470\n",
      "Epoch 88/100\n",
      "704/704 [==============================] - 5s 7ms/sample - loss: 0.0436 - acc: 0.9872 - val_loss: 0.1197 - val_acc: 0.9570\n",
      "Epoch 89/100\n",
      "704/704 [==============================] - 5s 7ms/sample - loss: 0.0376 - acc: 0.9858 - val_loss: 0.1149 - val_acc: 0.9603\n",
      "Epoch 90/100\n",
      "704/704 [==============================] - 5s 8ms/sample - loss: 0.0284 - acc: 0.9943 - val_loss: 0.1107 - val_acc: 0.9603\n",
      "Epoch 91/100\n",
      "704/704 [==============================] - 5s 8ms/sample - loss: 0.0324 - acc: 0.9901 - val_loss: 0.1222 - val_acc: 0.9503\n",
      "Epoch 92/100\n",
      "704/704 [==============================] - 5s 7ms/sample - loss: 0.0341 - acc: 0.9886 - val_loss: 0.1416 - val_acc: 0.9536\n",
      "Epoch 93/100\n",
      "704/704 [==============================] - 5s 7ms/sample - loss: 0.0343 - acc: 0.9886 - val_loss: 0.1783 - val_acc: 0.9437\n",
      "Epoch 94/100\n",
      "704/704 [==============================] - 5s 7ms/sample - loss: 0.0249 - acc: 0.9943 - val_loss: 0.1045 - val_acc: 0.9702\n",
      "Epoch 95/100\n",
      "704/704 [==============================] - 5s 7ms/sample - loss: 0.0255 - acc: 0.9972 - val_loss: 0.1191 - val_acc: 0.9603\n",
      "Epoch 96/100\n",
      "704/704 [==============================] - 5s 7ms/sample - loss: 0.0316 - acc: 0.9943 - val_loss: 0.1193 - val_acc: 0.9570\n",
      "Epoch 97/100\n",
      "704/704 [==============================] - 5s 8ms/sample - loss: 0.0324 - acc: 0.9943 - val_loss: 0.1200 - val_acc: 0.9570\n",
      "Epoch 98/100\n",
      "704/704 [==============================] - 5s 7ms/sample - loss: 0.0261 - acc: 0.9929 - val_loss: 0.1377 - val_acc: 0.9536\n",
      "Epoch 99/100\n",
      "704/704 [==============================] - 5s 7ms/sample - loss: 0.0271 - acc: 0.9957 - val_loss: 0.0847 - val_acc: 0.9735\n",
      "Epoch 100/100\n",
      "704/704 [==============================] - 5s 7ms/sample - loss: 0.0395 - acc: 0.9886 - val_loss: 0.1195 - val_acc: 0.9570\n"
     ]
    }
   ],
   "source": [
    "from tensorflow.keras.models import Sequential\n",
    "from tensorflow.keras import layers\n",
    "from tensorflow.keras.optimizers import RMSprop\n",
    "\n",
    "\n",
    "input_shape=(None, dynamic_x_train[0].shape[-1])\n",
    "\n",
    "dconv_1d_model = Sequential()\n",
    "dconv_1d_model.add(layers.Conv1D(58*28, 5, activation='sigmoid', input_shape=input_shape))\n",
    "# conv_1d_model.add(layers.MaxPooling1D(3))\n",
    "dconv_1d_model.add(layers.Conv1D(58, 5, activation='sigmoid'))\n",
    "dconv_1d_model.add(layers.MaxPooling1D(3))\n",
    "dconv_1d_model.add(layers.Conv1D(32, 5, activation='sigmoid'))#6.4. Обработка последовательностей с помощью сверточных нейронных сетей   265\n",
    "dconv_1d_model.add(layers.GlobalMaxPooling1D())\n",
    "dconv_1d_model.add(layers.Dense(5, activation=\"softmax\"))\n",
    "dconv_1d_model.compile(optimizer=\"rmsprop\",\n",
    "              loss=\"sparse_categorical_crossentropy\",\n",
    "              metrics=[\"acc\"])\n",
    "\n",
    "dyn_cov1d_history_1d = dconv_1d_model.fit(dynamic_x_train, dynamic_y_train, epochs=100, batch_size=10,\n",
    "                                 validation_data=(np.array(dynamic_x_test), np.array(dynamic_y_test)),\n",
    "                                 verbose=True)"
   ]
  },
  {
   "cell_type": "code",
   "execution_count": 391,
   "metadata": {},
   "outputs": [],
   "source": [
    "save_history(dyn_cov1d_history_1d.history, \"hists/conv_1d_only_dyn.pickle\")"
   ]
  },
  {
   "cell_type": "code",
   "execution_count": null,
   "metadata": {},
   "outputs": [],
   "source": []
  },
  {
   "cell_type": "markdown",
   "metadata": {},
   "source": [
    "# RNN"
   ]
  },
  {
   "cell_type": "markdown",
   "metadata": {},
   "source": [
    "## Static and dyn"
   ]
  },
  {
   "cell_type": "code",
   "execution_count": 13,
   "metadata": {},
   "outputs": [],
   "source": [
    "dynamic_x_train, dynamic_x_test, dynamic_y_train, dynamic_y_test = train_test_split(static_gestures_sequence_lists, full_labels, stratify=full_labels,\n",
    "                                                                                                test_size=0.3, random_state=42)\n",
    "dynamic_x_train = np.array(dynamic_x_train).reshape(704, 58, 1)\n",
    "dynamic_x_test = np.array(dynamic_x_test).reshape(302, 58, 1)"
   ]
  },
  {
   "cell_type": "code",
   "execution_count": 14,
   "metadata": {},
   "outputs": [
    {
     "name": "stdout",
     "output_type": "stream",
     "text": [
      "Train on 704 samples, validate on 302 samples\n",
      "Epoch 1/100\n",
      "704/704 [==============================] - 1s 2ms/sample - loss: 1.2471 - acc: 0.4304 - val_loss: 1.1344 - val_acc: 0.5331\n",
      "Epoch 2/100\n",
      "704/704 [==============================] - 0s 583us/sample - loss: 1.0640 - acc: 0.5341 - val_loss: 1.0017 - val_acc: 0.6159\n",
      "Epoch 3/100\n",
      "704/704 [==============================] - 0s 609us/sample - loss: 0.9428 - acc: 0.5909 - val_loss: 0.9190 - val_acc: 0.6026\n",
      "Epoch 4/100\n",
      "704/704 [==============================] - 0s 586us/sample - loss: 0.9511 - acc: 0.5810 - val_loss: 0.9034 - val_acc: 0.6026\n",
      "Epoch 5/100\n",
      "704/704 [==============================] - 0s 578us/sample - loss: 0.8378 - acc: 0.6435 - val_loss: 0.8509 - val_acc: 0.6755\n",
      "Epoch 6/100\n",
      "704/704 [==============================] - 0s 595us/sample - loss: 0.8122 - acc: 0.6562 - val_loss: 0.8332 - val_acc: 0.6391\n",
      "Epoch 7/100\n",
      "704/704 [==============================] - 0s 606us/sample - loss: 0.7919 - acc: 0.6705 - val_loss: 0.8943 - val_acc: 0.6788\n",
      "Epoch 8/100\n",
      "704/704 [==============================] - 0s 616us/sample - loss: 0.7396 - acc: 0.7060 - val_loss: 0.7764 - val_acc: 0.6623\n",
      "Epoch 9/100\n",
      "704/704 [==============================] - 0s 570us/sample - loss: 0.7599 - acc: 0.6989 - val_loss: 0.6917 - val_acc: 0.7384\n",
      "Epoch 10/100\n",
      "704/704 [==============================] - 0s 601us/sample - loss: 0.6925 - acc: 0.7315 - val_loss: 0.7360 - val_acc: 0.7450\n",
      "Epoch 11/100\n",
      "704/704 [==============================] - 0s 552us/sample - loss: 0.7065 - acc: 0.7031 - val_loss: 0.6988 - val_acc: 0.7550\n",
      "Epoch 12/100\n",
      "704/704 [==============================] - 0s 588us/sample - loss: 0.6275 - acc: 0.7571 - val_loss: 0.6330 - val_acc: 0.7384\n",
      "Epoch 13/100\n",
      "704/704 [==============================] - 0s 601us/sample - loss: 0.6403 - acc: 0.7344 - val_loss: 0.6738 - val_acc: 0.6987\n",
      "Epoch 14/100\n",
      "704/704 [==============================] - 0s 615us/sample - loss: 0.5968 - acc: 0.7500 - val_loss: 0.6611 - val_acc: 0.7616\n",
      "Epoch 15/100\n",
      "704/704 [==============================] - 0s 615us/sample - loss: 0.6663 - acc: 0.7514 - val_loss: 0.9144 - val_acc: 0.6391\n",
      "Epoch 16/100\n",
      "704/704 [==============================] - 0s 611us/sample - loss: 0.6014 - acc: 0.7557 - val_loss: 0.6098 - val_acc: 0.7285\n",
      "Epoch 17/100\n",
      "704/704 [==============================] - 0s 591us/sample - loss: 0.5875 - acc: 0.7713 - val_loss: 0.5594 - val_acc: 0.7881\n",
      "Epoch 18/100\n",
      "704/704 [==============================] - 0s 642us/sample - loss: 0.6338 - acc: 0.7727 - val_loss: 1.0281 - val_acc: 0.6556\n",
      "Epoch 19/100\n",
      "704/704 [==============================] - 0s 596us/sample - loss: 0.5830 - acc: 0.7798 - val_loss: 0.5702 - val_acc: 0.7947\n",
      "Epoch 20/100\n",
      "704/704 [==============================] - 0s 631us/sample - loss: 0.6365 - acc: 0.7940 - val_loss: 0.5208 - val_acc: 0.8146\n",
      "Epoch 21/100\n",
      "704/704 [==============================] - 0s 621us/sample - loss: 0.5501 - acc: 0.7983 - val_loss: 0.5352 - val_acc: 0.8344\n",
      "Epoch 22/100\n",
      "704/704 [==============================] - 0s 616us/sample - loss: 0.5385 - acc: 0.8082 - val_loss: 0.5664 - val_acc: 0.8377\n",
      "Epoch 23/100\n",
      "704/704 [==============================] - 0s 672us/sample - loss: 0.5026 - acc: 0.8267 - val_loss: 0.5627 - val_acc: 0.8444\n",
      "Epoch 24/100\n",
      "704/704 [==============================] - 0s 624us/sample - loss: 0.5106 - acc: 0.8097 - val_loss: 0.5129 - val_acc: 0.8245\n",
      "Epoch 25/100\n",
      "704/704 [==============================] - 0s 583us/sample - loss: 0.5088 - acc: 0.8352 - val_loss: 0.5159 - val_acc: 0.8146\n",
      "Epoch 26/100\n",
      "704/704 [==============================] - 0s 615us/sample - loss: 0.5515 - acc: 0.8153 - val_loss: 0.4707 - val_acc: 0.8543\n",
      "Epoch 27/100\n",
      "704/704 [==============================] - 0s 593us/sample - loss: 0.4843 - acc: 0.8097 - val_loss: 0.4881 - val_acc: 0.8444\n",
      "Epoch 28/100\n",
      "704/704 [==============================] - 0s 618us/sample - loss: 0.4697 - acc: 0.8366 - val_loss: 0.4588 - val_acc: 0.8675\n",
      "Epoch 29/100\n",
      "704/704 [==============================] - 0s 641us/sample - loss: 0.4888 - acc: 0.8310 - val_loss: 0.4702 - val_acc: 0.8510\n",
      "Epoch 30/100\n",
      "704/704 [==============================] - 0s 639us/sample - loss: 0.4601 - acc: 0.8295 - val_loss: 0.4749 - val_acc: 0.8344\n",
      "Epoch 31/100\n",
      "704/704 [==============================] - 0s 607us/sample - loss: 0.4601 - acc: 0.8366 - val_loss: 0.5595 - val_acc: 0.7914\n",
      "Epoch 32/100\n",
      "704/704 [==============================] - 0s 613us/sample - loss: 0.4230 - acc: 0.8537 - val_loss: 0.4605 - val_acc: 0.8477\n",
      "Epoch 33/100\n",
      "704/704 [==============================] - 0s 636us/sample - loss: 0.4283 - acc: 0.8608 - val_loss: 0.6141 - val_acc: 0.7682\n",
      "Epoch 34/100\n",
      "704/704 [==============================] - 0s 631us/sample - loss: 0.4315 - acc: 0.8622 - val_loss: 0.4792 - val_acc: 0.8311\n",
      "Epoch 35/100\n",
      "704/704 [==============================] - 0s 588us/sample - loss: 0.4204 - acc: 0.8580 - val_loss: 0.5095 - val_acc: 0.8344\n",
      "Epoch 36/100\n",
      "704/704 [==============================] - 0s 571us/sample - loss: 0.3896 - acc: 0.8764 - val_loss: 0.4147 - val_acc: 0.8709\n",
      "Epoch 37/100\n",
      "704/704 [==============================] - 0s 616us/sample - loss: 0.4152 - acc: 0.8849 - val_loss: 1.8792 - val_acc: 0.4503\n",
      "Epoch 38/100\n",
      "704/704 [==============================] - 0s 573us/sample - loss: 0.9199 - acc: 0.6918 - val_loss: 0.4909 - val_acc: 0.8543\n",
      "Epoch 39/100\n",
      "704/704 [==============================] - 0s 599us/sample - loss: 0.3938 - acc: 0.8778 - val_loss: 0.4775 - val_acc: 0.8377\n",
      "Epoch 40/100\n",
      "704/704 [==============================] - 0s 613us/sample - loss: 0.3615 - acc: 0.8793 - val_loss: 0.4375 - val_acc: 0.8642\n",
      "Epoch 41/100\n",
      "704/704 [==============================] - 0s 582us/sample - loss: 0.4213 - acc: 0.8665 - val_loss: 0.4330 - val_acc: 0.8576\n",
      "Epoch 42/100\n",
      "704/704 [==============================] - 0s 573us/sample - loss: 0.3387 - acc: 0.8906 - val_loss: 0.3917 - val_acc: 0.8576\n",
      "Epoch 43/100\n",
      "704/704 [==============================] - 0s 574us/sample - loss: 0.3934 - acc: 0.8849 - val_loss: 0.4528 - val_acc: 0.8510\n",
      "Epoch 44/100\n",
      "704/704 [==============================] - 0s 591us/sample - loss: 0.3394 - acc: 0.8949 - val_loss: 0.4286 - val_acc: 0.8642\n",
      "Epoch 45/100\n",
      "704/704 [==============================] - 0s 572us/sample - loss: 0.3680 - acc: 0.8807 - val_loss: 0.6401 - val_acc: 0.8046\n",
      "Epoch 46/100\n",
      "704/704 [==============================] - 0s 586us/sample - loss: 0.4145 - acc: 0.8551 - val_loss: 0.4800 - val_acc: 0.8411\n",
      "Epoch 47/100\n",
      "704/704 [==============================] - 0s 614us/sample - loss: 0.3308 - acc: 0.8977 - val_loss: 0.7075 - val_acc: 0.7649\n",
      "Epoch 48/100\n",
      "704/704 [==============================] - 0s 570us/sample - loss: 0.4282 - acc: 0.8636 - val_loss: 0.4120 - val_acc: 0.8675\n",
      "Epoch 49/100\n",
      "704/704 [==============================] - 0s 621us/sample - loss: 0.4229 - acc: 0.8807 - val_loss: 0.3989 - val_acc: 0.8543\n",
      "Epoch 50/100\n",
      "704/704 [==============================] - 0s 598us/sample - loss: 0.3163 - acc: 0.9048 - val_loss: 0.4699 - val_acc: 0.8179\n",
      "Epoch 51/100\n",
      "704/704 [==============================] - 0s 612us/sample - loss: 0.3611 - acc: 0.8778 - val_loss: 0.4162 - val_acc: 0.8510\n",
      "Epoch 52/100\n",
      "704/704 [==============================] - 0s 586us/sample - loss: 0.3192 - acc: 0.8991 - val_loss: 0.4311 - val_acc: 0.8477\n",
      "Epoch 53/100\n",
      "704/704 [==============================] - 0s 619us/sample - loss: 0.3286 - acc: 0.9020 - val_loss: 0.5250 - val_acc: 0.8013\n",
      "Epoch 54/100\n",
      "704/704 [==============================] - 0s 616us/sample - loss: 0.3242 - acc: 0.9034 - val_loss: 0.3941 - val_acc: 0.8775\n",
      "Epoch 55/100\n",
      "704/704 [==============================] - 0s 588us/sample - loss: 0.3470 - acc: 0.8949 - val_loss: 0.3784 - val_acc: 0.8642\n",
      "Epoch 56/100\n",
      "704/704 [==============================] - 0s 596us/sample - loss: 0.2988 - acc: 0.9034 - val_loss: 0.3511 - val_acc: 0.8808\n",
      "Epoch 57/100\n",
      "704/704 [==============================] - 0s 620us/sample - loss: 0.3148 - acc: 0.9190 - val_loss: 0.3713 - val_acc: 0.8808\n",
      "Epoch 58/100\n",
      "704/704 [==============================] - 0s 628us/sample - loss: 0.3073 - acc: 0.9048 - val_loss: 0.4255 - val_acc: 0.8576\n",
      "Epoch 59/100\n",
      "704/704 [==============================] - 0s 659us/sample - loss: 0.3692 - acc: 0.8906 - val_loss: 0.3522 - val_acc: 0.8907\n",
      "Epoch 60/100\n",
      "704/704 [==============================] - 0s 625us/sample - loss: 0.2751 - acc: 0.9176 - val_loss: 0.3914 - val_acc: 0.8609\n",
      "Epoch 61/100\n",
      "704/704 [==============================] - 0s 656us/sample - loss: 0.3040 - acc: 0.9034 - val_loss: 0.4243 - val_acc: 0.8510\n",
      "Epoch 62/100\n",
      "704/704 [==============================] - 0s 598us/sample - loss: 0.3620 - acc: 0.8849 - val_loss: 0.3618 - val_acc: 0.8709\n",
      "Epoch 63/100\n",
      "704/704 [==============================] - 0s 586us/sample - loss: 0.2916 - acc: 0.9091 - val_loss: 0.4412 - val_acc: 0.8477\n",
      "Epoch 64/100\n",
      "704/704 [==============================] - 0s 616us/sample - loss: 0.3090 - acc: 0.9048 - val_loss: 0.4415 - val_acc: 0.8709\n",
      "Epoch 65/100\n",
      "704/704 [==============================] - 0s 589us/sample - loss: 0.3148 - acc: 0.8963 - val_loss: 0.3827 - val_acc: 0.8775\n",
      "Epoch 66/100\n",
      "704/704 [==============================] - 0s 588us/sample - loss: 0.4142 - acc: 0.8807 - val_loss: 0.3862 - val_acc: 0.8808\n",
      "Epoch 67/100\n",
      "704/704 [==============================] - 0s 617us/sample - loss: 0.3377 - acc: 0.8963 - val_loss: 0.3806 - val_acc: 0.8742\n",
      "Epoch 68/100\n",
      "704/704 [==============================] - 0s 670us/sample - loss: 0.3562 - acc: 0.8835 - val_loss: 0.3720 - val_acc: 0.8775\n",
      "Epoch 69/100\n",
      "704/704 [==============================] - 0s 609us/sample - loss: 0.2999 - acc: 0.9077 - val_loss: 0.3571 - val_acc: 0.8775\n",
      "Epoch 70/100\n",
      "704/704 [==============================] - 0s 621us/sample - loss: 0.3100 - acc: 0.8892 - val_loss: 0.3550 - val_acc: 0.8874\n",
      "Epoch 71/100\n",
      "704/704 [==============================] - 0s 624us/sample - loss: 0.2857 - acc: 0.9205 - val_loss: 0.3741 - val_acc: 0.8742\n",
      "Epoch 72/100\n",
      "704/704 [==============================] - 0s 605us/sample - loss: 0.2925 - acc: 0.9105 - val_loss: 0.3542 - val_acc: 0.8841\n",
      "Epoch 73/100\n",
      "704/704 [==============================] - 0s 594us/sample - loss: 0.3259 - acc: 0.9020 - val_loss: 0.8074 - val_acc: 0.7219\n",
      "Epoch 74/100\n",
      "704/704 [==============================] - 0s 608us/sample - loss: 0.3039 - acc: 0.8963 - val_loss: 0.4187 - val_acc: 0.8642\n",
      "Epoch 75/100\n",
      "704/704 [==============================] - 0s 603us/sample - loss: 0.3410 - acc: 0.8821 - val_loss: 0.5500 - val_acc: 0.7947\n",
      "Epoch 76/100\n",
      "704/704 [==============================] - 0s 612us/sample - loss: 0.4416 - acc: 0.8807 - val_loss: 0.4424 - val_acc: 0.8709\n",
      "Epoch 77/100\n",
      "704/704 [==============================] - 0s 640us/sample - loss: 0.2671 - acc: 0.9162 - val_loss: 0.5125 - val_acc: 0.7881\n",
      "Epoch 78/100\n",
      "704/704 [==============================] - 0s 641us/sample - loss: 0.3424 - acc: 0.8920 - val_loss: 0.4437 - val_acc: 0.8377\n",
      "Epoch 79/100\n",
      "704/704 [==============================] - 0s 592us/sample - loss: 0.3693 - acc: 0.8807 - val_loss: 0.3984 - val_acc: 0.8742\n",
      "Epoch 80/100\n",
      "704/704 [==============================] - 0s 627us/sample - loss: 0.4430 - acc: 0.8494 - val_loss: 0.4068 - val_acc: 0.8709\n",
      "Epoch 81/100\n",
      "704/704 [==============================] - 0s 623us/sample - loss: 0.2613 - acc: 0.9247 - val_loss: 0.3914 - val_acc: 0.8709\n",
      "Epoch 82/100\n",
      "704/704 [==============================] - 0s 668us/sample - loss: 0.2705 - acc: 0.9148 - val_loss: 0.3984 - val_acc: 0.8642\n",
      "Epoch 83/100\n",
      "704/704 [==============================] - 0s 589us/sample - loss: 0.3201 - acc: 0.8892 - val_loss: 0.3679 - val_acc: 0.8808\n",
      "Epoch 84/100\n",
      "704/704 [==============================] - 0s 611us/sample - loss: 0.2746 - acc: 0.9134 - val_loss: 0.3714 - val_acc: 0.8775\n",
      "Epoch 85/100\n",
      "704/704 [==============================] - 0s 642us/sample - loss: 0.3013 - acc: 0.9034 - val_loss: 0.3807 - val_acc: 0.8775\n",
      "Epoch 86/100\n",
      "704/704 [==============================] - 0s 614us/sample - loss: 0.4171 - acc: 0.8494 - val_loss: 0.4840 - val_acc: 0.8013\n",
      "Epoch 87/100\n",
      "704/704 [==============================] - 0s 647us/sample - loss: 0.3314 - acc: 0.8849 - val_loss: 0.4041 - val_acc: 0.8742\n",
      "Epoch 88/100\n",
      "704/704 [==============================] - 0s 658us/sample - loss: 0.3215 - acc: 0.8935 - val_loss: 0.3790 - val_acc: 0.8841\n",
      "Epoch 89/100\n",
      "704/704 [==============================] - 0s 627us/sample - loss: 0.2520 - acc: 0.9176 - val_loss: 0.3654 - val_acc: 0.8841\n",
      "Epoch 90/100\n",
      "704/704 [==============================] - 0s 598us/sample - loss: 0.2706 - acc: 0.9105 - val_loss: 0.3375 - val_acc: 0.8808\n",
      "Epoch 91/100\n",
      "704/704 [==============================] - 0s 601us/sample - loss: 0.2731 - acc: 0.9176 - val_loss: 0.4423 - val_acc: 0.8609\n",
      "Epoch 92/100\n",
      "704/704 [==============================] - 0s 627us/sample - loss: 0.2565 - acc: 0.9105 - val_loss: 0.3382 - val_acc: 0.8974\n",
      "Epoch 93/100\n",
      "704/704 [==============================] - 0s 631us/sample - loss: 0.2504 - acc: 0.9247 - val_loss: 0.6363 - val_acc: 0.8013\n",
      "Epoch 94/100\n",
      "704/704 [==============================] - 0s 627us/sample - loss: 0.3308 - acc: 0.9034 - val_loss: 0.8622 - val_acc: 0.6788\n",
      "Epoch 95/100\n",
      "704/704 [==============================] - 0s 619us/sample - loss: 0.2468 - acc: 0.9233 - val_loss: 0.3502 - val_acc: 0.8808\n",
      "Epoch 96/100\n",
      "704/704 [==============================] - 0s 643us/sample - loss: 0.3035 - acc: 0.9048 - val_loss: 0.8144 - val_acc: 0.7384\n",
      "Epoch 97/100\n",
      "704/704 [==============================] - 0s 635us/sample - loss: 0.3352 - acc: 0.8991 - val_loss: 0.4281 - val_acc: 0.8642\n",
      "Epoch 98/100\n",
      "704/704 [==============================] - 0s 644us/sample - loss: 0.2348 - acc: 0.9205 - val_loss: 0.3588 - val_acc: 0.8874\n",
      "Epoch 99/100\n",
      "704/704 [==============================] - 0s 629us/sample - loss: 0.2557 - acc: 0.9162 - val_loss: 0.3747 - val_acc: 0.8808\n",
      "Epoch 100/100\n",
      "704/704 [==============================] - 0s 661us/sample - loss: 0.3023 - acc: 0.9062 - val_loss: 0.3736 - val_acc: 0.8709\n"
     ]
    }
   ],
   "source": [
    "from tensorflow.keras.models import Sequential\n",
    "from tensorflow.keras.layers import Embedding, SimpleRNN, Dense\n",
    "\n",
    "ssrnn_model = Sequential()\n",
    "input_shape=(None, dynamic_x_train[0].shape[-1])\n",
    "\n",
    "# rnn_model.add(Embedding(max_features, 32))\n",
    "ssrnn_model.add(SimpleRNN(58, input_shape=input_shape))\n",
    "ssrnn_model.add(Dense(5, activation='softmax'))\n",
    "\n",
    "ssrnn_model.compile(optimizer=\"rmsprop\",\n",
    "              loss=\"sparse_categorical_crossentropy\",\n",
    "              metrics=[\"acc\"])\n",
    "\n",
    "sshistory_rnn = ssrnn_model.fit(dynamic_x_train, dynamic_y_train,\n",
    "                                epochs=100, validation_data=(np.array(dynamic_x_test),\n",
    "                                                             np.array(dynamic_y_test)),\n",
    "                                verbose=True)"
   ]
  },
  {
   "cell_type": "code",
   "execution_count": 15,
   "metadata": {},
   "outputs": [],
   "source": [
    "save_history(sshistory_rnn.history, \"hists/rnn_static_and_dyn.pickle\")"
   ]
  },
  {
   "cell_type": "markdown",
   "metadata": {},
   "source": [
    "## Only dyn\n"
   ]
  },
  {
   "cell_type": "code",
   "execution_count": 5,
   "metadata": {},
   "outputs": [],
   "source": [
    "dynamic_x_train, dynamic_x_test, dynamic_y_train, dynamic_y_test = train_test_split(only_dynamic_data, full_labels, stratify=full_labels,\n",
    "                                                                                                test_size=0.3, random_state=42)\n",
    "dynamic_x_train = np.array(dynamic_x_train).reshape(704, 58*28, 1)\n",
    "dynamic_x_test = np.array(dynamic_x_test).reshape(302, 58*28, 1)"
   ]
  },
  {
   "cell_type": "code",
   "execution_count": 6,
   "metadata": {},
   "outputs": [
    {
     "name": "stdout",
     "output_type": "stream",
     "text": [
      "Train on 704 samples, validate on 302 samples\n",
      "Epoch 1/50\n",
      "704/704 [==============================] - 57s 80ms/sample - loss: 3.8459 - acc: 0.2045 - val_loss: 2.6578 - val_acc: 0.2252\n",
      "Epoch 2/50\n",
      "704/704 [==============================] - 56s 80ms/sample - loss: 1.8652 - acc: 0.2770 - val_loss: 2.4558 - val_acc: 0.2384\n",
      "Epoch 3/50\n",
      "704/704 [==============================] - 56s 79ms/sample - loss: 1.8495 - acc: 0.2472 - val_loss: 2.1967 - val_acc: 0.2152\n",
      "Epoch 4/50\n",
      "704/704 [==============================] - 56s 79ms/sample - loss: 1.9658 - acc: 0.2216 - val_loss: 2.8972 - val_acc: 0.2185\n",
      "Epoch 5/50\n",
      "704/704 [==============================] - 56s 79ms/sample - loss: 1.9878 - acc: 0.2330 - val_loss: 2.5083 - val_acc: 0.1954\n",
      "Epoch 6/50\n",
      "704/704 [==============================] - 56s 80ms/sample - loss: 2.0016 - acc: 0.2216 - val_loss: 2.4317 - val_acc: 0.2517\n",
      "Epoch 7/50\n",
      "704/704 [==============================] - 54s 76ms/sample - loss: 2.0114 - acc: 0.2372 - val_loss: 2.5689 - val_acc: 0.2483\n",
      "Epoch 8/50\n",
      "704/704 [==============================] - 52s 74ms/sample - loss: 1.8660 - acc: 0.2344 - val_loss: 2.3906 - val_acc: 0.2252\n",
      "Epoch 9/50\n",
      "704/704 [==============================] - 51s 73ms/sample - loss: 1.9558 - acc: 0.2003 - val_loss: 2.2171 - val_acc: 0.1887\n",
      "Epoch 10/50\n",
      "704/704 [==============================] - 52s 73ms/sample - loss: 1.9373 - acc: 0.2173 - val_loss: 2.9473 - val_acc: 0.2318\n",
      "Epoch 11/50\n",
      "704/704 [==============================] - 53s 75ms/sample - loss: 1.9455 - acc: 0.2102 - val_loss: 2.3965 - val_acc: 0.2020\n",
      "Epoch 12/50\n",
      "704/704 [==============================] - 52s 73ms/sample - loss: 1.8856 - acc: 0.2443 - val_loss: 2.6518 - val_acc: 0.2053\n",
      "Epoch 13/50\n",
      "704/704 [==============================] - 52s 73ms/sample - loss: 1.8884 - acc: 0.2273 - val_loss: 2.2566 - val_acc: 0.2583\n",
      "Epoch 14/50\n",
      "704/704 [==============================] - 52s 73ms/sample - loss: 1.9228 - acc: 0.2230 - val_loss: 2.3657 - val_acc: 0.2351\n",
      "Epoch 15/50\n",
      "704/704 [==============================] - 52s 73ms/sample - loss: 1.8829 - acc: 0.2202 - val_loss: 2.8150 - val_acc: 0.2086\n",
      "Epoch 16/50\n",
      "704/704 [==============================] - 52s 73ms/sample - loss: 1.9476 - acc: 0.2102 - val_loss: 2.2764 - val_acc: 0.2583\n",
      "Epoch 17/50\n",
      "704/704 [==============================] - 52s 73ms/sample - loss: 1.8908 - acc: 0.2486 - val_loss: 2.2361 - val_acc: 0.2119\n",
      "Epoch 18/50\n",
      "704/704 [==============================] - 51s 73ms/sample - loss: 1.8613 - acc: 0.2599 - val_loss: 2.6143 - val_acc: 0.2682\n",
      "Epoch 19/50\n",
      "704/704 [==============================] - 52s 73ms/sample - loss: 1.8998 - acc: 0.2315 - val_loss: 2.2818 - val_acc: 0.2583\n",
      "Epoch 20/50\n",
      "704/704 [==============================] - 52s 73ms/sample - loss: 1.8626 - acc: 0.2386 - val_loss: 3.1575 - val_acc: 0.2682\n",
      "Epoch 21/50\n",
      "704/704 [==============================] - 53s 76ms/sample - loss: 1.8844 - acc: 0.2472 - val_loss: 3.3734 - val_acc: 0.2384\n",
      "Epoch 22/50\n",
      "704/704 [==============================] - 53s 75ms/sample - loss: 1.9407 - acc: 0.2230 - val_loss: 2.4146 - val_acc: 0.2583\n",
      "Epoch 23/50\n",
      "704/704 [==============================] - 53s 75ms/sample - loss: 1.9307 - acc: 0.2301 - val_loss: 2.4796 - val_acc: 0.2384\n",
      "Epoch 24/50\n",
      "704/704 [==============================] - 54s 77ms/sample - loss: 1.9306 - acc: 0.2528 - val_loss: 2.2412 - val_acc: 0.2483\n",
      "Epoch 25/50\n",
      "704/704 [==============================] - 53s 75ms/sample - loss: 1.8759 - acc: 0.2585 - val_loss: 2.2502 - val_acc: 0.2715\n",
      "Epoch 26/50\n",
      "704/704 [==============================] - 53s 75ms/sample - loss: 1.9959 - acc: 0.2216 - val_loss: 2.3073 - val_acc: 0.1954\n",
      "Epoch 27/50\n",
      "704/704 [==============================] - 53s 75ms/sample - loss: 1.8881 - acc: 0.2273 - val_loss: 2.3690 - val_acc: 0.2053\n",
      "Epoch 28/50\n",
      "704/704 [==============================] - 53s 75ms/sample - loss: 1.9104 - acc: 0.2244 - val_loss: 2.6865 - val_acc: 0.1854\n",
      "Epoch 29/50\n",
      "704/704 [==============================] - 53s 75ms/sample - loss: 1.9611 - acc: 0.1861 - val_loss: 2.7945 - val_acc: 0.1854\n",
      "Epoch 30/50\n",
      "704/704 [==============================] - 54s 77ms/sample - loss: 1.9628 - acc: 0.2003 - val_loss: 2.7722 - val_acc: 0.2185\n",
      "Epoch 31/50\n",
      "704/704 [==============================] - 54s 76ms/sample - loss: 1.9262 - acc: 0.2344 - val_loss: 2.4778 - val_acc: 0.2252\n",
      "Epoch 32/50\n",
      "704/704 [==============================] - 53s 75ms/sample - loss: 1.8699 - acc: 0.2571 - val_loss: 2.4676 - val_acc: 0.2152\n",
      "Epoch 33/50\n",
      "704/704 [==============================] - 54s 76ms/sample - loss: 1.9092 - acc: 0.2443 - val_loss: 3.2207 - val_acc: 0.2053\n",
      "Epoch 34/50\n",
      "704/704 [==============================] - 53s 75ms/sample - loss: 1.8903 - acc: 0.2159 - val_loss: 3.2225 - val_acc: 0.2185\n",
      "Epoch 35/50\n",
      "704/704 [==============================] - 53s 75ms/sample - loss: 1.8877 - acc: 0.2500 - val_loss: 2.1464 - val_acc: 0.2119\n",
      "Epoch 36/50\n",
      "704/704 [==============================] - 53s 75ms/sample - loss: 1.8535 - acc: 0.2259 - val_loss: 2.2191 - val_acc: 0.2483\n",
      "Epoch 37/50\n",
      "704/704 [==============================] - 53s 75ms/sample - loss: 1.9068 - acc: 0.2358 - val_loss: 2.3974 - val_acc: 0.2086\n",
      "Epoch 38/50\n",
      "704/704 [==============================] - 53s 75ms/sample - loss: 1.8566 - acc: 0.2429 - val_loss: 2.2767 - val_acc: 0.2252\n",
      "Epoch 39/50\n",
      "704/704 [==============================] - 53s 75ms/sample - loss: 1.8950 - acc: 0.2159 - val_loss: 2.2445 - val_acc: 0.2318\n",
      "Epoch 40/50\n",
      "704/704 [==============================] - 53s 75ms/sample - loss: 1.8553 - acc: 0.2244 - val_loss: 2.1568 - val_acc: 0.2285\n",
      "Epoch 41/50\n",
      "704/704 [==============================] - 53s 75ms/sample - loss: 1.9236 - acc: 0.2188 - val_loss: 2.3233 - val_acc: 0.2185\n",
      "Epoch 42/50\n",
      "704/704 [==============================] - 53s 75ms/sample - loss: 1.8906 - acc: 0.2159 - val_loss: 2.5973 - val_acc: 0.2219\n",
      "Epoch 43/50\n",
      "704/704 [==============================] - 53s 75ms/sample - loss: 1.8397 - acc: 0.2259 - val_loss: 2.6602 - val_acc: 0.2550\n",
      "Epoch 44/50\n",
      "704/704 [==============================] - 53s 76ms/sample - loss: 1.8974 - acc: 0.2088 - val_loss: 2.7741 - val_acc: 0.2053\n",
      "Epoch 45/50\n",
      "704/704 [==============================] - 52s 75ms/sample - loss: 1.8905 - acc: 0.2301 - val_loss: 2.2839 - val_acc: 0.2682\n",
      "Epoch 46/50\n",
      "704/704 [==============================] - 52s 74ms/sample - loss: 1.9431 - acc: 0.1832 - val_loss: 2.9189 - val_acc: 0.2053\n",
      "Epoch 47/50\n",
      "704/704 [==============================] - 52s 74ms/sample - loss: 1.8675 - acc: 0.2543 - val_loss: 2.2336 - val_acc: 0.2384\n",
      "Epoch 48/50\n",
      "704/704 [==============================] - 53s 75ms/sample - loss: 1.8584 - acc: 0.2173 - val_loss: 2.9264 - val_acc: 0.2351\n",
      "Epoch 49/50\n",
      "704/704 [==============================] - 53s 75ms/sample - loss: 1.8915 - acc: 0.2259 - val_loss: 2.2170 - val_acc: 0.2384\n",
      "Epoch 50/50\n",
      "704/704 [==============================] - 53s 75ms/sample - loss: 1.8964 - acc: 0.2244 - val_loss: 2.5704 - val_acc: 0.2020\n"
     ]
    }
   ],
   "source": [
    "from tensorflow.keras.models import Sequential\n",
    "from tensorflow.keras.layers import Embedding, SimpleRNN, Dense, GRU\n",
    "\n",
    "ddrnn_model = Sequential()\n",
    "input_shape=(None, dynamic_x_train[0].shape[-1])\n",
    "\n",
    "# rnn_model.add(Embedding(max_features, 32))\n",
    "ddrnn_model.add(SimpleRNN(58*28, input_shape=input_shape))\n",
    "ddrnn_model.add(Dense(5, activation='softmax'))\n",
    "\n",
    "ddrnn_model.compile(optimizer=\"rmsprop\",\n",
    "              loss=\"sparse_categorical_crossentropy\",\n",
    "              metrics=[\"acc\"])\n",
    "\n",
    "ddhistory_rnn = ddrnn_model.fit(dynamic_x_train, dynamic_y_train, batch_size=20,\n",
    "                                epochs=50, validation_data=(np.array(dynamic_x_test),\n",
    "                                                             np.array(dynamic_y_test)),\n",
    "                                verbose=True)"
   ]
  },
  {
   "cell_type": "code",
   "execution_count": 7,
   "metadata": {},
   "outputs": [],
   "source": [
    "save_history(ddhistory_rnn.history, \"hists/rnn_only_dyn.pickle\")"
   ]
  },
  {
   "cell_type": "markdown",
   "metadata": {},
   "source": [
    "## RNN with conv1d\n"
   ]
  },
  {
   "cell_type": "code",
   "execution_count": 376,
   "metadata": {},
   "outputs": [],
   "source": [
    "dynamic_x_train, dynamic_x_test, dynamic_y_train, dynamic_y_test = train_test_split(only_dynamic_data, full_labels, stratify=full_labels,\n",
    "                                                                                                test_size=0.3, random_state=42)\n",
    "dynamic_x_train = np.array(dynamic_x_train).reshape(704, 58*28, 1)\n",
    "dynamic_x_test = np.array(dynamic_x_test).reshape(302, 58*28, 1)"
   ]
  },
  {
   "cell_type": "code",
   "execution_count": 377,
   "metadata": {},
   "outputs": [
    {
     "name": "stdout",
     "output_type": "stream",
     "text": [
      "Train on 704 samples, validate on 302 samples\n",
      "Epoch 1/100\n",
      "704/704 [==============================] - 23s 33ms/sample - loss: 1.3882 - acc: 0.4006 - val_loss: 1.1174 - val_acc: 0.5629\n",
      "Epoch 2/100\n",
      "704/704 [==============================] - 20s 29ms/sample - loss: 1.0661 - acc: 0.5298 - val_loss: 0.9963 - val_acc: 0.5960\n",
      "Epoch 3/100\n",
      "704/704 [==============================] - 21s 30ms/sample - loss: 0.9855 - acc: 0.5625 - val_loss: 1.1864 - val_acc: 0.4735\n",
      "Epoch 4/100\n",
      "704/704 [==============================] - 20s 29ms/sample - loss: 0.9406 - acc: 0.5767 - val_loss: 0.8818 - val_acc: 0.6192\n",
      "Epoch 5/100\n",
      "704/704 [==============================] - 21s 30ms/sample - loss: 0.9172 - acc: 0.6065 - val_loss: 0.9633 - val_acc: 0.5662\n",
      "Epoch 6/100\n",
      "704/704 [==============================] - 22s 31ms/sample - loss: 0.9001 - acc: 0.5909 - val_loss: 0.9346 - val_acc: 0.5894\n",
      "Epoch 7/100\n",
      "704/704 [==============================] - 22s 31ms/sample - loss: 0.9011 - acc: 0.6065 - val_loss: 0.9335 - val_acc: 0.5298\n",
      "Epoch 8/100\n",
      "704/704 [==============================] - 22s 31ms/sample - loss: 0.8869 - acc: 0.5895 - val_loss: 0.8420 - val_acc: 0.6291\n",
      "Epoch 9/100\n",
      "704/704 [==============================] - 21s 30ms/sample - loss: 0.8704 - acc: 0.6108 - val_loss: 0.8681 - val_acc: 0.6192\n",
      "Epoch 10/100\n",
      "704/704 [==============================] - 22s 32ms/sample - loss: 0.8500 - acc: 0.6222 - val_loss: 0.8962 - val_acc: 0.5596\n",
      "Epoch 11/100\n",
      "704/704 [==============================] - 21s 30ms/sample - loss: 0.8476 - acc: 0.6207 - val_loss: 0.8247 - val_acc: 0.6424\n",
      "Epoch 12/100\n",
      "704/704 [==============================] - 21s 30ms/sample - loss: 0.8363 - acc: 0.6222 - val_loss: 0.8982 - val_acc: 0.5960\n",
      "Epoch 13/100\n",
      "704/704 [==============================] - 21s 30ms/sample - loss: 0.8255 - acc: 0.6193 - val_loss: 0.8458 - val_acc: 0.6192\n",
      "Epoch 14/100\n",
      "704/704 [==============================] - 23s 33ms/sample - loss: 0.8094 - acc: 0.6236 - val_loss: 0.8232 - val_acc: 0.6126\n",
      "Epoch 15/100\n",
      "704/704 [==============================] - 21s 30ms/sample - loss: 0.8073 - acc: 0.6378 - val_loss: 0.8340 - val_acc: 0.5795\n",
      "Epoch 16/100\n",
      "704/704 [==============================] - 21s 30ms/sample - loss: 0.8090 - acc: 0.6605 - val_loss: 0.8414 - val_acc: 0.6159\n",
      "Epoch 17/100\n",
      "704/704 [==============================] - 22s 31ms/sample - loss: 0.8119 - acc: 0.6349 - val_loss: 0.8419 - val_acc: 0.6225\n",
      "Epoch 18/100\n",
      "704/704 [==============================] - 20s 29ms/sample - loss: 0.8068 - acc: 0.6562 - val_loss: 0.8273 - val_acc: 0.5629\n",
      "Epoch 19/100\n",
      "704/704 [==============================] - 22s 31ms/sample - loss: 0.7902 - acc: 0.6619 - val_loss: 0.8802 - val_acc: 0.6291\n",
      "Epoch 20/100\n",
      "704/704 [==============================] - 22s 31ms/sample - loss: 0.7757 - acc: 0.6577 - val_loss: 0.8344 - val_acc: 0.6258\n",
      "Epoch 21/100\n",
      "704/704 [==============================] - 23s 33ms/sample - loss: 0.7811 - acc: 0.6562 - val_loss: 0.7923 - val_acc: 0.6325\n",
      "Epoch 22/100\n",
      "704/704 [==============================] - 20s 29ms/sample - loss: 0.7483 - acc: 0.6605 - val_loss: 1.0333 - val_acc: 0.5397\n",
      "Epoch 23/100\n",
      "704/704 [==============================] - 23s 32ms/sample - loss: 0.7699 - acc: 0.6648 - val_loss: 0.8172 - val_acc: 0.6424\n",
      "Epoch 24/100\n",
      "704/704 [==============================] - 22s 31ms/sample - loss: 0.7476 - acc: 0.6733 - val_loss: 0.8023 - val_acc: 0.6755\n",
      "Epoch 25/100\n",
      "704/704 [==============================] - 23s 33ms/sample - loss: 0.7463 - acc: 0.6662 - val_loss: 0.8505 - val_acc: 0.5960\n",
      "Epoch 26/100\n",
      "704/704 [==============================] - 21s 30ms/sample - loss: 0.7436 - acc: 0.6690 - val_loss: 0.7852 - val_acc: 0.6523\n",
      "Epoch 27/100\n",
      "704/704 [==============================] - 22s 32ms/sample - loss: 0.7385 - acc: 0.6932 - val_loss: 0.7746 - val_acc: 0.6523\n",
      "Epoch 28/100\n",
      "704/704 [==============================] - 21s 30ms/sample - loss: 0.7432 - acc: 0.6903 - val_loss: 0.7971 - val_acc: 0.6689\n",
      "Epoch 29/100\n",
      "704/704 [==============================] - 22s 31ms/sample - loss: 0.7538 - acc: 0.6648 - val_loss: 0.7893 - val_acc: 0.6391\n",
      "Epoch 30/100\n",
      "704/704 [==============================] - 22s 31ms/sample - loss: 0.7609 - acc: 0.6449 - val_loss: 0.8081 - val_acc: 0.6424\n",
      "Epoch 31/100\n",
      "704/704 [==============================] - 22s 32ms/sample - loss: 0.7360 - acc: 0.6733 - val_loss: 0.7863 - val_acc: 0.6457\n",
      "Epoch 32/100\n",
      "704/704 [==============================] - 21s 29ms/sample - loss: 0.7149 - acc: 0.7060 - val_loss: 0.9646 - val_acc: 0.5762\n",
      "Epoch 33/100\n",
      "704/704 [==============================] - 21s 30ms/sample - loss: 0.7369 - acc: 0.6761 - val_loss: 0.8189 - val_acc: 0.6093\n",
      "Epoch 34/100\n",
      "704/704 [==============================] - 21s 30ms/sample - loss: 0.6971 - acc: 0.7003 - val_loss: 0.9304 - val_acc: 0.6225\n",
      "Epoch 35/100\n",
      "704/704 [==============================] - 22s 31ms/sample - loss: 0.7288 - acc: 0.7045 - val_loss: 2.6542 - val_acc: 0.3344\n",
      "Epoch 36/100\n",
      "704/704 [==============================] - 23s 32ms/sample - loss: 0.7711 - acc: 0.6889 - val_loss: 0.8478 - val_acc: 0.6258\n",
      "Epoch 37/100\n",
      "704/704 [==============================] - 23s 32ms/sample - loss: 0.7178 - acc: 0.6960 - val_loss: 0.8021 - val_acc: 0.6424\n",
      "Epoch 38/100\n",
      "704/704 [==============================] - 22s 32ms/sample - loss: 0.6997 - acc: 0.6889 - val_loss: 0.8814 - val_acc: 0.6556\n",
      "Epoch 39/100\n",
      "704/704 [==============================] - 23s 33ms/sample - loss: 0.7364 - acc: 0.6832 - val_loss: 0.7959 - val_acc: 0.6556\n",
      "Epoch 40/100\n",
      "704/704 [==============================] - 21s 29ms/sample - loss: 0.6992 - acc: 0.6847 - val_loss: 0.8648 - val_acc: 0.6093\n",
      "Epoch 41/100\n",
      "704/704 [==============================] - 21s 30ms/sample - loss: 0.6764 - acc: 0.7031 - val_loss: 0.8029 - val_acc: 0.6093\n",
      "Epoch 42/100\n",
      "704/704 [==============================] - 22s 31ms/sample - loss: 0.6940 - acc: 0.7188 - val_loss: 0.7833 - val_acc: 0.6457\n",
      "Epoch 43/100\n",
      "704/704 [==============================] - 22s 32ms/sample - loss: 0.6801 - acc: 0.7230 - val_loss: 0.8319 - val_acc: 0.6192\n",
      "Epoch 44/100\n",
      "704/704 [==============================] - 22s 31ms/sample - loss: 0.6964 - acc: 0.7045 - val_loss: 0.8372 - val_acc: 0.6093\n",
      "Epoch 45/100\n",
      "704/704 [==============================] - 22s 31ms/sample - loss: 0.6794 - acc: 0.7102 - val_loss: 0.9162 - val_acc: 0.6093\n",
      "Epoch 46/100\n",
      "704/704 [==============================] - 20s 28ms/sample - loss: 0.6764 - acc: 0.7244 - val_loss: 0.8709 - val_acc: 0.6623\n",
      "Epoch 47/100\n",
      "704/704 [==============================] - 20s 28ms/sample - loss: 0.6926 - acc: 0.6989 - val_loss: 0.7754 - val_acc: 0.6523\n",
      "Epoch 48/100\n",
      "704/704 [==============================] - 20s 28ms/sample - loss: 0.6532 - acc: 0.7457 - val_loss: 0.9164 - val_acc: 0.5960\n",
      "Epoch 49/100\n",
      "704/704 [==============================] - 20s 28ms/sample - loss: 0.6700 - acc: 0.7045 - val_loss: 0.8471 - val_acc: 0.6722\n",
      "Epoch 50/100\n",
      "704/704 [==============================] - 20s 28ms/sample - loss: 0.6859 - acc: 0.7074 - val_loss: 0.7643 - val_acc: 0.6887\n",
      "Epoch 51/100\n",
      "704/704 [==============================] - 20s 28ms/sample - loss: 0.6857 - acc: 0.7188 - val_loss: 0.9056 - val_acc: 0.6325\n",
      "Epoch 52/100\n",
      "704/704 [==============================] - 20s 28ms/sample - loss: 0.6609 - acc: 0.7273 - val_loss: 0.8110 - val_acc: 0.6623\n",
      "Epoch 53/100\n",
      "704/704 [==============================] - 20s 29ms/sample - loss: 0.6522 - acc: 0.7216 - val_loss: 0.8289 - val_acc: 0.6722\n",
      "Epoch 54/100\n",
      "704/704 [==============================] - 23s 33ms/sample - loss: 0.6584 - acc: 0.7330 - val_loss: 0.8731 - val_acc: 0.6523\n",
      "Epoch 55/100\n",
      "704/704 [==============================] - 20s 29ms/sample - loss: 0.6913 - acc: 0.7074 - val_loss: 0.8776 - val_acc: 0.6060\n",
      "Epoch 56/100\n",
      "704/704 [==============================] - 22s 31ms/sample - loss: 0.6467 - acc: 0.7344 - val_loss: 0.8613 - val_acc: 0.6490\n",
      "Epoch 57/100\n",
      "704/704 [==============================] - 20s 28ms/sample - loss: 0.6711 - acc: 0.7145 - val_loss: 0.7870 - val_acc: 0.6821\n",
      "Epoch 58/100\n",
      "704/704 [==============================] - 20s 28ms/sample - loss: 0.6708 - acc: 0.7230 - val_loss: 0.9313 - val_acc: 0.5927\n",
      "Epoch 59/100\n",
      "704/704 [==============================] - 20s 28ms/sample - loss: 0.6564 - acc: 0.7372 - val_loss: 0.9389 - val_acc: 0.6225\n",
      "Epoch 60/100\n",
      "704/704 [==============================] - 20s 28ms/sample - loss: 0.6645 - acc: 0.7131 - val_loss: 0.8128 - val_acc: 0.6722\n",
      "Epoch 61/100\n",
      "704/704 [==============================] - 20s 28ms/sample - loss: 0.6426 - acc: 0.7429 - val_loss: 0.7518 - val_acc: 0.7152\n",
      "Epoch 62/100\n",
      "704/704 [==============================] - 20s 28ms/sample - loss: 0.6537 - acc: 0.7259 - val_loss: 0.8419 - val_acc: 0.6358\n",
      "Epoch 63/100\n",
      "704/704 [==============================] - 20s 29ms/sample - loss: 0.6577 - acc: 0.7145 - val_loss: 0.7646 - val_acc: 0.6821\n",
      "Epoch 64/100\n",
      "704/704 [==============================] - 21s 29ms/sample - loss: 0.6739 - acc: 0.7131 - val_loss: 0.8896 - val_acc: 0.6623\n",
      "Epoch 65/100\n",
      "704/704 [==============================] - 20s 28ms/sample - loss: 0.6436 - acc: 0.7273 - val_loss: 0.8189 - val_acc: 0.6490\n",
      "Epoch 66/100\n",
      "704/704 [==============================] - 20s 28ms/sample - loss: 0.6545 - acc: 0.7301 - val_loss: 0.6937 - val_acc: 0.7351\n",
      "Epoch 67/100\n",
      "704/704 [==============================] - 20s 28ms/sample - loss: 0.6619 - acc: 0.7287 - val_loss: 0.7738 - val_acc: 0.6556\n",
      "Epoch 68/100\n",
      "704/704 [==============================] - 20s 28ms/sample - loss: 0.6799 - acc: 0.7074 - val_loss: 0.7592 - val_acc: 0.6689\n",
      "Epoch 69/100\n",
      "704/704 [==============================] - 20s 28ms/sample - loss: 0.6612 - acc: 0.7344 - val_loss: 0.7917 - val_acc: 0.6954\n",
      "Epoch 70/100\n",
      "704/704 [==============================] - 20s 28ms/sample - loss: 0.6563 - acc: 0.7273 - val_loss: 0.8944 - val_acc: 0.6457\n",
      "Epoch 71/100\n",
      "704/704 [==============================] - 20s 29ms/sample - loss: 0.6254 - acc: 0.7514 - val_loss: 0.7670 - val_acc: 0.6689\n",
      "Epoch 72/100\n",
      "704/704 [==============================] - 20s 28ms/sample - loss: 0.6374 - acc: 0.7386 - val_loss: 0.8205 - val_acc: 0.6689\n",
      "Epoch 73/100\n",
      "704/704 [==============================] - 20s 28ms/sample - loss: 0.6346 - acc: 0.7273 - val_loss: 0.8233 - val_acc: 0.6623\n",
      "Epoch 74/100\n",
      "704/704 [==============================] - 20s 28ms/sample - loss: 0.6253 - acc: 0.7514 - val_loss: 0.7909 - val_acc: 0.6854\n",
      "Epoch 75/100\n",
      "704/704 [==============================] - 20s 29ms/sample - loss: 0.6304 - acc: 0.7457 - val_loss: 0.7701 - val_acc: 0.7285\n",
      "Epoch 76/100\n",
      "704/704 [==============================] - 20s 28ms/sample - loss: 0.6425 - acc: 0.7429 - val_loss: 0.7327 - val_acc: 0.6921\n",
      "Epoch 77/100\n",
      "704/704 [==============================] - 20s 28ms/sample - loss: 0.6346 - acc: 0.7472 - val_loss: 0.7872 - val_acc: 0.6722\n",
      "Epoch 78/100\n",
      "704/704 [==============================] - 20s 28ms/sample - loss: 0.6285 - acc: 0.7415 - val_loss: 0.8205 - val_acc: 0.6589\n",
      "Epoch 79/100\n",
      "704/704 [==============================] - 21s 30ms/sample - loss: 0.6247 - acc: 0.7372 - val_loss: 0.8547 - val_acc: 0.6589\n",
      "Epoch 80/100\n",
      "704/704 [==============================] - 20s 28ms/sample - loss: 0.6352 - acc: 0.7330 - val_loss: 0.8927 - val_acc: 0.6788\n",
      "Epoch 81/100\n",
      "704/704 [==============================] - 20s 29ms/sample - loss: 0.6359 - acc: 0.7543 - val_loss: 0.6977 - val_acc: 0.7152\n",
      "Epoch 82/100\n",
      "704/704 [==============================] - 20s 29ms/sample - loss: 0.6106 - acc: 0.7585 - val_loss: 0.8333 - val_acc: 0.6424\n",
      "Epoch 83/100\n",
      "704/704 [==============================] - 20s 28ms/sample - loss: 0.6337 - acc: 0.7386 - val_loss: 0.7677 - val_acc: 0.6788\n",
      "Epoch 84/100\n",
      "704/704 [==============================] - 20s 28ms/sample - loss: 0.6274 - acc: 0.7472 - val_loss: 0.8374 - val_acc: 0.6523\n",
      "Epoch 85/100\n",
      "704/704 [==============================] - 20s 29ms/sample - loss: 0.6195 - acc: 0.7358 - val_loss: 0.8317 - val_acc: 0.6556\n",
      "Epoch 86/100\n",
      "704/704 [==============================] - 20s 29ms/sample - loss: 0.6349 - acc: 0.7273 - val_loss: 0.8284 - val_acc: 0.6656\n",
      "Epoch 87/100\n",
      "704/704 [==============================] - 20s 28ms/sample - loss: 0.6166 - acc: 0.7557 - val_loss: 0.9510 - val_acc: 0.6358\n",
      "Epoch 88/100\n",
      "704/704 [==============================] - 20s 28ms/sample - loss: 0.6277 - acc: 0.7457 - val_loss: 0.9321 - val_acc: 0.6225\n",
      "Epoch 89/100\n",
      "704/704 [==============================] - 21s 30ms/sample - loss: 0.6314 - acc: 0.7415 - val_loss: 0.8285 - val_acc: 0.6987\n",
      "Epoch 90/100\n",
      "704/704 [==============================] - 20s 29ms/sample - loss: 0.6083 - acc: 0.7500 - val_loss: 0.8716 - val_acc: 0.6556\n",
      "Epoch 91/100\n",
      "704/704 [==============================] - 20s 29ms/sample - loss: 0.6315 - acc: 0.7401 - val_loss: 0.7804 - val_acc: 0.6954\n",
      "Epoch 92/100\n",
      "704/704 [==============================] - 21s 29ms/sample - loss: 0.6083 - acc: 0.7599 - val_loss: 0.7332 - val_acc: 0.6821\n",
      "Epoch 93/100\n",
      "704/704 [==============================] - 20s 28ms/sample - loss: 0.5785 - acc: 0.7599 - val_loss: 0.7183 - val_acc: 0.6921\n",
      "Epoch 94/100\n",
      "704/704 [==============================] - 20s 29ms/sample - loss: 0.5896 - acc: 0.7628 - val_loss: 0.6969 - val_acc: 0.7185\n",
      "Epoch 95/100\n",
      "704/704 [==============================] - 21s 29ms/sample - loss: 0.6008 - acc: 0.7656 - val_loss: 0.7578 - val_acc: 0.6854\n",
      "Epoch 96/100\n",
      "704/704 [==============================] - 20s 29ms/sample - loss: 0.6146 - acc: 0.7614 - val_loss: 0.8122 - val_acc: 0.6457\n",
      "Epoch 97/100\n",
      "704/704 [==============================] - 20s 29ms/sample - loss: 0.6464 - acc: 0.7259 - val_loss: 0.7787 - val_acc: 0.6854\n",
      "Epoch 98/100\n",
      "704/704 [==============================] - 20s 29ms/sample - loss: 0.6352 - acc: 0.7429 - val_loss: 0.7501 - val_acc: 0.6821\n",
      "Epoch 99/100\n",
      "704/704 [==============================] - 23s 32ms/sample - loss: 0.5930 - acc: 0.7642 - val_loss: 0.8468 - val_acc: 0.6623\n",
      "Epoch 100/100\n",
      "704/704 [==============================] - 20s 28ms/sample - loss: 0.6396 - acc: 0.7486 - val_loss: 0.7228 - val_acc: 0.6987\n"
     ]
    }
   ],
   "source": [
    "from tensorflow.keras.models import Sequential\n",
    "from tensorflow.keras.layers import Embedding, SimpleRNN, Dense, GRU, GlobalMaxPooling1D, Dropout, Conv1D\n",
    "\n",
    "conv1d_dd_rnn_model = Sequential()\n",
    "input_shape=(None, dynamic_x_train[0].shape[-1])\n",
    "# conv1d_dd_rnn_model.add(layers.Conv1D(58, 5, activation='sigmoid'))\n",
    "\n",
    "conv1d_dd_rnn_model.add(Conv1D(58*28, 9, input_shape=input_shape))\n",
    "conv1d_dd_rnn_model.add(Conv1D(232, 5, activation='sigmoid'))\n",
    "conv1d_dd_rnn_model.add(MaxPooling1D(2))\n",
    "conv1d_dd_rnn_model.add(Conv1D(116, 5, activation='sigmoid'))\n",
    "conv1d_dd_rnn_model.add(MaxPooling1D(2))\n",
    "conv1d_dd_rnn_model.add(SimpleRNN(58))\n",
    "conv1d_dd_rnn_model.add(Dense(5, activation='softmax'))\n",
    "\n",
    "conv1d_dd_rnn_model.compile(optimizer=\"rmsprop\",\n",
    "              loss=\"sparse_categorical_crossentropy\",\n",
    "              metrics=[\"acc\"])\n",
    "\n",
    "conv1d_ddhistory_rnn_part = conv1d_dd_rnn_model.fit(dynamic_x_train, dynamic_y_train, batch_size=10,\n",
    "                                epochs=100, validation_data=(np.array(dynamic_x_test),\n",
    "                                                             np.array(dynamic_y_test)),\n",
    "                                verbose=True)"
   ]
  },
  {
   "cell_type": "code",
   "execution_count": 386,
   "metadata": {},
   "outputs": [],
   "source": [
    "save_history(conv1d_ddhistory_rnn.history, \"hists/rnn_with_conv1d_ddhistory_rnn.pickle\")"
   ]
  },
  {
   "cell_type": "code",
   "execution_count": 384,
   "metadata": {},
   "outputs": [],
   "source": [
    "acc, val_acc = conv1d_ddhistory_rnn_part.history[\"acc\"], conv1d_ddhistory_rnn_part.history[\"val_acc\"]"
   ]
  },
  {
   "cell_type": "code",
   "execution_count": 385,
   "metadata": {},
   "outputs": [
    {
     "data": {
      "image/png": "[encoded data removed]",
      "text/plain": [
       "<matplotlib.figure.Figure at 0x7f7029206eb8>"
      ]
     },
     "metadata": {
      "needs_background": "light"
     },
     "output_type": "display_data"
    }
   ],
   "source": [
    "plt.figure(figsize=(15, 4))\n",
    "plt.plot(range(1, len(acc)+1), acc, label=\"Точность на тестовом наборе данных\")\n",
    "plt.plot(range(1, len(acc)+1), val_acc, \"--\", label=\"Точность на валидационном наборе данных\")\n",
    "plt.legend()\n",
    "# plt.xticks(range(0, 101, 10))\n",
    "plt.xlabel(\"Номер эпохи\")\n",
    "plt.ylabel(\"Точность\")\n",
    "plt.savefig(\"dyn/s_and_dyn_nn_model1.png\", dpi=300)"
   ]
  },
  {
   "cell_type": "code",
   "execution_count": 373,
   "metadata": {},
   "outputs": [
    {
     "data": {
      "image/png": "[encoded data removed]",
      "text/plain": [
       "<matplotlib.figure.Figure at 0x7f702a058dd8>"
      ]
     },
     "metadata": {
      "needs_background": "light"
     },
     "output_type": "display_data"
    }
   ],
   "source": [
    "plot_accuraces(conv1d_ddhistory_rnn, conv1d_ddhistory_rnn)"
   ]
  },
  {
   "cell_type": "markdown",
   "metadata": {},
   "source": [
    "## AutoEncoder"
   ]
  },
  {
   "cell_type": "code",
   "execution_count": 5,
   "metadata": {},
   "outputs": [
    {
     "data": {
      "text/plain": [
       "(1006, 1624)"
      ]
     },
     "execution_count": 5,
     "metadata": {},
     "output_type": "execute_result"
    }
   ],
   "source": [
    "only_dynamic_data.shape"
   ]
  },
  {
   "cell_type": "code",
   "execution_count": 28,
   "metadata": {},
   "outputs": [
    {
     "data": {
      "text/plain": [
       "(1, 1624)"
      ]
     },
     "execution_count": 28,
     "metadata": {},
     "output_type": "execute_result"
    }
   ],
   "source": [
    "only_dynamic_data[0].reshape(1, -1).shape"
   ]
  },
  {
   "cell_type": "code",
   "execution_count": 249,
   "metadata": {},
   "outputs": [],
   "source": [
    "import tensorflow as tf\n",
    "import tensorflow.keras as keras\n",
    "import pandas as pd\n",
    "import numpy as np\n",
    "import matplotlib.pyplot as plt\n",
    "from tensorflow.keras.models import Model, Sequential\n",
    "from tensorflow.keras.layers import Input, Conv1D, Conv2D, MaxPooling1D, Flatten, MaxPooling2D, UpSampling1D, Reshape, AveragePooling1D\n",
    "\n",
    "# input_shape=(1624, 1)\n",
    "\n",
    "# input_sig = Input(batch_shape=(1, 1624,1))\n",
    "# x = Conv1D(232,3, activation='softmax', padding='same',dilation_rate=2)(input_sig)\n",
    "# x1 = MaxPooling1D(2)(x)\n",
    "# x2 = Conv1D(116,3, activation='softmax', padding='same',dilation_rate=2)(x1)\n",
    "# x3 = MaxPooling1D(2)(x2)\n",
    "# x4 = AveragePooling1D()(x3)\n",
    "# flat = Flatten()(x4)\n",
    "# encoded = Dense(58)(flat)\n",
    "\n",
    "# d1 = Dense(1624)(encoded)\n",
    "# d2 = Reshape((406,4))(d1)\n",
    "# d3 = Conv1D(116,1,strides=1, activation='softmax', padding='same')(d2)\n",
    "# d4 = UpSampling1D(2)(d3)\n",
    "# d5 = Conv1D(232,1,strides=1, activation='softmax', padding='same')(d4)\n",
    "# d6 = UpSampling1D(2)(d5)\n",
    "# decoded = Conv1D(1,1,strides=1, activation='softmax', padding='same')(d6)\n",
    "\n",
    "# ae = Model(input_sig, decoded)\n",
    "\n",
    "\n"
   ]
  },
  {
   "cell_type": "code",
   "execution_count": null,
   "metadata": {},
   "outputs": [],
   "source": []
  },
  {
   "cell_type": "code",
   "execution_count": null,
   "metadata": {},
   "outputs": [],
   "source": []
  },
  {
   "cell_type": "code",
   "execution_count": 280,
   "metadata": {},
   "outputs": [
    {
     "name": "stdout",
     "output_type": "stream",
     "text": [
      "(1, 1624)\n"
     ]
    }
   ],
   "source": [
    "input_shape=(1, 1624,1)\n",
    "input_sig = Input(batch_shape=(1, 1624,1))\n",
    "\n",
    "encoded = Dense(units=232, activation='relu')(input_sig)\n",
    "encoded = Dense(units=116, activation='relu')(encoded)\n",
    "encoded = Flatten()(encoded)\n",
    "encoded = Dense(units=58, activation='relu')(encoded)\n",
    "decoded = Dense(units=58, activation='relu')(encoded)\n",
    "decoded = Dense(units=116, activation='relu')(decoded)\n",
    "decoded = Dense(units=232, activation='relu')(decoded)\n",
    "decoded = Dense(units=1624, activation='sigmoid')(decoded)\n",
    "\n",
    "ae = Model(input_sig, decoded)\n",
    "ae.compile(optimizer=\"adam\",\n",
    "              loss=\"mse\",\n",
    "              metrics=[\"acc\"])\n",
    "\n",
    "inp = np.array([only_dynamic_data[randint(0, l-1)].reshape(-1, 1)])\n",
    "ou = ae.predict(inp)\n",
    "print(ou.shape)"
   ]
  },
  {
   "cell_type": "code",
   "execution_count": null,
   "metadata": {},
   "outputs": [],
   "source": []
  },
  {
   "cell_type": "code",
   "execution_count": null,
   "metadata": {},
   "outputs": [],
   "source": []
  },
  {
   "cell_type": "code",
   "execution_count": 269,
   "metadata": {},
   "outputs": [],
   "source": [
    "ae.compile(optimizer=\"adam\",\n",
    "              loss=\"mse\",\n",
    "              metrics=[\"acc\"])"
   ]
  },
  {
   "cell_type": "code",
   "execution_count": null,
   "metadata": {},
   "outputs": [],
   "source": [
    "only_dynamic_data2 = np.array([d.reshape( 1624, 1) for d in only_dynamic_data])"
   ]
  },
  {
   "cell_type": "code",
   "execution_count": null,
   "metadata": {},
   "outputs": [],
   "source": [
    "only_dynamic_data2.shape"
   ]
  },
  {
   "cell_type": "code",
   "execution_count": 289,
   "metadata": {},
   "outputs": [
    {
     "name": "stdout",
     "output_type": "stream",
     "text": [
      "Train on 1006 samples\n",
      "Epoch 1/5\n",
      "1006/1006 [==============================] - 11s 11ms/sample - loss: 447.6561 - acc: 0.0000e+00\n",
      "Epoch 2/5\n",
      "1006/1006 [==============================] - 11s 11ms/sample - loss: 447.5386 - acc: 0.0000e+00\n",
      "Epoch 3/5\n",
      "1006/1006 [==============================] - 11s 11ms/sample - loss: 447.5386 - acc: 0.0000e+00\n",
      "Epoch 4/5\n",
      "1006/1006 [==============================] - 12s 12ms/sample - loss: 447.5386 - acc: 0.0000e+00\n",
      "Epoch 5/5\n",
      "1006/1006 [==============================] - 10s 10ms/sample - loss: 447.5386 - acc: 0.0000e+00\n"
     ]
    },
    {
     "data": {
      "text/plain": [
       "<tensorflow.python.keras.callbacks.History at 0x7f7032edec18>"
      ]
     },
     "execution_count": 289,
     "metadata": {},
     "output_type": "execute_result"
    }
   ],
   "source": [
    "ae.fit(only_dynamic_data2, only_dynamic_data2, epochs=5)"
   ]
  },
  {
   "cell_type": "code",
   "execution_count": 353,
   "metadata": {},
   "outputs": [],
   "source": [
    "def check_pridict(inp, ou):\n",
    "    plt.figure(figsize=(15, 4))\n",
    "#     print(np.min(ou),np.max(ou))\n",
    "    \n",
    "    d = (np.max(inp) - np.min(inp))//2\n",
    "    \n",
    "    \n",
    "    oo = ou * d\n",
    "    \n",
    "    oo += np.min(inp)//2\n",
    "    \n",
    "    plt.plot(range(1624), inp)\n",
    "    plt.plot(range(1624), oo, \"--\")\n",
    "    plt.show()"
   ]
  },
  {
   "cell_type": "code",
   "execution_count": null,
   "metadata": {},
   "outputs": [],
   "source": []
  },
  {
   "cell_type": "code",
   "execution_count": null,
   "metadata": {},
   "outputs": [],
   "source": []
  },
  {
   "cell_type": "code",
   "execution_count": null,
   "metadata": {},
   "outputs": [],
   "source": []
  },
  {
   "cell_type": "code",
   "execution_count": null,
   "metadata": {},
   "outputs": [],
   "source": []
  },
  {
   "cell_type": "code",
   "execution_count": null,
   "metadata": {},
   "outputs": [],
   "source": []
  },
  {
   "cell_type": "code",
   "execution_count": 92,
   "metadata": {},
   "outputs": [
    {
     "name": "stdout",
     "output_type": "stream",
     "text": [
      "Model: \"model_8\"\n",
      "_________________________________________________________________\n",
      "Layer (type)                 Output Shape              Param #   \n",
      "=================================================================\n",
      "input_13 (InputLayer)        [(None, None, 1624)]      0         \n",
      "_________________________________________________________________\n",
      "conv1d_25 (Conv1D)           (None, None, 1624)        13188504  \n",
      "=================================================================\n",
      "Total params: 13,188,504\n",
      "Trainable params: 13,188,504\n",
      "Non-trainable params: 0\n",
      "_________________________________________________________________\n"
     ]
    }
   ],
   "source": [
    "ae.summary()"
   ]
  },
  {
   "cell_type": "code",
   "execution_count": null,
   "metadata": {},
   "outputs": [],
   "source": [
    "ae.predict(np.array([only_dynamic_data[0].reshape(1, -1)]))"
   ]
  },
  {
   "cell_type": "code",
   "execution_count": null,
   "metadata": {},
   "outputs": [],
   "source": []
  },
  {
   "cell_type": "code",
   "execution_count": null,
   "metadata": {},
   "outputs": [],
   "source": []
  },
  {
   "cell_type": "code",
   "execution_count": null,
   "metadata": {},
   "outputs": [],
   "source": []
  },
  {
   "cell_type": "code",
   "execution_count": null,
   "metadata": {},
   "outputs": [],
   "source": []
  },
  {
   "cell_type": "code",
   "execution_count": null,
   "metadata": {},
   "outputs": [],
   "source": []
  },
  {
   "cell_type": "code",
   "execution_count": null,
   "metadata": {},
   "outputs": [],
   "source": []
  },
  {
   "cell_type": "markdown",
   "metadata": {},
   "source": [
    "# LSTM"
   ]
  },
  {
   "cell_type": "markdown",
   "metadata": {},
   "source": [
    "## stat and dyn"
   ]
  },
  {
   "cell_type": "code",
   "execution_count": 394,
   "metadata": {},
   "outputs": [],
   "source": [
    "dynamic_x_train, dynamic_x_test, dynamic_y_train, dynamic_y_test = train_test_split(static_gestures_sequence_lists, full_labels, stratify=full_labels,\n",
    "                                                                                                test_size=0.3, random_state=42)\n",
    "dynamic_x_train = np.array(dynamic_x_train).reshape(704, 58, 1)\n",
    "dynamic_x_test = np.array(dynamic_x_test).reshape(302, 58, 1)"
   ]
  },
  {
   "cell_type": "code",
   "execution_count": 5,
   "metadata": {},
   "outputs": [
    {
     "name": "stdout",
     "output_type": "stream",
     "text": [
      "Train on 704 samples, validate on 302 samples\n",
      "Epoch 1/100\n",
      "704/704 [==============================] - 4s 5ms/sample - loss: 1.5852 - acc: 0.2685 - val_loss: 1.5313 - val_acc: 0.2848\n",
      "Epoch 2/100\n",
      "704/704 [==============================] - 2s 3ms/sample - loss: 1.5243 - acc: 0.2969 - val_loss: 1.5093 - val_acc: 0.2649\n",
      "Epoch 3/100\n",
      "704/704 [==============================] - 2s 3ms/sample - loss: 1.4803 - acc: 0.2756 - val_loss: 1.4429 - val_acc: 0.3113\n",
      "Epoch 4/100\n",
      "704/704 [==============================] - 2s 3ms/sample - loss: 1.4402 - acc: 0.3011 - val_loss: 1.4070 - val_acc: 0.3113\n",
      "Epoch 5/100\n",
      "704/704 [==============================] - 2s 3ms/sample - loss: 1.3830 - acc: 0.3509 - val_loss: 1.3049 - val_acc: 0.3907\n",
      "Epoch 6/100\n",
      "704/704 [==============================] - 2s 3ms/sample - loss: 1.2360 - acc: 0.4815 - val_loss: 1.3725 - val_acc: 0.3974\n",
      "Epoch 7/100\n",
      "704/704 [==============================] - 2s 3ms/sample - loss: 1.1151 - acc: 0.5540 - val_loss: 1.6317 - val_acc: 0.3543\n",
      "Epoch 8/100\n",
      "704/704 [==============================] - 2s 3ms/sample - loss: 1.1025 - acc: 0.5426 - val_loss: 1.0748 - val_acc: 0.5894\n",
      "Epoch 9/100\n",
      "704/704 [==============================] - 2s 3ms/sample - loss: 1.0526 - acc: 0.5767 - val_loss: 1.0182 - val_acc: 0.5828\n",
      "Epoch 10/100\n",
      "704/704 [==============================] - 2s 3ms/sample - loss: 1.0484 - acc: 0.5668 - val_loss: 1.0463 - val_acc: 0.5762\n",
      "Epoch 11/100\n",
      "704/704 [==============================] - 2s 3ms/sample - loss: 1.0191 - acc: 0.5824 - val_loss: 1.3400 - val_acc: 0.4570\n",
      "Epoch 12/100\n",
      "704/704 [==============================] - 2s 3ms/sample - loss: 0.9907 - acc: 0.5881 - val_loss: 1.0240 - val_acc: 0.5927\n",
      "Epoch 13/100\n",
      "704/704 [==============================] - 2s 3ms/sample - loss: 0.9913 - acc: 0.5739 - val_loss: 1.0389 - val_acc: 0.5828\n",
      "Epoch 14/100\n",
      "704/704 [==============================] - 2s 3ms/sample - loss: 0.9520 - acc: 0.6207 - val_loss: 0.9668 - val_acc: 0.5861\n",
      "Epoch 15/100\n",
      "704/704 [==============================] - 2s 3ms/sample - loss: 0.9375 - acc: 0.5994 - val_loss: 1.2590 - val_acc: 0.4768\n",
      "Epoch 16/100\n",
      "704/704 [==============================] - 2s 3ms/sample - loss: 0.9053 - acc: 0.6165 - val_loss: 0.9882 - val_acc: 0.5795\n",
      "Epoch 17/100\n",
      "704/704 [==============================] - 2s 3ms/sample - loss: 0.9202 - acc: 0.6151 - val_loss: 0.8769 - val_acc: 0.6192\n",
      "Epoch 18/100\n",
      "704/704 [==============================] - 2s 3ms/sample - loss: 0.8997 - acc: 0.6094 - val_loss: 0.8738 - val_acc: 0.6258\n",
      "Epoch 19/100\n",
      "704/704 [==============================] - 2s 3ms/sample - loss: 0.8840 - acc: 0.6250 - val_loss: 1.0616 - val_acc: 0.5530\n",
      "Epoch 20/100\n",
      "704/704 [==============================] - 2s 3ms/sample - loss: 0.8817 - acc: 0.6207 - val_loss: 0.8520 - val_acc: 0.6457\n",
      "Epoch 21/100\n",
      "704/704 [==============================] - 2s 3ms/sample - loss: 0.8674 - acc: 0.6378 - val_loss: 0.9091 - val_acc: 0.6225\n",
      "Epoch 22/100\n",
      "704/704 [==============================] - 2s 3ms/sample - loss: 0.8377 - acc: 0.6577 - val_loss: 0.8106 - val_acc: 0.6391\n",
      "Epoch 23/100\n",
      "704/704 [==============================] - 2s 3ms/sample - loss: 0.8222 - acc: 0.6491 - val_loss: 0.8450 - val_acc: 0.6258\n",
      "Epoch 24/100\n",
      "704/704 [==============================] - 2s 3ms/sample - loss: 0.8322 - acc: 0.6477 - val_loss: 1.1358 - val_acc: 0.5497\n",
      "Epoch 25/100\n",
      "704/704 [==============================] - 2s 3ms/sample - loss: 0.8211 - acc: 0.6719 - val_loss: 0.7906 - val_acc: 0.6722\n",
      "Epoch 26/100\n",
      "704/704 [==============================] - 2s 3ms/sample - loss: 0.7886 - acc: 0.6605 - val_loss: 0.7924 - val_acc: 0.6656\n",
      "Epoch 27/100\n",
      "704/704 [==============================] - 2s 3ms/sample - loss: 0.8003 - acc: 0.6449 - val_loss: 0.9573 - val_acc: 0.5993\n",
      "Epoch 28/100\n",
      "704/704 [==============================] - 2s 3ms/sample - loss: 0.8102 - acc: 0.6761 - val_loss: 0.8059 - val_acc: 0.6391\n",
      "Epoch 29/100\n",
      "704/704 [==============================] - 2s 3ms/sample - loss: 0.7937 - acc: 0.6705 - val_loss: 0.7897 - val_acc: 0.6689\n",
      "Epoch 30/100\n",
      "704/704 [==============================] - 2s 3ms/sample - loss: 0.7790 - acc: 0.6960 - val_loss: 0.8953 - val_acc: 0.6225\n",
      "Epoch 31/100\n",
      "704/704 [==============================] - 2s 3ms/sample - loss: 0.7895 - acc: 0.6705 - val_loss: 0.7751 - val_acc: 0.6788\n",
      "Epoch 32/100\n",
      "704/704 [==============================] - 2s 3ms/sample - loss: 0.7401 - acc: 0.6932 - val_loss: 0.7733 - val_acc: 0.6854\n",
      "Epoch 33/100\n",
      "704/704 [==============================] - 2s 3ms/sample - loss: 0.7324 - acc: 0.6932 - val_loss: 0.7692 - val_acc: 0.6854\n",
      "Epoch 34/100\n",
      "704/704 [==============================] - 2s 3ms/sample - loss: 0.7552 - acc: 0.6832 - val_loss: 0.8124 - val_acc: 0.6523\n",
      "Epoch 35/100\n",
      "704/704 [==============================] - 2s 3ms/sample - loss: 0.7290 - acc: 0.7045 - val_loss: 0.9237 - val_acc: 0.6325\n",
      "Epoch 36/100\n",
      "704/704 [==============================] - 2s 3ms/sample - loss: 0.7299 - acc: 0.7060 - val_loss: 0.8133 - val_acc: 0.6788\n",
      "Epoch 37/100\n",
      "704/704 [==============================] - 2s 3ms/sample - loss: 0.7000 - acc: 0.7116 - val_loss: 1.1160 - val_acc: 0.5497\n",
      "Epoch 38/100\n",
      "704/704 [==============================] - 2s 3ms/sample - loss: 0.7010 - acc: 0.7145 - val_loss: 0.7889 - val_acc: 0.6788\n",
      "Epoch 39/100\n",
      "704/704 [==============================] - 2s 3ms/sample - loss: 0.6936 - acc: 0.7216 - val_loss: 0.8107 - val_acc: 0.7053\n",
      "Epoch 40/100\n",
      "704/704 [==============================] - 2s 3ms/sample - loss: 0.6959 - acc: 0.7173 - val_loss: 0.7309 - val_acc: 0.6854\n",
      "Epoch 41/100\n",
      "704/704 [==============================] - 2s 3ms/sample - loss: 0.6701 - acc: 0.7230 - val_loss: 1.0445 - val_acc: 0.6026\n",
      "Epoch 42/100\n",
      "704/704 [==============================] - 2s 3ms/sample - loss: 0.6844 - acc: 0.7259 - val_loss: 0.9445 - val_acc: 0.5993\n",
      "Epoch 43/100\n",
      "704/704 [==============================] - 2s 3ms/sample - loss: 0.6745 - acc: 0.7259 - val_loss: 0.9590 - val_acc: 0.6391\n",
      "Epoch 44/100\n",
      "704/704 [==============================] - 2s 3ms/sample - loss: 0.6541 - acc: 0.7401 - val_loss: 1.1614 - val_acc: 0.5563\n",
      "Epoch 45/100\n",
      "704/704 [==============================] - 2s 3ms/sample - loss: 0.6674 - acc: 0.7372 - val_loss: 0.9109 - val_acc: 0.6424\n",
      "Epoch 46/100\n",
      "704/704 [==============================] - 2s 3ms/sample - loss: 0.6383 - acc: 0.7670 - val_loss: 0.7125 - val_acc: 0.7252\n",
      "Epoch 47/100\n",
      "704/704 [==============================] - 2s 3ms/sample - loss: 0.6832 - acc: 0.7415 - val_loss: 1.4203 - val_acc: 0.5695\n",
      "Epoch 48/100\n",
      "704/704 [==============================] - 2s 3ms/sample - loss: 0.8154 - acc: 0.6989 - val_loss: 0.8382 - val_acc: 0.6887\n",
      "Epoch 49/100\n",
      "704/704 [==============================] - 2s 3ms/sample - loss: 0.6807 - acc: 0.7457 - val_loss: 0.9399 - val_acc: 0.6623\n",
      "Epoch 50/100\n",
      "704/704 [==============================] - 2s 3ms/sample - loss: 0.6418 - acc: 0.7415 - val_loss: 0.7924 - val_acc: 0.7053\n",
      "Epoch 51/100\n",
      "704/704 [==============================] - 2s 3ms/sample - loss: 0.6567 - acc: 0.7315 - val_loss: 0.7498 - val_acc: 0.6854\n",
      "Epoch 52/100\n",
      "704/704 [==============================] - 2s 3ms/sample - loss: 0.6225 - acc: 0.7585 - val_loss: 1.3764 - val_acc: 0.6159\n",
      "Epoch 53/100\n",
      "704/704 [==============================] - 2s 3ms/sample - loss: 0.6739 - acc: 0.7216 - val_loss: 0.9531 - val_acc: 0.6126\n",
      "Epoch 54/100\n",
      "704/704 [==============================] - 2s 3ms/sample - loss: 0.5963 - acc: 0.7770 - val_loss: 0.9139 - val_acc: 0.6126\n",
      "Epoch 55/100\n",
      "704/704 [==============================] - 2s 3ms/sample - loss: 0.6013 - acc: 0.7614 - val_loss: 0.8746 - val_acc: 0.6358\n",
      "Epoch 56/100\n",
      "704/704 [==============================] - 2s 3ms/sample - loss: 0.6211 - acc: 0.7500 - val_loss: 0.7531 - val_acc: 0.6887\n",
      "Epoch 57/100\n",
      "704/704 [==============================] - 2s 3ms/sample - loss: 0.5926 - acc: 0.7699 - val_loss: 0.9820 - val_acc: 0.6291\n",
      "Epoch 58/100\n",
      "704/704 [==============================] - 2s 3ms/sample - loss: 0.5761 - acc: 0.7670 - val_loss: 1.0849 - val_acc: 0.6159\n",
      "Epoch 59/100\n",
      "704/704 [==============================] - 2s 3ms/sample - loss: 0.5753 - acc: 0.7812 - val_loss: 0.7338 - val_acc: 0.7351\n",
      "Epoch 60/100\n",
      "704/704 [==============================] - 2s 3ms/sample - loss: 0.5930 - acc: 0.7557 - val_loss: 0.7307 - val_acc: 0.7285\n",
      "Epoch 61/100\n",
      "704/704 [==============================] - 2s 3ms/sample - loss: 0.5608 - acc: 0.7898 - val_loss: 0.7115 - val_acc: 0.7219\n",
      "Epoch 62/100\n",
      "704/704 [==============================] - 2s 3ms/sample - loss: 0.6008 - acc: 0.7670 - val_loss: 0.7074 - val_acc: 0.7185\n",
      "Epoch 63/100\n",
      "704/704 [==============================] - 2s 3ms/sample - loss: 0.5638 - acc: 0.7912 - val_loss: 0.7406 - val_acc: 0.7152\n",
      "Epoch 64/100\n",
      "704/704 [==============================] - 2s 3ms/sample - loss: 0.5568 - acc: 0.7912 - val_loss: 0.8420 - val_acc: 0.6457\n",
      "Epoch 65/100\n",
      "704/704 [==============================] - 2s 3ms/sample - loss: 0.6622 - acc: 0.7386 - val_loss: 0.7434 - val_acc: 0.6954\n",
      "Epoch 66/100\n",
      "704/704 [==============================] - 2s 3ms/sample - loss: 0.5530 - acc: 0.8026 - val_loss: 0.7178 - val_acc: 0.6987\n",
      "Epoch 67/100\n",
      "704/704 [==============================] - 2s 3ms/sample - loss: 0.5642 - acc: 0.7770 - val_loss: 0.7725 - val_acc: 0.6887\n",
      "Epoch 68/100\n",
      "704/704 [==============================] - 2s 3ms/sample - loss: 0.5534 - acc: 0.7770 - val_loss: 0.7387 - val_acc: 0.7152\n",
      "Epoch 69/100\n",
      "704/704 [==============================] - 2s 3ms/sample - loss: 0.5383 - acc: 0.7898 - val_loss: 0.8393 - val_acc: 0.6821\n",
      "Epoch 70/100\n",
      "704/704 [==============================] - 2s 3ms/sample - loss: 0.5248 - acc: 0.7827 - val_loss: 1.0377 - val_acc: 0.6258\n",
      "Epoch 71/100\n",
      "704/704 [==============================] - 2s 3ms/sample - loss: 0.5383 - acc: 0.8040 - val_loss: 0.7967 - val_acc: 0.7152\n",
      "Epoch 72/100\n",
      "704/704 [==============================] - 2s 3ms/sample - loss: 0.5620 - acc: 0.7827 - val_loss: 0.8566 - val_acc: 0.6689\n",
      "Epoch 73/100\n",
      "704/704 [==============================] - 2s 3ms/sample - loss: 0.5351 - acc: 0.8054 - val_loss: 0.8505 - val_acc: 0.7219\n",
      "Epoch 74/100\n",
      "704/704 [==============================] - 2s 3ms/sample - loss: 0.5249 - acc: 0.8082 - val_loss: 1.0493 - val_acc: 0.6457\n",
      "Epoch 75/100\n",
      "704/704 [==============================] - 2s 3ms/sample - loss: 0.5269 - acc: 0.8125 - val_loss: 0.7806 - val_acc: 0.7053\n",
      "Epoch 76/100\n",
      "704/704 [==============================] - 2s 3ms/sample - loss: 0.5756 - acc: 0.7841 - val_loss: 0.7420 - val_acc: 0.7185\n",
      "Epoch 77/100\n",
      "704/704 [==============================] - 2s 3ms/sample - loss: 0.6242 - acc: 0.7415 - val_loss: 0.7615 - val_acc: 0.7219\n",
      "Epoch 78/100\n",
      "704/704 [==============================] - 2s 3ms/sample - loss: 0.5316 - acc: 0.7869 - val_loss: 0.7696 - val_acc: 0.7219\n",
      "Epoch 79/100\n",
      "704/704 [==============================] - 2s 3ms/sample - loss: 0.5105 - acc: 0.8040 - val_loss: 0.7892 - val_acc: 0.7219\n",
      "Epoch 80/100\n",
      "704/704 [==============================] - 2s 3ms/sample - loss: 0.4873 - acc: 0.8153 - val_loss: 0.6920 - val_acc: 0.7450\n",
      "Epoch 81/100\n",
      "704/704 [==============================] - 2s 3ms/sample - loss: 0.5318 - acc: 0.8139 - val_loss: 0.8850 - val_acc: 0.7219\n",
      "Epoch 82/100\n",
      "704/704 [==============================] - 2s 3ms/sample - loss: 0.5681 - acc: 0.8139 - val_loss: 0.7139 - val_acc: 0.7152\n",
      "Epoch 83/100\n",
      "704/704 [==============================] - 2s 3ms/sample - loss: 0.5544 - acc: 0.8153 - val_loss: 0.7528 - val_acc: 0.7318\n",
      "Epoch 84/100\n",
      "704/704 [==============================] - 2s 3ms/sample - loss: 0.4771 - acc: 0.8239 - val_loss: 0.7712 - val_acc: 0.7351\n",
      "Epoch 85/100\n",
      "704/704 [==============================] - 2s 3ms/sample - loss: 0.4677 - acc: 0.8352 - val_loss: 0.6455 - val_acc: 0.7881\n",
      "Epoch 86/100\n",
      "704/704 [==============================] - 2s 3ms/sample - loss: 0.4200 - acc: 0.8409 - val_loss: 0.6479 - val_acc: 0.7914\n",
      "Epoch 87/100\n",
      "704/704 [==============================] - 2s 3ms/sample - loss: 0.4287 - acc: 0.8480 - val_loss: 1.4223 - val_acc: 0.5861\n",
      "Epoch 88/100\n",
      "704/704 [==============================] - 2s 3ms/sample - loss: 0.5120 - acc: 0.8224 - val_loss: 0.6614 - val_acc: 0.7550\n",
      "Epoch 89/100\n",
      "704/704 [==============================] - 2s 3ms/sample - loss: 0.4683 - acc: 0.8395 - val_loss: 0.7012 - val_acc: 0.7616\n",
      "Epoch 90/100\n",
      "704/704 [==============================] - 2s 3ms/sample - loss: 0.7444 - acc: 0.7429 - val_loss: 0.6688 - val_acc: 0.7185\n",
      "Epoch 91/100\n",
      "704/704 [==============================] - 2s 3ms/sample - loss: 0.4285 - acc: 0.8466 - val_loss: 0.6344 - val_acc: 0.7649\n",
      "Epoch 92/100\n",
      "704/704 [==============================] - 2s 3ms/sample - loss: 0.4537 - acc: 0.8253 - val_loss: 0.6399 - val_acc: 0.7781\n",
      "Epoch 93/100\n",
      "704/704 [==============================] - 2s 3ms/sample - loss: 0.4455 - acc: 0.8395 - val_loss: 0.6475 - val_acc: 0.7881\n",
      "Epoch 94/100\n",
      "704/704 [==============================] - 2s 3ms/sample - loss: 0.4650 - acc: 0.8196 - val_loss: 0.6318 - val_acc: 0.7881\n",
      "Epoch 95/100\n",
      "704/704 [==============================] - 2s 3ms/sample - loss: 0.3982 - acc: 0.8707 - val_loss: 0.8705 - val_acc: 0.6854\n",
      "Epoch 96/100\n",
      "704/704 [==============================] - 2s 3ms/sample - loss: 0.3865 - acc: 0.8750 - val_loss: 0.5855 - val_acc: 0.7980\n",
      "Epoch 97/100\n",
      "704/704 [==============================] - 2s 3ms/sample - loss: 0.4044 - acc: 0.8665 - val_loss: 1.0046 - val_acc: 0.6589\n",
      "Epoch 98/100\n",
      "704/704 [==============================] - 2s 3ms/sample - loss: 0.4356 - acc: 0.8423 - val_loss: 0.5736 - val_acc: 0.7980\n",
      "Epoch 99/100\n",
      "704/704 [==============================] - 2s 3ms/sample - loss: 0.4524 - acc: 0.8352 - val_loss: 0.7264 - val_acc: 0.7318\n",
      "Epoch 100/100\n",
      "704/704 [==============================] - 2s 3ms/sample - loss: 0.3658 - acc: 0.8608 - val_loss: 0.6053 - val_acc: 0.8013\n"
     ]
    }
   ],
   "source": [
    "from tensorflow.keras.layers import LSTM, Dense\n",
    "\n",
    "from tensorflow.keras.models import Sequential\n",
    "\n",
    "sslstm_model = Sequential()\n",
    "\n",
    "# lstm_model.add(Embedding(max_features, 32))\n",
    "sslstm_model.add(LSTM(58, input_shape=(None, 1)))\n",
    "sslstm_model.add(Dense(5, activation='softmax'))\n",
    "\n",
    "sslstm_model.compile(optimizer=\"rmsprop\",\n",
    "              loss=\"sparse_categorical_crossentropy\",\n",
    "              metrics=[\"acc\"])\n",
    "\n",
    "sshistory_lstm = sslstm_model.fit(dynamic_x_train, dynamic_y_train,\n",
    "                                  epochs=100, batch_size=20, \n",
    "                                  validation_data=(np.array(dynamic_x_test),\n",
    "                                                   np.array(dynamic_y_test)),\n",
    "                                  verbose=True)"
   ]
  },
  {
   "cell_type": "code",
   "execution_count": 398,
   "metadata": {},
   "outputs": [],
   "source": [
    "save_history(sshistory_lstm.history, \"hists/lstm_stat_and_dyn.pickle\")"
   ]
  },
  {
   "cell_type": "markdown",
   "metadata": {},
   "source": [
    "## Only dyn"
   ]
  },
  {
   "cell_type": "code",
   "execution_count": 19,
   "metadata": {},
   "outputs": [],
   "source": [
    "dynamic_x_train, dynamic_x_test, dynamic_y_train, dynamic_y_test = train_test_split(only_dynamic_data, full_labels, stratify=full_labels,\n",
    "                                                                                                test_size=0.3, random_state=42)\n",
    "dynamic_x_train = np.array(dynamic_x_train).reshape(704, 58*28, 1)\n",
    "dynamic_x_test = np.array(dynamic_x_test).reshape(302, 58*28, 1)"
   ]
  },
  {
   "cell_type": "code",
   "execution_count": null,
   "metadata": {},
   "outputs": [],
   "source": [
    "from tensorflow.keras.layers import LSTM, Dense, GRU, Conv1D, MaxPooling1D\n",
    "\n",
    "from tensorflow.keras.models import Sequential\n",
    "\n",
    "ddlstm_model = Sequential()\n",
    "\n",
    "\n",
    "# ddlstm_model.add(Conv1D(58*28, 9, input_shape=(None, 1)))\n",
    "# ddlstm_model.add(Conv1D(232, 5, activation='sigmoid'))\n",
    "# ddlstm_model.add(MaxPooling1D(2))\n",
    "# ddlstm_model.add(Conv1D(116, 5, activation='sigmoid'))\n",
    "# ddlstm_model.add(MaxPooling1D(2))\n",
    "ddlstm_model.add(GRU(58*28, input_shape=(None, 1)))\n",
    "ddlstm_model.add(Dense(5, activation='softmax'))\n",
    "\n",
    "ddlstm_model.compile(optimizer=\"rmsprop\",\n",
    "              loss=\"sparse_categorical_crossentropy\",\n",
    "              metrics=[\"acc\"])\n",
    "\n",
    "ddhistory_lstm = ddlstm_model.fit(dynamic_x_train, dynamic_y_train,\n",
    "                                  epochs=100, batch_size=25,\n",
    "                                  validation_data=(np.array(dynamic_x_test),\n",
    "                                                   np.array(dynamic_y_test)),\n",
    "                                  verbose=True)"
   ]
  },
  {
   "cell_type": "code",
   "execution_count": 16,
   "metadata": {},
   "outputs": [],
   "source": [
    "save_history(ddhistory_lstm.history, \"hists/lstm_conv1d_dyn.pickle\")"
   ]
  },
  {
   "cell_type": "code",
   "execution_count": null,
   "metadata": {},
   "outputs": [],
   "source": []
  },
  {
   "cell_type": "code",
   "execution_count": null,
   "metadata": {},
   "outputs": [],
   "source": []
  },
  {
   "cell_type": "code",
   "execution_count": null,
   "metadata": {},
   "outputs": [],
   "source": []
  },
  {
   "cell_type": "code",
   "execution_count": null,
   "metadata": {},
   "outputs": [],
   "source": []
  },
  {
   "cell_type": "code",
   "execution_count": null,
   "metadata": {},
   "outputs": [],
   "source": []
  },
  {
   "cell_type": "code",
   "execution_count": null,
   "metadata": {},
   "outputs": [],
   "source": []
  },
  {
   "cell_type": "code",
   "execution_count": null,
   "metadata": {},
   "outputs": [],
   "source": []
  },
  {
   "cell_type": "code",
   "execution_count": null,
   "metadata": {},
   "outputs": [],
   "source": [
    "def features_to_vec(features):\n",
    "    vectors = []\n",
    "    for f in features:\n",
    "        zeros = np.zeros((6))\n",
    "        zeros[f-1] = 1\n",
    "        vectors.append(zeros)\n",
    "    return np.array(vectors)"
   ]
  },
  {
   "cell_type": "code",
   "execution_count": null,
   "metadata": {},
   "outputs": [],
   "source": [
    "x_train_vectors = []\n",
    "\n",
    "for x in dynamic_x_train:\n",
    "    vec = features_to_vec(x)\n",
    "    x_train_vectors.append(vec.reshape(1, -1)[0])\n",
    "\n",
    "x_train_vectors = np.array(x_train_vectors)"
   ]
  },
  {
   "cell_type": "code",
   "execution_count": null,
   "metadata": {},
   "outputs": [],
   "source": [
    "x_train_vectors"
   ]
  },
  {
   "cell_type": "code",
   "execution_count": null,
   "metadata": {},
   "outputs": [],
   "source": [
    "x_test_vectors = []\n",
    "\n",
    "for x in dynamic_x_test:\n",
    "    vec = features_to_vec(x)\n",
    "    x_test_vectors.append(vec.reshape(1, -1)[0])\n",
    "\n",
    "x_test_vectors = np.array(x_test_vectors)"
   ]
  },
  {
   "cell_type": "code",
   "execution_count": null,
   "metadata": {},
   "outputs": [],
   "source": [
    "from keras.layers import *\n",
    "from keras import Sequential\n",
    "\n",
    "model1 = Sequential()\n",
    "model1.add(Dense(58, activation=\"sigmoid\", input_shape=(58*6,)))\n",
    "model1.add(Dense(5, activation=\"softmax\"))\n",
    "model1.compile(optimizer=\"rmsprop\",\n",
    "              loss=\"sparse_categorical_crossentropy\",\n",
    "              metrics=[\"acc\"])\n",
    "\n",
    "hist11 = model1.fit(np.array(x_train_vectors), np.array(dynamic_y_train),\n",
    "                   epochs=150, batch_size=10,\n",
    "                   validation_data=(np.array(x_test_vectors), np.array(dynamic_y_test)), \n",
    "                   verbose=False)\n",
    "\n"
   ]
  },
  {
   "cell_type": "code",
   "execution_count": null,
   "metadata": {},
   "outputs": [],
   "source": [
    "model1.summary()"
   ]
  },
  {
   "cell_type": "code",
   "execution_count": null,
   "metadata": {},
   "outputs": [],
   "source": [
    "max(hist11.history[\"val_acc\"])"
   ]
  },
  {
   "cell_type": "code",
   "execution_count": null,
   "metadata": {},
   "outputs": [],
   "source": [
    "acc5, val_acc5 = hist11.history[\"acc\"], hist11.history[\"val_acc\"]\n",
    "plt.figure(figsize=(15, 4))\n",
    "plt.plot(range(1, len(acc5)+1), acc5, label=\"Точность на тестовом наборе данных\")\n",
    "plt.plot(range(1, len(acc5)+1), val_acc5, \"--\", label=\"Точность на валидационном наборе данных\")\n",
    "plt.legend()\n",
    "plt.xticks(range(0, 151, 10))\n",
    "plt.xlabel(\"Номер эпохи\")\n",
    "plt.ylabel(\"Точность\")\n",
    "plt.savefig(\"dyn/nn_model1.png\", dpi=300)"
   ]
  },
  {
   "cell_type": "code",
   "execution_count": null,
   "metadata": {},
   "outputs": [],
   "source": []
  },
  {
   "cell_type": "code",
   "execution_count": null,
   "metadata": {},
   "outputs": [],
   "source": [
    "dynamic_model = model1"
   ]
  },
  {
   "cell_type": "code",
   "execution_count": null,
   "metadata": {},
   "outputs": [],
   "source": [
    "max(hist1.history[\"val_acc\"])"
   ]
  },
  {
   "cell_type": "code",
   "execution_count": null,
   "metadata": {},
   "outputs": [],
   "source": [
    "static_model"
   ]
  },
  {
   "cell_type": "code",
   "execution_count": null,
   "metadata": {},
   "outputs": [],
   "source": [
    "dynamic_model"
   ]
  },
  {
   "cell_type": "code",
   "execution_count": null,
   "metadata": {},
   "outputs": [],
   "source": [
    "import json\n",
    "\n",
    "def save_model(model, name):\n",
    "    model_json = model.to_json()\n",
    "    with open(\"{}.json\".format(name), \"w\") as json_file:\n",
    "        json_file.write(model_json)\n",
    "    model.save_weights(\"{}.h5\".format(name))\n",
    "    print(\"Model {} saved!\".format(name))\n",
    "    \n",
    "def load_model(name):\n",
    "    json_file = open('{}.json'.format(name), 'r')\n",
    "    loaded_model_json = json_file.read()\n",
    "    json_file.close()\n",
    "    loaded_model = model_from_json(loaded_model_json)\n",
    "    # load weights into new model\n",
    "    loaded_model.load_weights(\"{}.h5\".format(name))\n",
    "    return loaded_model"
   ]
  },
  {
   "cell_type": "code",
   "execution_count": null,
   "metadata": {},
   "outputs": [],
   "source": [
    "save_model(static_model, \"static_model\")"
   ]
  },
  {
   "cell_type": "code",
   "execution_count": null,
   "metadata": {},
   "outputs": [],
   "source": [
    "save_model(dynamic_model, \"dynamic_model\")"
   ]
  },
  {
   "cell_type": "code",
   "execution_count": null,
   "metadata": {},
   "outputs": [],
   "source": [
    "import cv2\n",
    "from src.PoseExtractor import PoseExtractor\n",
    "from src.data_processing.pose_utils import *\n",
    "from keras.models import model_from_json\n",
    "import json\n",
    "\n",
    "\n",
    "labels_dict = {\"hands_down\": 0,\n",
    "               \"stop\": 1,\n",
    "               \"hands_up\": 2,\n",
    "               \"hands_up_small\": 3,\n",
    "               \"hands_down_small\": 4,\n",
    "               \"hads_down_up\": 5,\n",
    "               \"hands_to_sides\": 6}\n",
    "\n",
    "decode_labels_dict = {val: key for key, val in labels_dict.items()}\n",
    "\n",
    "\n",
    "dynamic_gestures_labesl_dict = {0: \"stop\",\n",
    "                                1: \"come_on\",\n",
    "                                2: \"go_away\",\n",
    "                                3: \"look_at_me\",\n",
    "                                4: \"other\"}\n",
    "\n",
    "gestures_to_num_dict = dict(zip(dynamic_gestures_labesl_dict.values(), dynamic_gestures_labesl_dict.keys()))\n",
    "\n",
    "\n",
    "def save_model(model, name):\n",
    "    model_json = model.to_json()\n",
    "    with open(\"{}.json\".format(name), \"w\") as json_file:\n",
    "        json_file.write(model_json)\n",
    "    model.save_weights(\"{}.h5\".format(name))\n",
    "    print(\"Model {} saved!\".format(name))\n",
    "    \n",
    "def load_model(name):\n",
    "    json_file = open('{}.json'.format(name), 'r')\n",
    "    loaded_model_json = json_file.read()\n",
    "    json_file.close()\n",
    "    loaded_model = model_from_json(loaded_model_json)\n",
    "    # load weights into new model\n",
    "    loaded_model.load_weights(\"{}.h5\".format(name))\n",
    "    return loaded_model\n",
    "\n",
    "static_model = load_model(\"static_model\")\n",
    "dynamic_model = load_model(\"dynamic_model\")\n",
    "\n",
    "\n",
    "\n",
    "def get_biggest_pose(poses):\n",
    "    max_distance = -1\n",
    "    biggest_pose = None\n",
    "    if len(poses):\n",
    "        for pose in poses:\n",
    "            pose_key_point1 = pose.points[1]\n",
    "            pose_key_point2 = pose.points[8]\n",
    "            if all(pose_key_point1.int_xy) and all(pose_key_point2.int_xy):\n",
    "                distance = get_distance_between_points(pose_key_point1, pose_key_point2)\n",
    "                if distance >= max_distance:\n",
    "                    max_distance = distance\n",
    "                    biggest_pose = pose\n",
    "        return biggest_pose\n",
    "    \n",
    "    \n",
    "def find_distance(pt1, pt2):\n",
    "    return np.sqrt((pt2.x - pt1.x)**2 + (pt2.y - pt1.y)**2)\n",
    "\n",
    "    \n",
    "def new_extract_features(pose, central_point_idx, specific_points):\n",
    "    assert central_point_idx not in specific_points\n",
    "    \n",
    "    rescaled_pose = rescale_pose(pose)\n",
    "    central_point = rescaled_pose.points[central_point_idx]\n",
    "    \n",
    "    features = []\n",
    "    \n",
    "    for current_points_idx in specific_points:\n",
    "        current_point = rescaled_pose.points[current_points_idx]\n",
    "\n",
    "        dx = central_point.x - current_point.x\n",
    "        dy = central_point.y - current_point.y\n",
    "    \n",
    "        features.append(dx)\n",
    "        features.append(dy)\n",
    "    \n",
    "    return np.array(features)\n",
    "\n",
    "\n",
    "class FeaturesSequence():\n",
    "    \n",
    "    default_pose = 0\n",
    "    \n",
    "    def __init__(self, max_features_num):\n",
    "        self.__max_features_num = max_features_num\n",
    "        self.__features_sequence = [0] * self.__max_features_num\n",
    "    \n",
    "    def update_features_sequense(self, new_features):\n",
    "        if len(self.__features_sequence) >= self.__max_features_num:\n",
    "            self.__features_sequence = self.__features_sequence[1:]\n",
    "        self.__features_sequence.append(new_features)\n",
    "        \n",
    "    def get_vectorized_features(self):\n",
    "        return self.__features_to_vec(self.__features_sequence).reshape(1, -1)\n",
    "        \n",
    "    @staticmethod\n",
    "    def __features_to_vec(features):\n",
    "        vectors = []\n",
    "        for f in features:\n",
    "            zeros = np.zeros((6))\n",
    "            zeros[f-1] = 1\n",
    "            vectors.append(zeros)\n",
    "        return np.array(vectors)\n",
    "    \n",
    "    \n",
    "capture = cv2.VideoCapture(0)\n",
    "pose_extractor = PoseExtractor()\n",
    "top_pose_points = [0, 2, 3, 4, 5, 6, 7, 8, 9, 12, 15, 16, 17, 18]\n",
    "\n",
    "features_seq = FeaturesSequence(58)\n",
    "\n",
    "while True:\n",
    "    ret, img = capture.read()\n",
    "    if not ret:\n",
    "        break\n",
    "        \n",
    "    poses = pose_extractor.extract_poses_from_image(img)\n",
    "    actual_pose =  get_biggest_pose(poses)\n",
    "    if actual_pose is not None:\n",
    "        features = new_extract_features(actual_pose, 1, top_pose_points)\n",
    "        gesture = static_model.predict(features.reshape(1, -1))\n",
    "        gesture = np.argmax(gesture)\n",
    "        str_gesture = decode_labels_dict[gesture]\n",
    "        \n",
    "        features_seq.update_features_sequense(gesture)\n",
    "        features_seq.update_features_sequense(gesture)\n",
    "        features_seq.update_features_sequense(gesture)\n",
    "        features_seq.update_features_sequense(gesture)\n",
    "        features_seq.update_features_sequense(gesture)\n",
    "        features_seq.update_features_sequense(gesture)\n",
    "        features_seq.update_features_sequense(gesture)\n",
    "        features_seq.update_features_sequense(gesture)\n",
    "\n",
    "\n",
    "        vec = features_seq.get_vectorized_features()\n",
    "        \n",
    "        dynamic_gesture = dynamic_model.predict(vec)\n",
    "        dynamic_gesture = np.argmax(dynamic_gesture)\n",
    "        str_dynamic_gesture = dynamic_gestures_labesl_dict[dynamic_gesture]\n",
    "        \n",
    "        cv2.putText(img, str_dynamic_gesture, (20, 20), cv2.FONT_HERSHEY_COMPLEX, 1, (0, 0, 0), 3)\n",
    "        \n",
    "        \n",
    "        for point in actual_pose.points:\n",
    "            center = (int(point.x), int(point.y))\n",
    "            cv2.circle(img, center, 3, (0, 255, 255), -1)\n",
    "            \n",
    "    cv2.namedWindow(\"image\", cv2.WINDOW_NORMAL)\n",
    "    cv2.imshow(\"image\", img)\n",
    "    k = cv2.waitKey(10)\n",
    "    if k & 0xFF == 27:\n",
    "        break\n",
    "    \n",
    "    \n",
    "capture.release()\n",
    "cv2.destroyAllWindows()"
   ]
  },
  {
   "cell_type": "code",
   "execution_count": null,
   "metadata": {},
   "outputs": [],
   "source": [
    "capture.release()\n",
    "cv2.destroyAllWindows()"
   ]
  },
  {
   "cell_type": "code",
   "execution_count": null,
   "metadata": {},
   "outputs": [],
   "source": []
  }
 ],
 "metadata": {
  "kernelspec": {
   "display_name": "Python 3",
   "language": "python",
   "name": "python3"
  },
  "language_info": {
   "codemirror_mode": {
    "name": "ipython",
    "version": 3
   },
   "file_extension": ".py",
   "mimetype": "text/x-python",
   "name": "python",
   "nbconvert_exporter": "python",
   "pygments_lexer": "ipython3",
   "version": "3.6.9"
  }
 },
 "nbformat": 4,
 "nbformat_minor": 4
}
