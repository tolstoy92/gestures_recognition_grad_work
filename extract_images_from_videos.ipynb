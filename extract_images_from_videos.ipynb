{
 "cells": [
  {
   "cell_type": "code",
   "execution_count": 7,
   "metadata": {},
   "outputs": [],
   "source": [
    "import os\n",
    "import cv2\n",
    "\n",
    "static_gestures_videos_folder = \"/home/user/Documents/GesturesRecogniton/gestures_videos/static_gestures_videos\"\n",
    "videos_list = os.listdir(statc_gestures_videos_folder)"
   ]
  },
  {
   "cell_type": "code",
   "execution_count": 10,
   "metadata": {},
   "outputs": [],
   "source": [
    "def create_image_name(img_counter):\n",
    "    return \"{}.png\".format(img_counter)\n",
    "\n",
    "def extract_images_from_video(dst_folder, path_to_video):\n",
    "    image_counter = 0\n",
    "    cap = cv2.VideoCapture(path_to_video)\n",
    "    while True:\n",
    "        ret, img = cap.read()\n",
    "        if not ret:\n",
    "            break\n",
    "        img_name = create_image_name(image_counter)\n",
    "        path_to_save = os.path.join(dst_folder, img_name)\n",
    "        cv2.imwrite(path_to_save, img)\n",
    "        image_counter += 1    \n",
    "    cap.release()"
   ]
  },
  {
   "cell_type": "code",
   "execution_count": null,
   "metadata": {},
   "outputs": [],
   "source": [
    "for video_name in videos_list:\n",
    "    full_vieo_path = os.path.join(static_gestures_videos_folder, video_name)\n",
    "    dst_folder_name = video_name.split(\".\")[0]\n",
    "    dst_folder_full_path = os.path.join(os.getcwd(), dst_folder_name)\n",
    "    os.mkdir(dst_folder_full_path)\n",
    "    extract_images_from_video(dst_folder_full_path, full_vieo_path)"
   ]
  },
  {
   "cell_type": "code",
   "execution_count": null,
   "metadata": {},
   "outputs": [],
   "source": []
  }
 ],
 "metadata": {
  "kernelspec": {
   "display_name": "Python 3",
   "language": "python",
   "name": "python3"
  },
  "language_info": {
   "codemirror_mode": {
    "name": "ipython",
    "version": 3
   },
   "file_extension": ".py",
   "mimetype": "text/x-python",
   "name": "python",
   "nbconvert_exporter": "python",
   "pygments_lexer": "ipython3",
   "version": "3.6.9"
  }
 },
 "nbformat": 4,
 "nbformat_minor": 4
}
