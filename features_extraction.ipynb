{
 "cells": [
  {
   "cell_type": "code",
   "execution_count": 3,
   "metadata": {},
   "outputs": [],
   "source": [
    "import os\n",
    "import numpy as np\n",
    "from matplotlib import pyplot as plt\n",
    "\n",
    "poses_dir1 = \"database/static_gestures_with_pose_rescaling\"\n",
    "poses_dir2 = \"database/static_gestures_without_pose_rescaling\"\n",
    "\n",
    "\n",
    "pose11_name = \"hands_up/0.npy\"\n",
    "pose21_name = \"hands_down/0.npy\"\n",
    "\n",
    "pose12_name = \"hands_up/0.npy\"\n",
    "pose22_name = \"hands_down/0.npy\"\n",
    "\n",
    "def load_pose(dir_path, name):\n",
    "    full_path = os.path.join(dir_path, name)\n",
    "    pose = np.load(full_path, allow_pickle=True)\n",
    "    return pose"
   ]
  },
  {
   "cell_type": "code",
   "execution_count": 17,
   "metadata": {},
   "outputs": [],
   "source": [
    "pose11 = load_pose(poses_dir1, pose11_name)\n",
    "pose21 = load_pose(poses_dir1, pose21_name)\n",
    "\n",
    "pose12 = load_pose(poses_dir2, pose12_name)[()].points\n",
    "pose22 = load_pose(poses_dir2, pose22_name)[()].points"
   ]
  },
  {
   "cell_type": "code",
   "execution_count": 21,
   "metadata": {},
   "outputs": [],
   "source": [
    "from matplotlib import pyplot as plt\n",
    "\n",
    "p11 = []\n",
    "p21 = []\n",
    "\n",
    "for i in range(0, len(pose11), 2):\n",
    "    p11.append((pose11[i], pose11[i+1]))\n",
    "    p21.append((pose21[i], pose21[i+1]))\n"
   ]
  },
  {
   "cell_type": "code",
   "execution_count": 32,
   "metadata": {},
   "outputs": [],
   "source": [
    "x11 = [p[0] for p in p11]\n",
    "y11 = [p[1] for p in p11]\n",
    "\n",
    "x21 = [p[0] for p in p21]\n",
    "y21 = [p[1] for p in p21]\n",
    "\n",
    "\n",
    "x12 = [p.x for p in pose12]\n",
    "y12 = [p.y for p in pose12]\n",
    "\n",
    "x22 = [p.x for p in pose22]\n",
    "y22 = [p.y for p in pose22]"
   ]
  },
  {
   "cell_type": "code",
   "execution_count": 34,
   "metadata": {},
   "outputs": [
    {
     "data": {
      "text/plain": [
       "<matplotlib.collections.PathCollection at 0x7f0998a88748>"
      ]
     },
     "execution_count": 34,
     "metadata": {},
     "output_type": "execute_result"
    },
    {
     "data": {
      "image/png": "[encoded data removed]",
      "text/plain": [
       "<matplotlib.figure.Figure at 0x7f0998af6eb8>"
      ]
     },
     "metadata": {
      "needs_background": "light"
     },
     "output_type": "display_data"
    }
   ],
   "source": [
    "plt.scatter(x11, y11)\n",
    "plt.scatter(x21, y21)\n",
    "plt.scatter(x12, y12)\n",
    "plt.scatter(x22, y22)"
   ]
  }
 ],
 "metadata": {
  "kernelspec": {
   "display_name": "Python 3",
   "language": "python",
   "name": "python3"
  },
  "language_info": {
   "codemirror_mode": {
    "name": "ipython",
    "version": 3
   },
   "file_extension": ".py",
   "mimetype": "text/x-python",
   "name": "python",
   "nbconvert_exporter": "python",
   "pygments_lexer": "ipython3",
   "version": "3.6.9"
  }
 },
 "nbformat": 4,
 "nbformat_minor": 4
}
