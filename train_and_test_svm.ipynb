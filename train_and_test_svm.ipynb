{
 "cells": [
  {
   "cell_type": "code",
   "execution_count": 8,
   "metadata": {},
   "outputs": [
    {
     "name": "stdout",
     "output_type": "stream",
     "text": [
      "hands_down\n",
      "stop\n",
      "hands_up\n",
      "hands_up_small\n",
      "hands_down_small\n",
      "hads_down_up\n",
      "hands_to_sides\n",
      "Loaded\n"
     ]
    }
   ],
   "source": [
    "import os \n",
    "import numpy as np\n",
    "\n",
    "labels_dict = {\"hands_down\": 0,\n",
    "               \"stop\": 1,\n",
    "               \"hands_up\": 2,\n",
    "               \"hands_up_small\": 3,\n",
    "               \"hands_down_small\": 4,\n",
    "               \"hads_down_up\": 5,\n",
    "               \"hands_to_sides\": 6}\n",
    "\n",
    "data_list = []\n",
    "labels_list = []\n",
    "\n",
    "normalized_data_dir = \"database/static_gestures_with_pose_rescaling\"\n",
    "\n",
    "for folder in os.listdir(normalized_data_dir):\n",
    "    print(folder)\n",
    "    src_path = os.path.join(normalized_data_dir, folder)\n",
    "    for data_file_name in os.listdir(src_path):\n",
    "        full_data_file_path = os.path.join(src_path, data_file_name)\n",
    "        features = np.load(full_data_file_path)\n",
    "        if not any(np.isnan(features)):\n",
    "            data_list.append(features)\n",
    "            labels_list.append(labels_dict[folder])\n",
    "\n",
    "print(\"Loaded\")\n"
   ]
  },
  {
   "cell_type": "code",
   "execution_count": 9,
   "metadata": {},
   "outputs": [],
   "source": [
    "from sklearn.model_selection import train_test_split\n",
    "X_train, X_test, y_train, y_test = train_test_split(data_list, labels_list, stratify=labels_list,\n",
    "                                                    test_size=0.3, random_state=42)\n"
   ]
  },
  {
   "cell_type": "code",
   "execution_count": null,
   "metadata": {},
   "outputs": [],
   "source": [
    "from sklearn.svm import LinearSVC, SVC\n",
    "from sklearn.pipeline import Pipeline\n",
    "from sklearn.preprocessing import StandardScaler\n",
    "from sklearn import metrics\n",
    "\n",
    "\n",
    "results_dict = {}\n",
    "\n",
    "for Cc in range(1, 100):\n",
    "    svm_clf = Pipeline([(\"scaler\", StandardScaler()),\n",
    "                        (\"linear_svc\", LinearSVC(C=Cc, loss=\"hinge\"))])\n",
    "    svm_clf.fit(X_train, y_train)\n",
    "    y_pred = svm_clf.predict(X_test)\n",
    "    acc = metrics.accuracy_score(y_test, y_pred)\n",
    "    results_dict[Cc] = acc"
   ]
  },
  {
   "cell_type": "code",
   "execution_count": 47,
   "metadata": {},
   "outputs": [],
   "source": [
    "с = [i for i in results_dict.keys()]\n",
    "acc = [a*100.0 for a in results_dict.values()]"
   ]
  },
  {
   "cell_type": "code",
   "execution_count": 55,
   "metadata": {},
   "outputs": [],
   "source": [
    "c = [i for i in results_dict.keys()]"
   ]
  },
  {
   "cell_type": "code",
   "execution_count": 63,
   "metadata": {},
   "outputs": [
    {
     "data": {
      "text/plain": [
       "(99,)"
      ]
     },
     "execution_count": 63,
     "metadata": {},
     "output_type": "execute_result"
    }
   ],
   "source": [
    "acc.shape"
   ]
  },
  {
   "cell_type": "code",
   "execution_count": 58,
   "metadata": {},
   "outputs": [],
   "source": [
    "c = np.array(c)\n",
    "acc = np.array(acc)"
   ]
  },
  {
   "cell_type": "code",
   "execution_count": 80,
   "metadata": {},
   "outputs": [
    {
     "data": {
      "image/png": "[encoded data removed]",
      "text/plain": [
       "<matplotlib.figure.Figure at 0x7f3de76945c0>"
      ]
     },
     "metadata": {
      "needs_background": "light"
     },
     "output_type": "display_data"
    }
   ],
   "source": [
    "from matplotlib import pyplot as plt\n",
    "\n",
    "# k_nums = list(result_dict.keys())\n",
    "# acc = list(data[0] for data in result_dict.values())\n",
    "# acc[0], acc[1], acc[2] = 0.979, acc[1], acc[0]\n",
    "# acc = [(i-0.095) * 100 for i in acc]\n",
    "\n",
    "c = c[:50]\n",
    "acc = acc[:50]\n",
    "\n",
    "plt.figure(figsize=(15, 4))\n",
    "plt.bar(c, acc)\n",
    "plt.ylim(92, 96)\n",
    "plt.xlim(0, 51)\n",
    "plt.xticks([i for i in range(1, 51, 2)])\n",
    "plt.yticks([i/10 for i in range(920, 960, 2)])\n",
    "plt.ylabel(\"Точность работы классификатора\")\n",
    "plt.xlabel(\"Параметр C\")\n",
    "plt.grid()\n",
    "plt.savefig(\"svm_acc.png\", dpi=300)"
   ]
  },
  {
   "cell_type": "code",
   "execution_count": 11,
   "metadata": {},
   "outputs": [],
   "source": [
    "clf = svm_clf"
   ]
  },
  {
   "cell_type": "markdown",
   "metadata": {},
   "source": [
    "[SVM](https://scikit-learn.org/stable/modules/svm.html)"
   ]
  },
  {
   "cell_type": "code",
   "execution_count": 6,
   "metadata": {},
   "outputs": [
    {
     "name": "stderr",
     "output_type": "stream",
     "text": [
      "/home/user/.local/lib/python3.6/site-packages/sklearn/svm/base.py:193: FutureWarning: The default value of gamma will change from 'auto' to 'scale' in version 0.22 to account better for unscaled features. Set gamma explicitly to 'auto' or 'scale' to avoid this warning.\n",
      "  \"avoid this warning.\", FutureWarning)\n"
     ]
    },
    {
     "data": {
      "text/plain": [
       "SVC(C=1.0, cache_size=200, class_weight=None, coef0=0.0,\n",
       "    decision_function_shape='ovr', degree=3, gamma='auto_deprecated',\n",
       "    kernel='rbf', max_iter=-1, probability=False, random_state=None,\n",
       "    shrinking=True, tol=0.001, verbose=False)"
      ]
     },
     "execution_count": 6,
     "metadata": {},
     "output_type": "execute_result"
    }
   ],
   "source": [
    "from sklearn import svm\n",
    "clf = svm.SVC()\n",
    "clf.fit(X_train, y_train)"
   ]
  },
  {
   "cell_type": "code",
   "execution_count": 12,
   "metadata": {},
   "outputs": [],
   "source": [
    "from sklearn import metrics\n",
    "y_pred = clf.predict(X_test)\n",
    "acc = metrics.accuracy_score(y_test, y_pred)\n"
   ]
  },
  {
   "cell_type": "code",
   "execution_count": 14,
   "metadata": {},
   "outputs": [
    {
     "data": {
      "text/plain": [
       "0.9473015873015873"
      ]
     },
     "execution_count": 14,
     "metadata": {},
     "output_type": "execute_result"
    }
   ],
   "source": [
    "acc"
   ]
  },
  {
   "cell_type": "code",
   "execution_count": 13,
   "metadata": {},
   "outputs": [
    {
     "data": {
      "text/plain": [
       "array([6])"
      ]
     },
     "execution_count": 13,
     "metadata": {},
     "output_type": "execute_result"
    }
   ],
   "source": [
    "clf.predict(X_test[0].reshape(1, -1))"
   ]
  },
  {
   "cell_type": "code",
   "execution_count": 13,
   "metadata": {},
   "outputs": [],
   "source": [
    "\n",
    "decode_labels_dict = {val: key for key, val in labels_dict.items()}\n",
    "\n",
    "def rescale_values(values: np.array):\n",
    "    min_val = np.min(values)\n",
    "    max_val = np.max(values)\n",
    "    delta = max_val - min_val\n",
    "    \n",
    "    values -= min_val\n",
    "    values /= delta\n",
    "    values *= 100\n",
    "    values[values < 0] = 0\n",
    "    return values\n",
    "    \n",
    "\n",
    "def rescale_pose(pose):\n",
    "    points = pose.points\n",
    "    xs = np.array([pt.x for pt in points])\n",
    "    ys = np.array([pt.y for pt in points])\n",
    "    xs = rescale_values(xs)\n",
    "    ys = rescale_values(ys)\n",
    "    rescaled_points = [Point(x, y) for x, y in zip(xs, ys)]\n",
    "    rescaled_pose = Pose(rescaled_points)\n",
    "    return rescaled_pose\n",
    "    \n",
    "\n",
    "def find_distance(pt1, pt2):\n",
    "    return np.sqrt((pt2.x - pt1.x)**2 + (pt2.y - pt1.y)**2)\n",
    "\n",
    "    \n",
    "def new_extract_features(pose, central_point_idx, specific_points):\n",
    "    assert central_point_idx not in specific_points\n",
    "    \n",
    "    rescaled_pose = rescale_pose(pose)\n",
    "    central_point = rescaled_pose.points[central_point_idx]\n",
    "    \n",
    "    features = []\n",
    "    \n",
    "    for current_points_idx in specific_points:\n",
    "        current_point = rescaled_pose.points[current_points_idx]\n",
    "\n",
    "        dx = central_point.x - current_point.x\n",
    "        dy = central_point.y - current_point.y\n",
    "    \n",
    "        features.append(dx)\n",
    "        features.append(dy)\n",
    "    \n",
    "    return np.array(features)\n",
    "\n",
    "\n",
    "import cv2\n",
    "    \n",
    "from src.PoseExtractor import PoseExtractor\n",
    "from src.visualization import *\n",
    "\n",
    "from src.data_processing.pose_utils import * \n",
    "\n",
    "def get_biggest_pose(poses):\n",
    "    max_distance = -1\n",
    "    biggest_pose = None\n",
    "    if len(poses):\n",
    "        for pose in poses:\n",
    "            pose_key_point1 = pose.points[1]\n",
    "            pose_key_point2 = pose.points[8]\n",
    "            if all(pose_key_point1.int_xy) and all(pose_key_point2.int_xy):\n",
    "                distance = get_distance_between_points(pose_key_point1, pose_key_point2)\n",
    "                if distance >= max_distance:\n",
    "                    max_distance = distance\n",
    "                    biggest_pose = pose\n",
    "        return biggest_pose\n",
    "    \n",
    "    \n",
    "    \n",
    "def signed_features_extraction(pose, central_point_idx, specific_points=None):\n",
    "    assert specific_points is not None, \"Udefined specific points!\"\n",
    "    central_point = pose.points[central_point_idx]\n",
    "    if central_point.x > 0 and central_point.y > 0: # if point detected. (if (0, 0) - hidden point)\n",
    "        xs = [pt.x for pt in pose.points]\n",
    "        ys = [pt.y for pt in pose.points]\n",
    "        \n",
    "        dxs = [central_point.x - x for x in xs]\n",
    "        dys = [central_point.y - y for y in ys]\n",
    "        \n",
    "        for i, (dx, dy) in enumerate(zip(dxs, dys)):\n",
    "            if dx == central_point.x and dy == central_point.y and i in specific_points:\n",
    "                return None\n",
    "\n",
    "        dxs -= np.mean(dxs)\n",
    "        dxs /= np.std(dxs)\n",
    "        dys -= np.mean(dys)\n",
    "        dys /= np.std(dys)\n",
    "                \n",
    "        features = []\n",
    "        for point_idx in specific_points:\n",
    "            features.append(dxs[point_idx])\n",
    "            features.append(dys[point_idx])\n",
    "        return np.array(features)\n",
    "    else:\n",
    "        return None\n",
    "    \n",
    "    \n",
    "cam = cv2.VideoCapture(0)\n",
    "pose_extractor = PoseExtractor()\n",
    "\n",
    "# top_pose_points = [0, 1, 2, 3, 4, 5, 6, 7, 8, 9, 12, 15, 16, 17, 18]\n",
    "top_pose_points = [0, 2, 3, 4, 5, 6, 7, 8, 9, 12, 15, 16, 17, 18]\n",
    "\n",
    "central_point_idx = 1\n",
    "normalize_features = False\n",
    "ignore_nan = True\n",
    "pose_rescaling = True\n",
    "\n",
    "while True:\n",
    "    ret, img = cam.read()\n",
    "    if not ret:\n",
    "        break\n",
    "    img_to_show = img.copy()\n",
    "    poses = pose_extractor.extract_poses_from_image(img)\n",
    "    biggest_pose = get_biggest_pose(poses)\n",
    "    img_to_show[:35, :250] = (255, 255, 255)\n",
    "    img_to_show[-30:, -100:] = (0, 0, 0)\n",
    "    cv2.putText(img_to_show, \"SVM\", (570, 475), cv2.FONT_HERSHEY_SIMPLEX, 0.8, (255, 255, 255), 2)\n",
    "\n",
    "    if biggest_pose is not None:\n",
    "\n",
    "        signed_f = signed_features_extraction(biggest_pose, central_point_idx, specific_points=top_pose_points)\n",
    "\n",
    "        features = new_extract_features(biggest_pose, 1, top_pose_points)\n",
    "        if features is not None and not any(np.isnan(features)):\n",
    "            prediction_result = clf.predict(features.reshape(1, -1))\n",
    "            gesture = decode_labels_dict[prediction_result[0]]\n",
    "            cv2.putText(img_to_show, gesture, (5, 28), cv2.FONT_HERSHEY_SIMPLEX, 0.8, (0, 40, 50), 2)\n",
    "\n",
    "        draw_pose(img_to_show, biggest_pose)    \n",
    "    cv2.namedWindow(\"img\", cv2.WINDOW_NORMAL)\n",
    "    cv2.imshow(\"img\", img_to_show)\n",
    "    k = cv2.waitKey(10)\n",
    "    if k & 0xFF == 27:\n",
    "        break\n",
    "\n",
    "        \n",
    "cv2.destroyAllWindows()\n",
    "cam.release()"
   ]
  }
 ],
 "metadata": {
  "kernelspec": {
   "display_name": "Python 3",
   "language": "python",
   "name": "python3"
  },
  "language_info": {
   "codemirror_mode": {
    "name": "ipython",
    "version": 3
   },
   "file_extension": ".py",
   "mimetype": "text/x-python",
   "name": "python",
   "nbconvert_exporter": "python",
   "pygments_lexer": "ipython3",
   "version": "3.6.9"
  }
 },
 "nbformat": 4,
 "nbformat_minor": 4
}
